{
 "cells": [
  {
   "cell_type": "markdown",
   "metadata": {},
   "source": [
    "# Buscando os dados para montar o banco de dados de empresas"
   ]
  },
  {
   "cell_type": "code",
   "execution_count": 1,
   "metadata": {},
   "outputs": [],
   "source": [
    "import requests\n",
    "import string\n",
    "import config as cfg"
   ]
  },
  {
   "cell_type": "code",
   "execution_count": 2,
   "metadata": {},
   "outputs": [
    {
     "name": "stdout",
     "output_type": "stream",
     "text": [
      "Buscando dados da letra A\n",
      "Salvando o arquivo da letra A\n",
      "Buscando dados da letra B\n",
      "Salvando o arquivo da letra B\n",
      "Buscando dados da letra C\n",
      "Salvando o arquivo da letra C\n",
      "Buscando dados da letra D\n",
      "Salvando o arquivo da letra D\n",
      "Buscando dados da letra E\n",
      "Salvando o arquivo da letra E\n",
      "Buscando dados da letra F\n",
      "Salvando o arquivo da letra F\n",
      "Buscando dados da letra G\n",
      "Salvando o arquivo da letra G\n",
      "Buscando dados da letra H\n",
      "Salvando o arquivo da letra H\n",
      "Buscando dados da letra I\n",
      "Salvando o arquivo da letra I\n",
      "Buscando dados da letra J\n",
      "Salvando o arquivo da letra J\n",
      "Buscando dados da letra K\n",
      "Salvando o arquivo da letra K\n",
      "Buscando dados da letra L\n",
      "Salvando o arquivo da letra L\n",
      "Buscando dados da letra M\n",
      "Salvando o arquivo da letra M\n",
      "Buscando dados da letra N\n",
      "Salvando o arquivo da letra N\n",
      "Buscando dados da letra O\n",
      "Salvando o arquivo da letra O\n",
      "Buscando dados da letra P\n",
      "Salvando o arquivo da letra P\n",
      "Buscando dados da letra Q\n",
      "Salvando o arquivo da letra Q\n",
      "Buscando dados da letra R\n",
      "Salvando o arquivo da letra R\n",
      "Buscando dados da letra S\n",
      "Salvando o arquivo da letra S\n",
      "Buscando dados da letra T\n",
      "Salvando o arquivo da letra T\n",
      "Buscando dados da letra U\n",
      "Salvando o arquivo da letra U\n",
      "Buscando dados da letra V\n",
      "Salvando o arquivo da letra V\n",
      "Buscando dados da letra W\n",
      "Salvando o arquivo da letra W\n",
      "Buscando dados da letra X\n",
      "Salvando o arquivo da letra X\n",
      "Buscando dados da letra Y\n",
      "Salvando o arquivo da letra Y\n",
      "Buscando dados da letra Z\n",
      "Salvando o arquivo da letra Z\n"
     ]
    }
   ],
   "source": [
    "url = \"https://cvmweb.cvm.gov.br/SWB/Sistemas/SCW/CPublica/CiaAb/FormBuscaCiaAbOrdAlf.aspx\"\n",
    "\n",
    "alfabeto = list(string.ascii_uppercase)\n",
    "template_file_name = string.Template(cfg.ARQUIVO_DADOS_EMPRESA_TEMPLATE)\n",
    "\n",
    "for letra in alfabeto:\n",
    "    params = {\n",
    "        \"LetraInicial\": letra\n",
    "    }\n",
    "\n",
    "    print(\"Buscando dados da letra \" + letra)\n",
    "    response = requests.get(url, params=params)\n",
    "\n",
    "    if response.status_code == 200:\n",
    "        print(\"Salvando o arquivo da letra \" + letra)\n",
    "        with open(template_file_name.substitute(letra=letra), \"w\") as file:\n",
    "            file.write(response.text)\n"
   ]
  }
 ],
 "metadata": {
  "kernelspec": {
   "display_name": "btc-rv",
   "language": "python",
   "name": "python3"
  },
  "language_info": {
   "codemirror_mode": {
    "name": "ipython",
    "version": 3
   },
   "file_extension": ".py",
   "mimetype": "text/x-python",
   "name": "python",
   "nbconvert_exporter": "python",
   "pygments_lexer": "ipython3",
   "version": "3.10.10"
  },
  "orig_nbformat": 4
 },
 "nbformat": 4,
 "nbformat_minor": 2
}
