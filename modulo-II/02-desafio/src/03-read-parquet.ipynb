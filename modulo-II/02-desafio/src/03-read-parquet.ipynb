{
 "cells": [
  {
   "cell_type": "code",
   "execution_count": 3,
   "metadata": {},
   "outputs": [],
   "source": [
    "import pandas as pd\n",
    "import config as cfg"
   ]
  },
  {
   "cell_type": "code",
   "execution_count": 4,
   "metadata": {},
   "outputs": [
    {
     "data": {
      "text/html": [
       "<div>\n",
       "<style scoped>\n",
       "    .dataframe tbody tr th:only-of-type {\n",
       "        vertical-align: middle;\n",
       "    }\n",
       "\n",
       "    .dataframe tbody tr th {\n",
       "        vertical-align: top;\n",
       "    }\n",
       "\n",
       "    .dataframe thead th {\n",
       "        text-align: right;\n",
       "    }\n",
       "</style>\n",
       "<table border=\"1\" class=\"dataframe\">\n",
       "  <thead>\n",
       "    <tr style=\"text-align: right;\">\n",
       "      <th></th>\n",
       "      <th>CODIGO_CVM</th>\n",
       "      <th>NOME</th>\n",
       "      <th>TIPO_PARTICIPANTE</th>\n",
       "      <th>CNPJ</th>\n",
       "      <th>SITUACAO</th>\n",
       "      <th>DATA_ATUALIZACAO</th>\n",
       "    </tr>\n",
       "  </thead>\n",
       "  <tbody>\n",
       "    <tr>\n",
       "      <th>1</th>\n",
       "      <td>505480</td>\n",
       "      <td>A C M AGRICOLA SA</td>\n",
       "      <td>CIAS INCENTIVADAS REGISTRADAS</td>\n",
       "      <td>31.694.680/0001-14</td>\n",
       "      <td>Cancelado</td>\n",
       "      <td>2008-11-19</td>\n",
       "    </tr>\n",
       "    <tr>\n",
       "      <th>2</th>\n",
       "      <td>502316</td>\n",
       "      <td>A G HOTEIS E TURISMO SA</td>\n",
       "      <td>CIAS INCENTIVADAS REGISTRADAS</td>\n",
       "      <td>08.690.448/0001-96</td>\n",
       "      <td>Cancelado</td>\n",
       "      <td>2007-08-24</td>\n",
       "    </tr>\n",
       "    <tr>\n",
       "      <th>3</th>\n",
       "      <td>35</td>\n",
       "      <td>A J RENNER SA IND E PARTIP</td>\n",
       "      <td>CIAS ABERTAS</td>\n",
       "      <td>92.659.614/0001-06</td>\n",
       "      <td>Cancelado</td>\n",
       "      <td>1998-06-17</td>\n",
       "    </tr>\n",
       "    <tr>\n",
       "      <th>4</th>\n",
       "      <td>504076</td>\n",
       "      <td>A M FIDALGO SA MAT DE CONSTR</td>\n",
       "      <td>CIAS INCENTIVADAS REGISTRADAS</td>\n",
       "      <td>04.895.165/0001-20</td>\n",
       "      <td>Cancelado</td>\n",
       "      <td>2008-09-28</td>\n",
       "    </tr>\n",
       "    <tr>\n",
       "      <th>5</th>\n",
       "      <td>503592</td>\n",
       "      <td>A O GASPAR INDS SA</td>\n",
       "      <td>CIAS INCENTIVADAS REGISTRADAS</td>\n",
       "      <td>06.932.909/0001-64</td>\n",
       "      <td>Cancelado</td>\n",
       "      <td>2012-02-14</td>\n",
       "    </tr>\n",
       "  </tbody>\n",
       "</table>\n",
       "</div>"
      ],
      "text/plain": [
       "   CODIGO_CVM                          NOME              TIPO_PARTICIPANTE  \\\n",
       "1      505480             A C M AGRICOLA SA  CIAS INCENTIVADAS REGISTRADAS   \n",
       "2      502316       A G HOTEIS E TURISMO SA  CIAS INCENTIVADAS REGISTRADAS   \n",
       "3          35    A J RENNER SA IND E PARTIP                   CIAS ABERTAS   \n",
       "4      504076  A M FIDALGO SA MAT DE CONSTR  CIAS INCENTIVADAS REGISTRADAS   \n",
       "5      503592            A O GASPAR INDS SA  CIAS INCENTIVADAS REGISTRADAS   \n",
       "\n",
       "                 CNPJ   SITUACAO DATA_ATUALIZACAO  \n",
       "1  31.694.680/0001-14  Cancelado       2008-11-19  \n",
       "2  08.690.448/0001-96  Cancelado       2007-08-24  \n",
       "3  92.659.614/0001-06  Cancelado       1998-06-17  \n",
       "4  04.895.165/0001-20  Cancelado       2008-09-28  \n",
       "5  06.932.909/0001-64  Cancelado       2012-02-14  "
      ]
     },
     "execution_count": 4,
     "metadata": {},
     "output_type": "execute_result"
    }
   ],
   "source": [
    "df = pd.read_parquet(cfg.PARQUET_DADOS_EMPRESA_CVM)\n",
    "\n",
    "df.head()"
   ]
  }
 ],
 "metadata": {
  "kernelspec": {
   "display_name": "btc-rv",
   "language": "python",
   "name": "python3"
  },
  "language_info": {
   "codemirror_mode": {
    "name": "ipython",
    "version": 3
   },
   "file_extension": ".py",
   "mimetype": "text/x-python",
   "name": "python",
   "nbconvert_exporter": "python",
   "pygments_lexer": "ipython3",
   "version": "3.10.10"
  },
  "orig_nbformat": 4
 },
 "nbformat": 4,
 "nbformat_minor": 2
}
