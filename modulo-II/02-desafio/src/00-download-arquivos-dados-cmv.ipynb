{
 "cells": [
  {
   "attachments": {},
   "cell_type": "markdown",
   "metadata": {},
   "source": [
    "# Buscando dados do portal de dados da CVM\n",
    "\n",
    "## 1. Fontes\n",
    "\n",
    "Os dados financeiros da CVM podem ser extraídos do portal Dados Abertos da CVM <https://dados.cvm.gov.br/>."
   ]
  },
  {
   "cell_type": "code",
   "execution_count": 1,
   "metadata": {},
   "outputs": [],
   "source": [
    "import config as cfg\n",
    "import helpers as hlp"
   ]
  },
  {
   "cell_type": "markdown",
   "metadata": {},
   "source": [
    "## 2. Dados cadastrais de Cias Abertas\n",
    "\n",
    "Fonte: <https://dados.cvm.gov.br/dataset/cia_aberta-cad>"
   ]
  },
  {
   "cell_type": "code",
   "execution_count": 2,
   "metadata": {},
   "outputs": [
    {
     "name": "stdout",
     "output_type": "stream",
     "text": [
      "File 'meta_cad_cia_aberta.txt' downloaded and saved as UTF-8 to '../00-dados-brutos/dados_cvm/meta_cad_cia_aberta.txt'\n",
      "File 'cad_cia_aberta.csv' downloaded and saved as UTF-8 to '../00-dados-brutos/dados_cvm/cad_cia_aberta.csv'\n"
     ]
    }
   ],
   "source": [
    "file_name, full_local_path = hlp.download_and_save_file(\"https://dados.cvm.gov.br/dados/CIA_ABERTA/CAD/META/meta_cad_cia_aberta.txt\",cfg.PATH_DADOS_BRUTOS_EMPRESAS_CVM)\n",
    "print(f\"File '{file_name}' downloaded and saved as UTF-8 to '{full_local_path}'\")\n",
    "\n",
    "file_name, full_local_path = hlp.download_and_save_file(\"https://dados.cvm.gov.br/dados/CIA_ABERTA/CAD/DADOS/cad_cia_aberta.csv\",cfg.PATH_DADOS_BRUTOS_EMPRESAS_CVM)\n",
    "print(f\"File '{file_name}' downloaded and saved as UTF-8 to '{full_local_path}'\")"
   ]
  },
  {
   "cell_type": "code",
   "execution_count": null,
   "metadata": {},
   "outputs": [],
   "source": []
  }
 ],
 "metadata": {
  "kernelspec": {
   "display_name": "btc-rv",
   "language": "python",
   "name": "python3"
  },
  "language_info": {
   "codemirror_mode": {
    "name": "ipython",
    "version": 3
   },
   "file_extension": ".py",
   "mimetype": "text/x-python",
   "name": "python",
   "nbconvert_exporter": "python",
   "pygments_lexer": "ipython3",
   "version": "3.10.10"
  },
  "orig_nbformat": 4
 },
 "nbformat": 4,
 "nbformat_minor": 2
}
