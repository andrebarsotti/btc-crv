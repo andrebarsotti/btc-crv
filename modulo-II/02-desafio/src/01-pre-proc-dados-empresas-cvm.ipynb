{
 "cells": [
  {
   "attachments": {},
   "cell_type": "markdown",
   "metadata": {},
   "source": [
    "# Pré-processando os dados das empresas"
   ]
  },
  {
   "cell_type": "code",
   "execution_count": 1,
   "metadata": {},
   "outputs": [],
   "source": [
    "import bs4\n",
    "import string\n",
    "import pandas as pd\n",
    "import config as cfg"
   ]
  },
  {
   "cell_type": "code",
   "execution_count": 2,
   "metadata": {},
   "outputs": [
    {
     "name": "stdout",
     "output_type": "stream",
     "text": [
      "Processando a letra A\n",
      "Processando a letra B\n",
      "Processando a letra C\n",
      "Processando a letra D\n",
      "Processando a letra E\n",
      "Processando a letra F\n",
      "Processando a letra G\n",
      "Processando a letra H\n",
      "Processando a letra I\n",
      "Processando a letra J\n",
      "Processando a letra K\n",
      "Processando a letra L\n",
      "Processando a letra M\n",
      "Processando a letra N\n",
      "Processando a letra O\n",
      "Processando a letra P\n",
      "Processando a letra Q\n",
      "Processando a letra R\n",
      "Processando a letra S\n",
      "Processando a letra T\n",
      "Processando a letra U\n",
      "Processando a letra V\n",
      "Processando a letra W\n",
      "Processando a letra X\n",
      "Processando a letra Y\n",
      "Processando a letra Z\n"
     ]
    }
   ],
   "source": [
    "alfabeto = list(string.ascii_uppercase)\n",
    "template_file_name = string.Template(cfg.ARQUIVO_DADOS_EMPRESA_TEMPLATE)\n",
    "\n",
    "df_empresas = pd.DataFrame()\n",
    "\n",
    "for letra in alfabeto:\n",
    "    print(\"Processando a letra \" + letra)\n",
    "    with open(template_file_name.substitute(letra=letra)) as file:\n",
    "        html_content = file.read()\n",
    "\n",
    "    soup = bs4.BeautifulSoup(html_content, 'html.parser')\n",
    "\n",
    "    table = soup.find(\"table\", {\"id\": \"dlCiasCdCVM\"})\n",
    "\n",
    "    if table is not None:\n",
    "        df_letra = pd.read_html(str(table))[0]\n",
    "        columns = df_letra.iloc[0].to_list()\n",
    "        df_letra.columns = columns\n",
    "        df_letra.drop(0, inplace=True)\n",
    "        df_empresas = pd.concat([df_empresas,df_letra], ignore_index=True)\n",
    "    "
   ]
  },
  {
   "cell_type": "code",
   "execution_count": 3,
   "metadata": {},
   "outputs": [
    {
     "name": "stdout",
     "output_type": "stream",
     "text": [
      "<class 'pandas.core.frame.DataFrame'>\n",
      "RangeIndex: 4616 entries, 0 to 4615\n",
      "Data columns (total 5 columns):\n",
      " #   Column                Non-Null Count  Dtype \n",
      "---  ------                --------------  ----- \n",
      " 0   CNPJ                  4616 non-null   object\n",
      " 1   NOME                  4616 non-null   object\n",
      " 2   TIPO DE PARTICIPANTE  4616 non-null   object\n",
      " 3   CÓDIGO CVM            4616 non-null   object\n",
      " 4   SITUAÇÃO REGISTRO     4616 non-null   object\n",
      "dtypes: object(5)\n",
      "memory usage: 180.4+ KB\n"
     ]
    }
   ],
   "source": [
    "df_empresas.info()"
   ]
  },
  {
   "cell_type": "code",
   "execution_count": 4,
   "metadata": {},
   "outputs": [
    {
     "data": {
      "text/html": [
       "<div>\n",
       "<style scoped>\n",
       "    .dataframe tbody tr th:only-of-type {\n",
       "        vertical-align: middle;\n",
       "    }\n",
       "\n",
       "    .dataframe tbody tr th {\n",
       "        vertical-align: top;\n",
       "    }\n",
       "\n",
       "    .dataframe thead th {\n",
       "        text-align: right;\n",
       "    }\n",
       "</style>\n",
       "<table border=\"1\" class=\"dataframe\">\n",
       "  <thead>\n",
       "    <tr style=\"text-align: right;\">\n",
       "      <th></th>\n",
       "      <th>CNPJ</th>\n",
       "      <th>NOME</th>\n",
       "      <th>TIPO DE PARTICIPANTE</th>\n",
       "      <th>CÓDIGO CVM</th>\n",
       "      <th>SITUAÇÃO REGISTRO</th>\n",
       "    </tr>\n",
       "  </thead>\n",
       "  <tbody>\n",
       "    <tr>\n",
       "      <th>0</th>\n",
       "      <td>31.694.680/0001-14</td>\n",
       "      <td>A C M AGRICOLA SA</td>\n",
       "      <td>CIAS INCENTIVADAS REGISTRADAS</td>\n",
       "      <td>505480</td>\n",
       "      <td>Cancelado em 19/11/2008</td>\n",
       "    </tr>\n",
       "    <tr>\n",
       "      <th>1</th>\n",
       "      <td>08.690.448/0001-96</td>\n",
       "      <td>A G HOTEIS E TURISMO SA</td>\n",
       "      <td>CIAS INCENTIVADAS REGISTRADAS</td>\n",
       "      <td>502316</td>\n",
       "      <td>Cancelado em 24/08/2007</td>\n",
       "    </tr>\n",
       "    <tr>\n",
       "      <th>2</th>\n",
       "      <td>92.659.614/0001-06</td>\n",
       "      <td>A J RENNER SA IND E PARTIP</td>\n",
       "      <td>CIAS ABERTAS</td>\n",
       "      <td>35</td>\n",
       "      <td>Cancelado em 17/06/1998</td>\n",
       "    </tr>\n",
       "    <tr>\n",
       "      <th>3</th>\n",
       "      <td>04.895.165/0001-20</td>\n",
       "      <td>A M FIDALGO SA MAT DE CONSTR</td>\n",
       "      <td>CIAS INCENTIVADAS REGISTRADAS</td>\n",
       "      <td>504076</td>\n",
       "      <td>Cancelado em 28/09/2008</td>\n",
       "    </tr>\n",
       "    <tr>\n",
       "      <th>4</th>\n",
       "      <td>06.932.909/0001-64</td>\n",
       "      <td>A O GASPAR INDS SA</td>\n",
       "      <td>CIAS INCENTIVADAS REGISTRADAS</td>\n",
       "      <td>503592</td>\n",
       "      <td>Cancelado em 14/02/2012</td>\n",
       "    </tr>\n",
       "  </tbody>\n",
       "</table>\n",
       "</div>"
      ],
      "text/plain": [
       "                 CNPJ                          NOME  \\\n",
       "0  31.694.680/0001-14             A C M AGRICOLA SA   \n",
       "1  08.690.448/0001-96       A G HOTEIS E TURISMO SA   \n",
       "2  92.659.614/0001-06    A J RENNER SA IND E PARTIP   \n",
       "3  04.895.165/0001-20  A M FIDALGO SA MAT DE CONSTR   \n",
       "4  06.932.909/0001-64            A O GASPAR INDS SA   \n",
       "\n",
       "            TIPO DE PARTICIPANTE CÓDIGO CVM        SITUAÇÃO REGISTRO  \n",
       "0  CIAS INCENTIVADAS REGISTRADAS     505480  Cancelado em 19/11/2008  \n",
       "1  CIAS INCENTIVADAS REGISTRADAS     502316  Cancelado em 24/08/2007  \n",
       "2                   CIAS ABERTAS         35  Cancelado em 17/06/1998  \n",
       "3  CIAS INCENTIVADAS REGISTRADAS     504076  Cancelado em 28/09/2008  \n",
       "4  CIAS INCENTIVADAS REGISTRADAS     503592  Cancelado em 14/02/2012  "
      ]
     },
     "execution_count": 4,
     "metadata": {},
     "output_type": "execute_result"
    }
   ],
   "source": [
    "df_empresas.head()"
   ]
  },
  {
   "cell_type": "code",
   "execution_count": 6,
   "metadata": {},
   "outputs": [],
   "source": [
    "df_empresas.to_csv(cfg.ARQUIVO_DADOS_EMPRESA_CVM, index=False)"
   ]
  }
 ],
 "metadata": {
  "kernelspec": {
   "display_name": "btc-rv",
   "language": "python",
   "name": "python3"
  },
  "language_info": {
   "codemirror_mode": {
    "name": "ipython",
    "version": 3
   },
   "file_extension": ".py",
   "mimetype": "text/x-python",
   "name": "python",
   "nbconvert_exporter": "python",
   "pygments_lexer": "ipython3",
   "version": "3.10.10"
  },
  "orig_nbformat": 4
 },
 "nbformat": 4,
 "nbformat_minor": 2
}
