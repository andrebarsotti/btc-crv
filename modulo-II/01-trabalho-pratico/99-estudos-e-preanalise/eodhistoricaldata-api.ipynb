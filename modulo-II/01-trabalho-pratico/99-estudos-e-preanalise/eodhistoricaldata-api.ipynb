{
 "cells": [
  {
   "attachments": {},
   "cell_type": "markdown",
   "metadata": {},
   "source": [
    "# Buscando dados históricos da api eodhistoricaldata.com\n",
    "\n",
    "Fonte da biblioteca: <https://github.com/LautaroParada/eod-data>\n",
    "\n",
    "Exemplo de uso: <https://eodhistoricaldata.com/financial-academy/how-to-get-stocks-data-examples/eod-historical-data-api-python-library-overview/>"
   ]
  },
  {
   "cell_type": "code",
   "execution_count": 1,
   "metadata": {},
   "outputs": [
    {
     "data": {
      "text/html": [
       "<div>\n",
       "<style scoped>\n",
       "    .dataframe tbody tr th:only-of-type {\n",
       "        vertical-align: middle;\n",
       "    }\n",
       "\n",
       "    .dataframe tbody tr th {\n",
       "        vertical-align: top;\n",
       "    }\n",
       "\n",
       "    .dataframe thead th {\n",
       "        text-align: right;\n",
       "    }\n",
       "</style>\n",
       "<table border=\"1\" class=\"dataframe\">\n",
       "  <thead>\n",
       "    <tr style=\"text-align: right;\">\n",
       "      <th></th>\n",
       "      <th>date</th>\n",
       "      <th>open</th>\n",
       "      <th>high</th>\n",
       "      <th>low</th>\n",
       "      <th>close</th>\n",
       "      <th>adjusted_close</th>\n",
       "      <th>volume</th>\n",
       "    </tr>\n",
       "  </thead>\n",
       "  <tbody>\n",
       "    <tr>\n",
       "      <th>0</th>\n",
       "      <td>2023-03-31</td>\n",
       "      <td>162.44</td>\n",
       "      <td>165.00</td>\n",
       "      <td>162.13</td>\n",
       "      <td>164.90</td>\n",
       "      <td>164.90</td>\n",
       "      <td>68749792</td>\n",
       "    </tr>\n",
       "    <tr>\n",
       "      <th>1</th>\n",
       "      <td>2023-03-30</td>\n",
       "      <td>161.53</td>\n",
       "      <td>162.47</td>\n",
       "      <td>161.27</td>\n",
       "      <td>162.36</td>\n",
       "      <td>162.36</td>\n",
       "      <td>49501700</td>\n",
       "    </tr>\n",
       "    <tr>\n",
       "      <th>2</th>\n",
       "      <td>2023-03-29</td>\n",
       "      <td>159.37</td>\n",
       "      <td>161.05</td>\n",
       "      <td>159.35</td>\n",
       "      <td>160.77</td>\n",
       "      <td>160.77</td>\n",
       "      <td>51305700</td>\n",
       "    </tr>\n",
       "    <tr>\n",
       "      <th>3</th>\n",
       "      <td>2023-03-28</td>\n",
       "      <td>157.97</td>\n",
       "      <td>158.49</td>\n",
       "      <td>155.98</td>\n",
       "      <td>157.65</td>\n",
       "      <td>157.65</td>\n",
       "      <td>45992200</td>\n",
       "    </tr>\n",
       "    <tr>\n",
       "      <th>4</th>\n",
       "      <td>2023-03-27</td>\n",
       "      <td>159.94</td>\n",
       "      <td>160.77</td>\n",
       "      <td>157.87</td>\n",
       "      <td>158.28</td>\n",
       "      <td>158.28</td>\n",
       "      <td>52390300</td>\n",
       "    </tr>\n",
       "  </tbody>\n",
       "</table>\n",
       "</div>"
      ],
      "text/plain": [
       "         date    open    high     low   close  adjusted_close    volume\n",
       "0  2023-03-31  162.44  165.00  162.13  164.90          164.90  68749792\n",
       "1  2023-03-30  161.53  162.47  161.27  162.36          162.36  49501700\n",
       "2  2023-03-29  159.37  161.05  159.35  160.77          160.77  51305700\n",
       "3  2023-03-28  157.97  158.49  155.98  157.65          157.65  45992200\n",
       "4  2023-03-27  159.94  160.77  157.87  158.28          158.28  52390300"
      ]
     },
     "execution_count": 1,
     "metadata": {},
     "output_type": "execute_result"
    }
   ],
   "source": [
    "from eod import EodHistoricalData\n",
    "import pandas as pd\n",
    "\n",
    "client = EodHistoricalData(\"demo\")\n",
    "\n",
    "\n",
    "stock = client.get_prices_eod(\"AAPL.US\", period='d', order='d')\n",
    "\n",
    "df = pd.DataFrame(stock)\n",
    "\n",
    "df.head()"
   ]
  },
  {
   "cell_type": "code",
   "execution_count": 2,
   "metadata": {},
   "outputs": [
    {
     "name": "stdout",
     "output_type": "stream",
     "text": [
      "<class 'pandas.core.frame.DataFrame'>\n",
      "RangeIndex: 10665 entries, 0 to 10664\n",
      "Data columns (total 7 columns):\n",
      " #   Column          Non-Null Count  Dtype  \n",
      "---  ------          --------------  -----  \n",
      " 0   date            10665 non-null  object \n",
      " 1   open            10665 non-null  float64\n",
      " 2   high            10665 non-null  float64\n",
      " 3   low             10665 non-null  float64\n",
      " 4   close           10665 non-null  float64\n",
      " 5   adjusted_close  10665 non-null  float64\n",
      " 6   volume          10665 non-null  int64  \n",
      "dtypes: float64(5), int64(1), object(1)\n",
      "memory usage: 583.4+ KB\n"
     ]
    }
   ],
   "source": [
    "df.info()"
   ]
  }
 ],
 "metadata": {
  "kernelspec": {
   "display_name": "base",
   "language": "python",
   "name": "python3"
  },
  "language_info": {
   "codemirror_mode": {
    "name": "ipython",
    "version": 3
   },
   "file_extension": ".py",
   "mimetype": "text/x-python",
   "name": "python",
   "nbconvert_exporter": "python",
   "pygments_lexer": "ipython3",
   "version": "3.10.9"
  },
  "orig_nbformat": 4,
  "vscode": {
   "interpreter": {
    "hash": "1a0ca82fe72f7b6dcc59f88ce1601f3112cb58c024b4d57901a90c4fbc3fa1c5"
   }
  }
 },
 "nbformat": 4,
 "nbformat_minor": 2
}
