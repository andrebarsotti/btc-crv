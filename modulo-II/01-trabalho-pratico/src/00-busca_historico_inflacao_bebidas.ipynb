{
 "cells": [
  {
   "attachments": {},
   "cell_type": "markdown",
   "metadata": {},
   "source": [
    "# Buscando os dados da inflação ao produtor\n",
    "\n",
    "Foi localizado o IPP (Índice de Preços ao Produtor), tabela 6903, com cuja classificação 842\\[46618\\] refere-se à inflação dos ensumos da Fabricação de Bebidas.\n",
    "\n",
    "Fonte: <https://sidra.ibge.gov.br/tabela/6903>"
   ]
  },
  {
   "cell_type": "code",
   "execution_count": 1,
   "metadata": {},
   "outputs": [],
   "source": [
    "import requests\n",
    "import configs"
   ]
  },
  {
   "cell_type": "code",
   "execution_count": 2,
   "metadata": {},
   "outputs": [
    {
     "name": "stdout",
     "output_type": "stream",
     "text": [
      "Arquivo com os períodos da cotação histórica salvo.\n"
     ]
    }
   ],
   "source": [
    "url = \"https://servicodados.ibge.gov.br/api/v3/agregados/6903/periodos\"\n",
    "\n",
    "response = requests.get(url)\n",
    "\n",
    "if response.status_code == 200:\n",
    "    periodos_ipp = response.text\n",
    "\n",
    "    with open(configs.ARQUIVO_DADOS_PERIODO_IPP, \"w\") as file:\n",
    "        file.write(periodos_ipp)\n",
    "    \n",
    "    print(\"Arquivo com os períodos da cotação histórica salvo.\")\n",
    "else:\n",
    "    print(f\"Error retrieving file. Status code: {response.status_code}\")"
   ]
  },
  {
   "cell_type": "code",
   "execution_count": 4,
   "metadata": {},
   "outputs": [
    {
     "name": "stdout",
     "output_type": "stream",
     "text": [
      "Arquivo com a cotação histórica salvo.\n"
     ]
    }
   ],
   "source": [
    "url = \"https://servicodados.ibge.gov.br/api/v3/agregados/6903/periodos/all/variaveis/all\"\n",
    "\n",
    "params = {    \n",
    "    \"localidades\": \"N1[all]\",\n",
    "    \"classificacao\": \"842[46618]\"\n",
    "}\n",
    "\n",
    "response = requests.get(url, params)\n",
    "\n",
    "if response.status_code == 200:\n",
    "    periodos_ipp = response.text\n",
    "\n",
    "    with open(configs.ARQUIVO_DADOS_IPP_BEBIDAS, \"w\") as file:\n",
    "        file.write(periodos_ipp)\n",
    "    \n",
    "    print(\"Arquivo com a cotação histórica salvo.\")\n",
    "else:\n",
    "    print(f\"Error retrieving file. Status code: {response.status_code}\")"
   ]
  }
 ],
 "metadata": {
  "kernelspec": {
   "display_name": "base",
   "language": "python",
   "name": "python3"
  },
  "language_info": {
   "codemirror_mode": {
    "name": "ipython",
    "version": 3
   },
   "file_extension": ".py",
   "mimetype": "text/x-python",
   "name": "python",
   "nbconvert_exporter": "python",
   "pygments_lexer": "ipython3",
   "version": "3.10.9"
  },
  "orig_nbformat": 4
 },
 "nbformat": 4,
 "nbformat_minor": 2
}
