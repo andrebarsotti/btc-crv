{
 "cells": [
  {
   "attachments": {},
   "cell_type": "markdown",
   "metadata": {},
   "source": [
    "# Salvando os dados históricos da inflação ao produtor de bebidas no banco de dados.\n",
    "\n"
   ]
  },
  {
   "cell_type": "code",
   "execution_count": 1,
   "metadata": {},
   "outputs": [],
   "source": [
    "import pandas as pd\n",
    "import sqlite3\n",
    "import json\n",
    "\n",
    "import configs as cfg\n",
    "import helpers as hlp"
   ]
  },
  {
   "cell_type": "code",
   "execution_count": 2,
   "metadata": {},
   "outputs": [],
   "source": [
    "with open(cfg.ARQUIVO_DADOS_IPP_BEBIDAS, 'r') as file:\n",
    "    json_ipp = json.load(file)"
   ]
  },
  {
   "cell_type": "code",
   "execution_count": 3,
   "metadata": {},
   "outputs": [
    {
     "data": {
      "text/html": [
       "<div>\n",
       "<style scoped>\n",
       "    .dataframe tbody tr th:only-of-type {\n",
       "        vertical-align: middle;\n",
       "    }\n",
       "\n",
       "    .dataframe tbody tr th {\n",
       "        vertical-align: top;\n",
       "    }\n",
       "\n",
       "    .dataframe thead th {\n",
       "        text-align: right;\n",
       "    }\n",
       "</style>\n",
       "<table border=\"1\" class=\"dataframe\">\n",
       "  <thead>\n",
       "    <tr style=\"text-align: right;\">\n",
       "      <th></th>\n",
       "      <th>id</th>\n",
       "      <th>variavel</th>\n",
       "      <th>unidade</th>\n",
       "      <th>resultados</th>\n",
       "    </tr>\n",
       "  </thead>\n",
       "  <tbody>\n",
       "    <tr>\n",
       "      <th>0</th>\n",
       "      <td>1396</td>\n",
       "      <td>IPP - Variação mês/mês imediatamente anterior ...</td>\n",
       "      <td></td>\n",
       "      <td>[{'classificacoes': [{'id': '842', 'nome': 'In...</td>\n",
       "    </tr>\n",
       "    <tr>\n",
       "      <th>1</th>\n",
       "      <td>1395</td>\n",
       "      <td>IPP - Variação acumulada no ano (em relação a ...</td>\n",
       "      <td></td>\n",
       "      <td>[{'classificacoes': [{'id': '842', 'nome': 'In...</td>\n",
       "    </tr>\n",
       "    <tr>\n",
       "      <th>2</th>\n",
       "      <td>1394</td>\n",
       "      <td>IPP - Variação mês/mesmo mês do ano anterior (...</td>\n",
       "      <td></td>\n",
       "      <td>[{'classificacoes': [{'id': '842', 'nome': 'In...</td>\n",
       "    </tr>\n",
       "    <tr>\n",
       "      <th>3</th>\n",
       "      <td>10008</td>\n",
       "      <td>IPP - Número-índice (dezembro de 2018 = 100)</td>\n",
       "      <td>Número-índice</td>\n",
       "      <td>[{'classificacoes': [{'id': '842', 'nome': 'In...</td>\n",
       "    </tr>\n",
       "  </tbody>\n",
       "</table>\n",
       "</div>"
      ],
      "text/plain": [
       "      id                                           variavel        unidade  \\\n",
       "0   1396  IPP - Variação mês/mês imediatamente anterior ...                  \n",
       "1   1395  IPP - Variação acumulada no ano (em relação a ...                  \n",
       "2   1394  IPP - Variação mês/mesmo mês do ano anterior (...                  \n",
       "3  10008       IPP - Número-índice (dezembro de 2018 = 100)  Número-índice   \n",
       "\n",
       "                                          resultados  \n",
       "0  [{'classificacoes': [{'id': '842', 'nome': 'In...  \n",
       "1  [{'classificacoes': [{'id': '842', 'nome': 'In...  \n",
       "2  [{'classificacoes': [{'id': '842', 'nome': 'In...  \n",
       "3  [{'classificacoes': [{'id': '842', 'nome': 'In...  "
      ]
     },
     "execution_count": 3,
     "metadata": {},
     "output_type": "execute_result"
    }
   ],
   "source": [
    "list_data = pd.DataFrame(json_ipp)\n",
    "\n",
    "list_data.head()"
   ]
  },
  {
   "attachments": {},
   "cell_type": "markdown",
   "metadata": {},
   "source": [
    "## Montando Data Frame das variações mês-a-mês"
   ]
  },
  {
   "cell_type": "code",
   "execution_count": 4,
   "metadata": {},
   "outputs": [
    {
     "data": {
      "text/html": [
       "<div>\n",
       "<style scoped>\n",
       "    .dataframe tbody tr th:only-of-type {\n",
       "        vertical-align: middle;\n",
       "    }\n",
       "\n",
       "    .dataframe tbody tr th {\n",
       "        vertical-align: top;\n",
       "    }\n",
       "\n",
       "    .dataframe thead th {\n",
       "        text-align: right;\n",
       "    }\n",
       "</style>\n",
       "<table border=\"1\" class=\"dataframe\">\n",
       "  <thead>\n",
       "    <tr style=\"text-align: right;\">\n",
       "      <th></th>\n",
       "      <th>id_mes</th>\n",
       "      <th>var_mes</th>\n",
       "    </tr>\n",
       "  </thead>\n",
       "  <tbody>\n",
       "    <tr>\n",
       "      <th>0</th>\n",
       "      <td>200912</td>\n",
       "      <td>...</td>\n",
       "    </tr>\n",
       "    <tr>\n",
       "      <th>1</th>\n",
       "      <td>201001</td>\n",
       "      <td>0.80</td>\n",
       "    </tr>\n",
       "    <tr>\n",
       "      <th>2</th>\n",
       "      <td>201002</td>\n",
       "      <td>0.13</td>\n",
       "    </tr>\n",
       "    <tr>\n",
       "      <th>3</th>\n",
       "      <td>201003</td>\n",
       "      <td>0.00</td>\n",
       "    </tr>\n",
       "    <tr>\n",
       "      <th>4</th>\n",
       "      <td>201004</td>\n",
       "      <td>-0.92</td>\n",
       "    </tr>\n",
       "  </tbody>\n",
       "</table>\n",
       "</div>"
      ],
      "text/plain": [
       "   id_mes var_mes\n",
       "0  200912     ...\n",
       "1  201001    0.80\n",
       "2  201002    0.13\n",
       "3  201003    0.00\n",
       "4  201004   -0.92"
      ]
     },
     "execution_count": 4,
     "metadata": {},
     "output_type": "execute_result"
    }
   ],
   "source": [
    "df_mes_a_mes = pd.DataFrame(json_ipp[0]['resultados'][0]['series'][0]['serie'].items())\n",
    "\n",
    "df_mes_a_mes.columns = [\"id_mes\",\"var_mes\"]\n",
    "\n",
    "df_mes_a_mes.head()"
   ]
  },
  {
   "attachments": {},
   "cell_type": "markdown",
   "metadata": {},
   "source": [
    "## Montando Data Frame dos acumulados no ano"
   ]
  },
  {
   "cell_type": "code",
   "execution_count": 5,
   "metadata": {},
   "outputs": [
    {
     "data": {
      "text/html": [
       "<div>\n",
       "<style scoped>\n",
       "    .dataframe tbody tr th:only-of-type {\n",
       "        vertical-align: middle;\n",
       "    }\n",
       "\n",
       "    .dataframe tbody tr th {\n",
       "        vertical-align: top;\n",
       "    }\n",
       "\n",
       "    .dataframe thead th {\n",
       "        text-align: right;\n",
       "    }\n",
       "</style>\n",
       "<table border=\"1\" class=\"dataframe\">\n",
       "  <thead>\n",
       "    <tr style=\"text-align: right;\">\n",
       "      <th></th>\n",
       "      <th>id_mes</th>\n",
       "      <th>acum_ano</th>\n",
       "    </tr>\n",
       "  </thead>\n",
       "  <tbody>\n",
       "    <tr>\n",
       "      <th>0</th>\n",
       "      <td>200912</td>\n",
       "      <td>...</td>\n",
       "    </tr>\n",
       "    <tr>\n",
       "      <th>1</th>\n",
       "      <td>201001</td>\n",
       "      <td>0.80</td>\n",
       "    </tr>\n",
       "    <tr>\n",
       "      <th>2</th>\n",
       "      <td>201002</td>\n",
       "      <td>0.93</td>\n",
       "    </tr>\n",
       "    <tr>\n",
       "      <th>3</th>\n",
       "      <td>201003</td>\n",
       "      <td>0.93</td>\n",
       "    </tr>\n",
       "    <tr>\n",
       "      <th>4</th>\n",
       "      <td>201004</td>\n",
       "      <td>0.00</td>\n",
       "    </tr>\n",
       "  </tbody>\n",
       "</table>\n",
       "</div>"
      ],
      "text/plain": [
       "   id_mes acum_ano\n",
       "0  200912      ...\n",
       "1  201001     0.80\n",
       "2  201002     0.93\n",
       "3  201003     0.93\n",
       "4  201004     0.00"
      ]
     },
     "execution_count": 5,
     "metadata": {},
     "output_type": "execute_result"
    }
   ],
   "source": [
    "df_acumulado_ano = pd.DataFrame(json_ipp[1]['resultados'][0]['series'][0]['serie'].items())\n",
    "\n",
    "df_acumulado_ano.columns = [\"id_mes\",\"acum_ano\"]\n",
    "\n",
    "df_acumulado_ano.head()"
   ]
  },
  {
   "attachments": {},
   "cell_type": "markdown",
   "metadata": {},
   "source": [
    "## Montando Data Frame dos números índices"
   ]
  },
  {
   "cell_type": "code",
   "execution_count": 6,
   "metadata": {},
   "outputs": [
    {
     "data": {
      "text/html": [
       "<div>\n",
       "<style scoped>\n",
       "    .dataframe tbody tr th:only-of-type {\n",
       "        vertical-align: middle;\n",
       "    }\n",
       "\n",
       "    .dataframe tbody tr th {\n",
       "        vertical-align: top;\n",
       "    }\n",
       "\n",
       "    .dataframe thead th {\n",
       "        text-align: right;\n",
       "    }\n",
       "</style>\n",
       "<table border=\"1\" class=\"dataframe\">\n",
       "  <thead>\n",
       "    <tr style=\"text-align: right;\">\n",
       "      <th></th>\n",
       "      <th>id_mes</th>\n",
       "      <th>numero_indice</th>\n",
       "    </tr>\n",
       "  </thead>\n",
       "  <tbody>\n",
       "    <tr>\n",
       "      <th>0</th>\n",
       "      <td>200912</td>\n",
       "      <td>56.73842</td>\n",
       "    </tr>\n",
       "    <tr>\n",
       "      <th>1</th>\n",
       "      <td>201001</td>\n",
       "      <td>57.19060</td>\n",
       "    </tr>\n",
       "    <tr>\n",
       "      <th>2</th>\n",
       "      <td>201002</td>\n",
       "      <td>57.26588</td>\n",
       "    </tr>\n",
       "    <tr>\n",
       "      <th>3</th>\n",
       "      <td>201003</td>\n",
       "      <td>57.26636</td>\n",
       "    </tr>\n",
       "    <tr>\n",
       "      <th>4</th>\n",
       "      <td>201004</td>\n",
       "      <td>56.74100</td>\n",
       "    </tr>\n",
       "  </tbody>\n",
       "</table>\n",
       "</div>"
      ],
      "text/plain": [
       "   id_mes numero_indice\n",
       "0  200912      56.73842\n",
       "1  201001      57.19060\n",
       "2  201002      57.26588\n",
       "3  201003      57.26636\n",
       "4  201004      56.74100"
      ]
     },
     "execution_count": 6,
     "metadata": {},
     "output_type": "execute_result"
    }
   ],
   "source": [
    "df_numero_indice = pd.DataFrame(json_ipp[3]['resultados'][0]['series'][0]['serie'].items())\n",
    "\n",
    "df_numero_indice.columns = [\"id_mes\",\"numero_indice\"]\n",
    "\n",
    "df_numero_indice.head()"
   ]
  },
  {
   "attachments": {},
   "cell_type": "markdown",
   "metadata": {},
   "source": [
    "## Montando o Data Frame único com todos os dados"
   ]
  },
  {
   "cell_type": "code",
   "execution_count": 7,
   "metadata": {},
   "outputs": [
    {
     "data": {
      "text/html": [
       "<div>\n",
       "<style scoped>\n",
       "    .dataframe tbody tr th:only-of-type {\n",
       "        vertical-align: middle;\n",
       "    }\n",
       "\n",
       "    .dataframe tbody tr th {\n",
       "        vertical-align: top;\n",
       "    }\n",
       "\n",
       "    .dataframe thead th {\n",
       "        text-align: right;\n",
       "    }\n",
       "</style>\n",
       "<table border=\"1\" class=\"dataframe\">\n",
       "  <thead>\n",
       "    <tr style=\"text-align: right;\">\n",
       "      <th></th>\n",
       "      <th>id_mes</th>\n",
       "      <th>numero_indice</th>\n",
       "      <th>var_mes</th>\n",
       "    </tr>\n",
       "  </thead>\n",
       "  <tbody>\n",
       "    <tr>\n",
       "      <th>0</th>\n",
       "      <td>200912</td>\n",
       "      <td>56.73842</td>\n",
       "      <td>...</td>\n",
       "    </tr>\n",
       "    <tr>\n",
       "      <th>1</th>\n",
       "      <td>201001</td>\n",
       "      <td>57.19060</td>\n",
       "      <td>0.80</td>\n",
       "    </tr>\n",
       "    <tr>\n",
       "      <th>2</th>\n",
       "      <td>201002</td>\n",
       "      <td>57.26588</td>\n",
       "      <td>0.13</td>\n",
       "    </tr>\n",
       "    <tr>\n",
       "      <th>3</th>\n",
       "      <td>201003</td>\n",
       "      <td>57.26636</td>\n",
       "      <td>0.00</td>\n",
       "    </tr>\n",
       "    <tr>\n",
       "      <th>4</th>\n",
       "      <td>201004</td>\n",
       "      <td>56.74100</td>\n",
       "      <td>-0.92</td>\n",
       "    </tr>\n",
       "  </tbody>\n",
       "</table>\n",
       "</div>"
      ],
      "text/plain": [
       "   id_mes numero_indice var_mes\n",
       "0  200912      56.73842     ...\n",
       "1  201001      57.19060    0.80\n",
       "2  201002      57.26588    0.13\n",
       "3  201003      57.26636    0.00\n",
       "4  201004      56.74100   -0.92"
      ]
     },
     "execution_count": 7,
     "metadata": {},
     "output_type": "execute_result"
    }
   ],
   "source": [
    "df_ipp_bebidas = pd.merge(df_numero_indice, df_mes_a_mes, on='id_mes')\n",
    "\n",
    "df_ipp_bebidas.head()"
   ]
  },
  {
   "cell_type": "code",
   "execution_count": 8,
   "metadata": {},
   "outputs": [
    {
     "data": {
      "text/html": [
       "<div>\n",
       "<style scoped>\n",
       "    .dataframe tbody tr th:only-of-type {\n",
       "        vertical-align: middle;\n",
       "    }\n",
       "\n",
       "    .dataframe tbody tr th {\n",
       "        vertical-align: top;\n",
       "    }\n",
       "\n",
       "    .dataframe thead th {\n",
       "        text-align: right;\n",
       "    }\n",
       "</style>\n",
       "<table border=\"1\" class=\"dataframe\">\n",
       "  <thead>\n",
       "    <tr style=\"text-align: right;\">\n",
       "      <th></th>\n",
       "      <th>id_mes</th>\n",
       "      <th>numero_indice</th>\n",
       "      <th>var_mes</th>\n",
       "      <th>acum_ano</th>\n",
       "    </tr>\n",
       "  </thead>\n",
       "  <tbody>\n",
       "    <tr>\n",
       "      <th>0</th>\n",
       "      <td>200912</td>\n",
       "      <td>56.73842</td>\n",
       "      <td>...</td>\n",
       "      <td>...</td>\n",
       "    </tr>\n",
       "    <tr>\n",
       "      <th>1</th>\n",
       "      <td>201001</td>\n",
       "      <td>57.19060</td>\n",
       "      <td>0.80</td>\n",
       "      <td>0.80</td>\n",
       "    </tr>\n",
       "    <tr>\n",
       "      <th>2</th>\n",
       "      <td>201002</td>\n",
       "      <td>57.26588</td>\n",
       "      <td>0.13</td>\n",
       "      <td>0.93</td>\n",
       "    </tr>\n",
       "    <tr>\n",
       "      <th>3</th>\n",
       "      <td>201003</td>\n",
       "      <td>57.26636</td>\n",
       "      <td>0.00</td>\n",
       "      <td>0.93</td>\n",
       "    </tr>\n",
       "    <tr>\n",
       "      <th>4</th>\n",
       "      <td>201004</td>\n",
       "      <td>56.74100</td>\n",
       "      <td>-0.92</td>\n",
       "      <td>0.00</td>\n",
       "    </tr>\n",
       "  </tbody>\n",
       "</table>\n",
       "</div>"
      ],
      "text/plain": [
       "   id_mes numero_indice var_mes acum_ano\n",
       "0  200912      56.73842     ...      ...\n",
       "1  201001      57.19060    0.80     0.80\n",
       "2  201002      57.26588    0.13     0.93\n",
       "3  201003      57.26636    0.00     0.93\n",
       "4  201004      56.74100   -0.92     0.00"
      ]
     },
     "execution_count": 8,
     "metadata": {},
     "output_type": "execute_result"
    }
   ],
   "source": [
    "df_ipp_bebidas = pd.merge(df_ipp_bebidas, df_acumulado_ano, on='id_mes')\n",
    "\n",
    "df_ipp_bebidas.head()"
   ]
  },
  {
   "attachments": {},
   "cell_type": "markdown",
   "metadata": {},
   "source": [
    "# Tratando e criando uma coluna com o acumulado dos últimos 12 meses.\n",
    "\n",
    "Vou remover a primeira linha e calcular os últimos 12 meses."
   ]
  },
  {
   "cell_type": "code",
   "execution_count": 9,
   "metadata": {},
   "outputs": [
    {
     "data": {
      "text/html": [
       "<div>\n",
       "<style scoped>\n",
       "    .dataframe tbody tr th:only-of-type {\n",
       "        vertical-align: middle;\n",
       "    }\n",
       "\n",
       "    .dataframe tbody tr th {\n",
       "        vertical-align: top;\n",
       "    }\n",
       "\n",
       "    .dataframe thead th {\n",
       "        text-align: right;\n",
       "    }\n",
       "</style>\n",
       "<table border=\"1\" class=\"dataframe\">\n",
       "  <thead>\n",
       "    <tr style=\"text-align: right;\">\n",
       "      <th></th>\n",
       "      <th>id_mes</th>\n",
       "      <th>numero_indice</th>\n",
       "      <th>var_mes</th>\n",
       "      <th>acum_ano</th>\n",
       "    </tr>\n",
       "  </thead>\n",
       "  <tbody>\n",
       "    <tr>\n",
       "      <th>1</th>\n",
       "      <td>201001</td>\n",
       "      <td>57.19060</td>\n",
       "      <td>0.80</td>\n",
       "      <td>0.80</td>\n",
       "    </tr>\n",
       "    <tr>\n",
       "      <th>2</th>\n",
       "      <td>201002</td>\n",
       "      <td>57.26588</td>\n",
       "      <td>0.13</td>\n",
       "      <td>0.93</td>\n",
       "    </tr>\n",
       "    <tr>\n",
       "      <th>3</th>\n",
       "      <td>201003</td>\n",
       "      <td>57.26636</td>\n",
       "      <td>0.00</td>\n",
       "      <td>0.93</td>\n",
       "    </tr>\n",
       "    <tr>\n",
       "      <th>4</th>\n",
       "      <td>201004</td>\n",
       "      <td>56.74100</td>\n",
       "      <td>-0.92</td>\n",
       "      <td>0.00</td>\n",
       "    </tr>\n",
       "    <tr>\n",
       "      <th>5</th>\n",
       "      <td>201005</td>\n",
       "      <td>56.54790</td>\n",
       "      <td>-0.34</td>\n",
       "      <td>-0.34</td>\n",
       "    </tr>\n",
       "  </tbody>\n",
       "</table>\n",
       "</div>"
      ],
      "text/plain": [
       "   id_mes numero_indice var_mes acum_ano\n",
       "1  201001      57.19060    0.80     0.80\n",
       "2  201002      57.26588    0.13     0.93\n",
       "3  201003      57.26636    0.00     0.93\n",
       "4  201004      56.74100   -0.92     0.00\n",
       "5  201005      56.54790   -0.34    -0.34"
      ]
     },
     "execution_count": 9,
     "metadata": {},
     "output_type": "execute_result"
    }
   ],
   "source": [
    "df_ipp_bebidas.drop(0, inplace=True)\n",
    "\n",
    "df_ipp_bebidas.head()"
   ]
  },
  {
   "cell_type": "code",
   "execution_count": 10,
   "metadata": {},
   "outputs": [],
   "source": [
    "hlp.converter_colunas_para_numericos(df_ipp_bebidas,['numero_indice', 'var_mes','acum_ano'], com_tratamento=False)"
   ]
  },
  {
   "cell_type": "code",
   "execution_count": 11,
   "metadata": {},
   "outputs": [
    {
     "data": {
      "text/html": [
       "<div>\n",
       "<style scoped>\n",
       "    .dataframe tbody tr th:only-of-type {\n",
       "        vertical-align: middle;\n",
       "    }\n",
       "\n",
       "    .dataframe tbody tr th {\n",
       "        vertical-align: top;\n",
       "    }\n",
       "\n",
       "    .dataframe thead th {\n",
       "        text-align: right;\n",
       "    }\n",
       "</style>\n",
       "<table border=\"1\" class=\"dataframe\">\n",
       "  <thead>\n",
       "    <tr style=\"text-align: right;\">\n",
       "      <th></th>\n",
       "      <th>id_mes</th>\n",
       "      <th>numero_indice</th>\n",
       "      <th>var_mes</th>\n",
       "      <th>acum_ano</th>\n",
       "      <th>acum_12_meses</th>\n",
       "    </tr>\n",
       "  </thead>\n",
       "  <tbody>\n",
       "    <tr>\n",
       "      <th>1</th>\n",
       "      <td>201001</td>\n",
       "      <td>57.19060</td>\n",
       "      <td>0.80</td>\n",
       "      <td>0.80</td>\n",
       "      <td>0.80</td>\n",
       "    </tr>\n",
       "    <tr>\n",
       "      <th>2</th>\n",
       "      <td>201002</td>\n",
       "      <td>57.26588</td>\n",
       "      <td>0.13</td>\n",
       "      <td>0.93</td>\n",
       "      <td>0.93</td>\n",
       "    </tr>\n",
       "    <tr>\n",
       "      <th>3</th>\n",
       "      <td>201003</td>\n",
       "      <td>57.26636</td>\n",
       "      <td>0.00</td>\n",
       "      <td>0.93</td>\n",
       "      <td>0.93</td>\n",
       "    </tr>\n",
       "    <tr>\n",
       "      <th>4</th>\n",
       "      <td>201004</td>\n",
       "      <td>56.74100</td>\n",
       "      <td>-0.92</td>\n",
       "      <td>0.00</td>\n",
       "      <td>0.01</td>\n",
       "    </tr>\n",
       "    <tr>\n",
       "      <th>5</th>\n",
       "      <td>201005</td>\n",
       "      <td>56.54790</td>\n",
       "      <td>-0.34</td>\n",
       "      <td>-0.34</td>\n",
       "      <td>-0.33</td>\n",
       "    </tr>\n",
       "  </tbody>\n",
       "</table>\n",
       "</div>"
      ],
      "text/plain": [
       "   id_mes  numero_indice  var_mes  acum_ano  acum_12_meses\n",
       "1  201001       57.19060     0.80      0.80           0.80\n",
       "2  201002       57.26588     0.13      0.93           0.93\n",
       "3  201003       57.26636     0.00      0.93           0.93\n",
       "4  201004       56.74100    -0.92      0.00           0.01\n",
       "5  201005       56.54790    -0.34     -0.34          -0.33"
      ]
     },
     "execution_count": 11,
     "metadata": {},
     "output_type": "execute_result"
    }
   ],
   "source": [
    "df_ipp_bebidas['acum_12_meses'] = df_ipp_bebidas['var_mes'].rolling(window=12, min_periods=1).sum()\n",
    "\n",
    "df_ipp_bebidas.head()"
   ]
  },
  {
   "cell_type": "code",
   "execution_count": 12,
   "metadata": {},
   "outputs": [
    {
     "data": {
      "text/html": [
       "<div>\n",
       "<style scoped>\n",
       "    .dataframe tbody tr th:only-of-type {\n",
       "        vertical-align: middle;\n",
       "    }\n",
       "\n",
       "    .dataframe tbody tr th {\n",
       "        vertical-align: top;\n",
       "    }\n",
       "\n",
       "    .dataframe thead th {\n",
       "        text-align: right;\n",
       "    }\n",
       "</style>\n",
       "<table border=\"1\" class=\"dataframe\">\n",
       "  <thead>\n",
       "    <tr style=\"text-align: right;\">\n",
       "      <th></th>\n",
       "      <th>id_mes</th>\n",
       "      <th>numero_indice</th>\n",
       "      <th>var_mes</th>\n",
       "      <th>acum_ano</th>\n",
       "      <th>acum_12_meses</th>\n",
       "    </tr>\n",
       "  </thead>\n",
       "  <tbody>\n",
       "    <tr>\n",
       "      <th>154</th>\n",
       "      <td>202210</td>\n",
       "      <td>128.15431</td>\n",
       "      <td>1.54</td>\n",
       "      <td>15.16</td>\n",
       "      <td>17.42</td>\n",
       "    </tr>\n",
       "    <tr>\n",
       "      <th>155</th>\n",
       "      <td>202211</td>\n",
       "      <td>129.98458</td>\n",
       "      <td>1.43</td>\n",
       "      <td>16.80</td>\n",
       "      <td>16.33</td>\n",
       "    </tr>\n",
       "    <tr>\n",
       "      <th>156</th>\n",
       "      <td>202212</td>\n",
       "      <td>128.61154</td>\n",
       "      <td>-1.06</td>\n",
       "      <td>15.57</td>\n",
       "      <td>14.65</td>\n",
       "    </tr>\n",
       "    <tr>\n",
       "      <th>157</th>\n",
       "      <td>202301</td>\n",
       "      <td>135.52478</td>\n",
       "      <td>5.38</td>\n",
       "      <td>5.38</td>\n",
       "      <td>15.61</td>\n",
       "    </tr>\n",
       "    <tr>\n",
       "      <th>158</th>\n",
       "      <td>202302</td>\n",
       "      <td>137.95255</td>\n",
       "      <td>1.79</td>\n",
       "      <td>7.26</td>\n",
       "      <td>16.91</td>\n",
       "    </tr>\n",
       "  </tbody>\n",
       "</table>\n",
       "</div>"
      ],
      "text/plain": [
       "     id_mes  numero_indice  var_mes  acum_ano  acum_12_meses\n",
       "154  202210      128.15431     1.54     15.16          17.42\n",
       "155  202211      129.98458     1.43     16.80          16.33\n",
       "156  202212      128.61154    -1.06     15.57          14.65\n",
       "157  202301      135.52478     5.38      5.38          15.61\n",
       "158  202302      137.95255     1.79      7.26          16.91"
      ]
     },
     "execution_count": 12,
     "metadata": {},
     "output_type": "execute_result"
    }
   ],
   "source": [
    "df_ipp_bebidas.tail()"
   ]
  },
  {
   "cell_type": "code",
   "execution_count": 13,
   "metadata": {},
   "outputs": [
    {
     "name": "stdout",
     "output_type": "stream",
     "text": [
      "<class 'pandas.core.frame.DataFrame'>\n",
      "Int64Index: 158 entries, 1 to 158\n",
      "Data columns (total 5 columns):\n",
      " #   Column         Non-Null Count  Dtype  \n",
      "---  ------         --------------  -----  \n",
      " 0   id_mes         158 non-null    object \n",
      " 1   numero_indice  158 non-null    float64\n",
      " 2   var_mes        158 non-null    float64\n",
      " 3   acum_ano       158 non-null    float64\n",
      " 4   acum_12_meses  158 non-null    float64\n",
      "dtypes: float64(4), object(1)\n",
      "memory usage: 7.4+ KB\n"
     ]
    }
   ],
   "source": [
    "df_ipp_bebidas.info()"
   ]
  },
  {
   "attachments": {},
   "cell_type": "markdown",
   "metadata": {},
   "source": [
    "# Criando tabela com dados dos períodos e juntado ao IPP"
   ]
  },
  {
   "cell_type": "code",
   "execution_count": 14,
   "metadata": {},
   "outputs": [],
   "source": [
    "with open(cfg.ARQUIVO_DADOS_PERIODO_IPP, 'r') as file:\n",
    "    json_periodos = json.load(file)"
   ]
  },
  {
   "cell_type": "code",
   "execution_count": 15,
   "metadata": {},
   "outputs": [
    {
     "name": "stdout",
     "output_type": "stream",
     "text": [
      "<class 'pandas.core.frame.DataFrame'>\n",
      "RangeIndex: 159 entries, 0 to 158\n",
      "Data columns (total 3 columns):\n",
      " #   Column       Non-Null Count  Dtype \n",
      "---  ------       --------------  ----- \n",
      " 0   id           159 non-null    object\n",
      " 1   literals     159 non-null    object\n",
      " 2   modificacao  159 non-null    object\n",
      "dtypes: object(3)\n",
      "memory usage: 3.9+ KB\n"
     ]
    }
   ],
   "source": [
    "df_periodos = pd.DataFrame(json_periodos)\n",
    "\n",
    "df_periodos.info()"
   ]
  },
  {
   "cell_type": "code",
   "execution_count": 16,
   "metadata": {},
   "outputs": [
    {
     "data": {
      "text/html": [
       "<div>\n",
       "<style scoped>\n",
       "    .dataframe tbody tr th:only-of-type {\n",
       "        vertical-align: middle;\n",
       "    }\n",
       "\n",
       "    .dataframe tbody tr th {\n",
       "        vertical-align: top;\n",
       "    }\n",
       "\n",
       "    .dataframe thead th {\n",
       "        text-align: right;\n",
       "    }\n",
       "</style>\n",
       "<table border=\"1\" class=\"dataframe\">\n",
       "  <thead>\n",
       "    <tr style=\"text-align: right;\">\n",
       "      <th></th>\n",
       "      <th>id</th>\n",
       "      <th>literals</th>\n",
       "      <th>modificacao</th>\n",
       "    </tr>\n",
       "  </thead>\n",
       "  <tbody>\n",
       "    <tr>\n",
       "      <th>0</th>\n",
       "      <td>200912</td>\n",
       "      <td>[dezembro 2009, dezembro de 2009]</td>\n",
       "      <td>16/04/2019</td>\n",
       "    </tr>\n",
       "    <tr>\n",
       "      <th>1</th>\n",
       "      <td>201001</td>\n",
       "      <td>[janeiro 2010, janeiro de 2010]</td>\n",
       "      <td>16/04/2019</td>\n",
       "    </tr>\n",
       "    <tr>\n",
       "      <th>2</th>\n",
       "      <td>201002</td>\n",
       "      <td>[fevereiro 2010, fevereiro de 2010]</td>\n",
       "      <td>16/04/2019</td>\n",
       "    </tr>\n",
       "    <tr>\n",
       "      <th>3</th>\n",
       "      <td>201003</td>\n",
       "      <td>[março 2010, março de 2010]</td>\n",
       "      <td>16/04/2019</td>\n",
       "    </tr>\n",
       "    <tr>\n",
       "      <th>4</th>\n",
       "      <td>201004</td>\n",
       "      <td>[abril 2010, abril de 2010]</td>\n",
       "      <td>16/04/2019</td>\n",
       "    </tr>\n",
       "  </tbody>\n",
       "</table>\n",
       "</div>"
      ],
      "text/plain": [
       "       id                             literals modificacao\n",
       "0  200912    [dezembro 2009, dezembro de 2009]  16/04/2019\n",
       "1  201001      [janeiro 2010, janeiro de 2010]  16/04/2019\n",
       "2  201002  [fevereiro 2010, fevereiro de 2010]  16/04/2019\n",
       "3  201003          [março 2010, março de 2010]  16/04/2019\n",
       "4  201004          [abril 2010, abril de 2010]  16/04/2019"
      ]
     },
     "execution_count": 16,
     "metadata": {},
     "output_type": "execute_result"
    }
   ],
   "source": [
    "df_periodos.head()"
   ]
  },
  {
   "cell_type": "code",
   "execution_count": 17,
   "metadata": {},
   "outputs": [
    {
     "name": "stdout",
     "output_type": "stream",
     "text": [
      "<class 'pandas.core.frame.DataFrame'>\n",
      "RangeIndex: 159 entries, 0 to 158\n",
      "Data columns (total 2 columns):\n",
      " #   Column         Non-Null Count  Dtype \n",
      "---  ------         --------------  ----- \n",
      " 0   id_mes         159 non-null    object\n",
      " 1   descricao_mes  159 non-null    object\n",
      "dtypes: object(2)\n",
      "memory usage: 2.6+ KB\n"
     ]
    }
   ],
   "source": [
    "df_periodos['descricao'] = df_periodos['literals'].apply(lambda x:x[0])\n",
    "\n",
    "df_periodos = df_periodos[['id','descricao']]\n",
    "\n",
    "df_periodos.columns = ['id_mes','descricao_mes']\n",
    "\n",
    "df_periodos.info()\n"
   ]
  },
  {
   "cell_type": "code",
   "execution_count": 18,
   "metadata": {},
   "outputs": [
    {
     "name": "stdout",
     "output_type": "stream",
     "text": [
      "<class 'pandas.core.frame.DataFrame'>\n",
      "Int64Index: 158 entries, 0 to 157\n",
      "Data columns (total 6 columns):\n",
      " #   Column         Non-Null Count  Dtype  \n",
      "---  ------         --------------  -----  \n",
      " 0   id_mes         158 non-null    object \n",
      " 1   descricao_mes  158 non-null    object \n",
      " 2   numero_indice  158 non-null    float64\n",
      " 3   var_mes        158 non-null    float64\n",
      " 4   acum_ano       158 non-null    float64\n",
      " 5   acum_12_meses  158 non-null    float64\n",
      "dtypes: float64(4), object(2)\n",
      "memory usage: 8.6+ KB\n"
     ]
    }
   ],
   "source": [
    "df_ipp_bebidas = pd.merge(df_periodos, df_ipp_bebidas, on='id_mes')\n",
    "\n",
    "df_ipp_bebidas.info()"
   ]
  },
  {
   "attachments": {},
   "cell_type": "markdown",
   "metadata": {},
   "source": [
    "# Salvando os dados no banco de dados"
   ]
  },
  {
   "cell_type": "code",
   "execution_count": 20,
   "metadata": {},
   "outputs": [],
   "source": [
    "conn = sqlite3.connect(cfg.STR_CONN_SQLLITE)\n",
    "\n",
    "df_ipp_bebidas.to_sql(cfg.TABELA_IPP_HISTORICO, conn, if_exists='replace', index=False)\n",
    "\n",
    "conn.close()"
   ]
  }
 ],
 "metadata": {
  "kernelspec": {
   "display_name": "btc-rv",
   "language": "python",
   "name": "python3"
  },
  "language_info": {
   "codemirror_mode": {
    "name": "ipython",
    "version": 3
   },
   "file_extension": ".py",
   "mimetype": "text/x-python",
   "name": "python",
   "nbconvert_exporter": "python",
   "pygments_lexer": "ipython3",
   "version": "3.11.2"
  },
  "orig_nbformat": 4
 },
 "nbformat": 4,
 "nbformat_minor": 2
}
