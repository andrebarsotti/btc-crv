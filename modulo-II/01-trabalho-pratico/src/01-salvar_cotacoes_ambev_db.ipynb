{
 "cells": [
  {
   "attachments": {},
   "cell_type": "markdown",
   "metadata": {},
   "source": [
    "# Pré-processando e salvando as cotações históricas em um banco de dados\n",
    "\n",
    "Os dados de cotação histórica serão tratados e salvos em um banco de dados sqllite."
   ]
  },
  {
   "cell_type": "code",
   "execution_count": 1,
   "metadata": {},
   "outputs": [],
   "source": [
    "import pandas as pd\n",
    "import sqlite3\n",
    "\n",
    "import configs as cfg\n",
    "import helpers as hlp"
   ]
  },
  {
   "cell_type": "code",
   "execution_count": 2,
   "metadata": {},
   "outputs": [
    {
     "name": "stdout",
     "output_type": "stream",
     "text": [
      "<class 'pandas.core.frame.DataFrame'>\n",
      "RangeIndex: 252 entries, 0 to 251\n",
      "Data columns (total 7 columns):\n",
      " #   Column          Non-Null Count  Dtype  \n",
      "---  ------          --------------  -----  \n",
      " 0   Date            252 non-null    object \n",
      " 1   Open            252 non-null    float64\n",
      " 2   High            252 non-null    float64\n",
      " 3   Low             252 non-null    float64\n",
      " 4   Close           252 non-null    float64\n",
      " 5   Adjusted_close  252 non-null    float64\n",
      " 6   Volume          252 non-null    int64  \n",
      "dtypes: float64(5), int64(1), object(1)\n",
      "memory usage: 13.9+ KB\n"
     ]
    }
   ],
   "source": [
    "cotacoes_eod = pd.read_csv(cfg.ARQUIVO_DADOS_BRUTOS_EOD_HISTORICO_CSV)\n",
    "\n",
    "cotacoes_eod.info()"
   ]
  },
  {
   "cell_type": "code",
   "execution_count": 3,
   "metadata": {},
   "outputs": [
    {
     "name": "stdout",
     "output_type": "stream",
     "text": [
      "<class 'pandas.core.frame.DataFrame'>\n",
      "RangeIndex: 252 entries, 0 to 251\n",
      "Data columns (total 7 columns):\n",
      " #   Column          Non-Null Count  Dtype         \n",
      "---  ------          --------------  -----         \n",
      " 0   Date            252 non-null    datetime64[ns]\n",
      " 1   Open            252 non-null    float64       \n",
      " 2   High            252 non-null    float64       \n",
      " 3   Low             252 non-null    float64       \n",
      " 4   Close           252 non-null    float64       \n",
      " 5   Adjusted_close  252 non-null    float64       \n",
      " 6   Volume          252 non-null    int64         \n",
      "dtypes: datetime64[ns](1), float64(5), int64(1)\n",
      "memory usage: 13.9 KB\n"
     ]
    }
   ],
   "source": [
    "cotacoes_eod['Date'] = pd.to_datetime(cotacoes_eod['Date'])\n",
    "\n",
    "cotacoes_eod.info()"
   ]
  },
  {
   "cell_type": "code",
   "execution_count": 4,
   "metadata": {},
   "outputs": [
    {
     "data": {
      "text/plain": [
       "Series([], dtype: int64)"
      ]
     },
     "execution_count": 4,
     "metadata": {},
     "output_type": "execute_result"
    }
   ],
   "source": [
    "hlp.verificar_dados_faltando(cotacoes_eod)"
   ]
  },
  {
   "cell_type": "code",
   "execution_count": 5,
   "metadata": {},
   "outputs": [],
   "source": [
    "conn = sqlite3.connect(cfg.STR_CONN_SQLLITE)\n",
    "\n",
    "cotacoes_eod.to_sql(cfg.TABELA_COTACOES_HISTORICAS, conn, if_exists='replace', index=False)\n",
    "\n",
    "conn.close()"
   ]
  }
 ],
 "metadata": {
  "kernelspec": {
   "display_name": "base",
   "language": "python",
   "name": "python3"
  },
  "language_info": {
   "codemirror_mode": {
    "name": "ipython",
    "version": 3
   },
   "file_extension": ".py",
   "mimetype": "text/x-python",
   "name": "python",
   "nbconvert_exporter": "python",
   "pygments_lexer": "ipython3",
   "version": "3.11.2"
  },
  "orig_nbformat": 4
 },
 "nbformat": 4,
 "nbformat_minor": 2
}
