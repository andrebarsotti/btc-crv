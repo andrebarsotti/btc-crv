{
 "cells": [
  {
   "attachments": {},
   "cell_type": "markdown",
   "metadata": {},
   "source": [
    "# Buscar as cotações históricas da ABEV3\n",
    "\n",
    "Para a busca será utilizada api do EOD Historical Data."
   ]
  },
  {
   "cell_type": "code",
   "execution_count": 1,
   "metadata": {},
   "outputs": [],
   "source": [
    "import requests\n",
    "import helpers as hlp\n",
    "import configs as cfg"
   ]
  },
  {
   "cell_type": "code",
   "execution_count": 2,
   "metadata": {},
   "outputs": [
    {
     "name": "stdout",
     "output_type": "stream",
     "text": [
      "Arquivo com histórico salvo.\n"
     ]
    }
   ],
   "source": [
    "\n",
    "url = \"https://eodhistoricaldata.com/api/eod/ABEV3.SA\"\n",
    "\n",
    "params={\n",
    "    \"api_token\": hlp.get_env_var(\"API_TOKEN\"),\n",
    "    \"fmt\": \"csv\",\n",
    "    \"period\": \"d\"\n",
    "}\n",
    "\n",
    "response = requests.get(url, params=params)\n",
    "\n",
    "if response.status_code == 200:\n",
    "    historicao_csv = response.text\n",
    "\n",
    "    with open(cfg.ARQUIVO_DADOS_BRUTOS_EOD_HISTORICO_CSV, \"w\") as file:\n",
    "        file.write(historicao_csv)\n",
    "    \n",
    "    print(\"Arquivo com histórico salvo.\")\n",
    "else:\n",
    "    print(f\"Error retrieving file. Status code: {response.status_code}\")\n"
   ]
  }
 ],
 "metadata": {
  "kernelspec": {
   "display_name": "base",
   "language": "python",
   "name": "python3"
  },
  "language_info": {
   "codemirror_mode": {
    "name": "ipython",
    "version": 3
   },
   "file_extension": ".py",
   "mimetype": "text/x-python",
   "name": "python",
   "nbconvert_exporter": "python",
   "pygments_lexer": "ipython3",
   "version": "3.10.9"
  },
  "orig_nbformat": 4
 },
 "nbformat": 4,
 "nbformat_minor": 2
}
