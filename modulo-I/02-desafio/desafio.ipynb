{
 "cells": [
  {
   "attachments": {},
   "cell_type": "markdown",
   "metadata": {},
   "source": [
    "# Desafio\n",
    "\n",
    "Neste desafio vamos trabalhar com duas bases de dados da classe de ativos Fundos Imobiliários (FIIs). Primeiro, obtenha os dados atualizados de FIIs no\n",
    "site <https://statusinvest.com.br> (FII > Busca Avançada > Buscar > Download). Depois, obtenha os preços diários do fundo imobiliário de shopping VISC11\n",
    "no período de 01/01/2022 até 12/03/2023 pelo site <https://br.investing.com/> (Histórico). Faça o tratamento de dados inicialmente pelo Excel (CSV para XLSX, conversão tipo geral para numérico etc.) nas duas bases. Salve os arquivos de dados Bruto (CSV) e os de dados Limpos (XLSX) em suas respectivas pastas conforme orientação em aulas passadas. Depois crie um programa em Python através do Google Colab, capaz de ler, manipular e construir gráficos dos dados conforme descritos nas atividades abaixo."
   ]
  },
  {
   "attachments": {},
   "cell_type": "markdown",
   "metadata": {},
   "source": [
    "## 1. Importação e limpeza dos dados"
   ]
  },
  {
   "cell_type": "code",
   "execution_count": 2,
   "metadata": {},
   "outputs": [
    {
     "name": "stdout",
     "output_type": "stream",
     "text": [
      "<class 'pandas.core.frame.DataFrame'>\n",
      "RangeIndex: 432 entries, 0 to 431\n",
      "Data columns (total 14 columns):\n",
      " #   Column                   Non-Null Count  Dtype \n",
      "---  ------                   --------------  ----- \n",
      " 0   TICKER                   432 non-null    object\n",
      " 1   PRECO                    432 non-null    object\n",
      " 2   ULTIMO DIVIDENDO         376 non-null    object\n",
      " 3   DY                       432 non-null    object\n",
      " 4   VALOR PATRIMONIAL COTA   432 non-null    object\n",
      " 5   P/VP                     363 non-null    object\n",
      " 6   LIQUIDEZ MEDIA DIARIA    329 non-null    object\n",
      " 7   PERCENTUAL EM CAIXA      425 non-null    object\n",
      " 8   CAGR DIVIDENDOS 3 ANOS   181 non-null    object\n",
      " 9    CAGR VALOR CORA 3 ANOS  185 non-null    object\n",
      " 10  PATRIMONIO               432 non-null    object\n",
      " 11  N COTISTAS               427 non-null    object\n",
      " 12  GESTAO                   432 non-null    object\n",
      " 13   N COTAS                 432 non-null    object\n",
      "dtypes: object(14)\n",
      "memory usage: 47.4+ KB\n"
     ]
    }
   ],
   "source": [
    "import pandas as pd\n",
    "\n",
    "fundos_df = pd.read_csv(\"00-dados-brutos/fundos-imob.csv\", delimiter=\";\")\n",
    "\n",
    "fundos_df.info()"
   ]
  },
  {
   "cell_type": "code",
   "execution_count": 3,
   "metadata": {},
   "outputs": [
    {
     "data": {
      "text/html": [
       "<div>\n",
       "<style scoped>\n",
       "    .dataframe tbody tr th:only-of-type {\n",
       "        vertical-align: middle;\n",
       "    }\n",
       "\n",
       "    .dataframe tbody tr th {\n",
       "        vertical-align: top;\n",
       "    }\n",
       "\n",
       "    .dataframe thead th {\n",
       "        text-align: right;\n",
       "    }\n",
       "</style>\n",
       "<table border=\"1\" class=\"dataframe\">\n",
       "  <thead>\n",
       "    <tr style=\"text-align: right;\">\n",
       "      <th></th>\n",
       "      <th>TICKER</th>\n",
       "      <th>PRECO</th>\n",
       "      <th>ULTIMO DIVIDENDO</th>\n",
       "      <th>DY</th>\n",
       "      <th>VALOR PATRIMONIAL COTA</th>\n",
       "      <th>P/VP</th>\n",
       "      <th>LIQUIDEZ MEDIA DIARIA</th>\n",
       "      <th>PERCENTUAL EM CAIXA</th>\n",
       "      <th>CAGR DIVIDENDOS 3 ANOS</th>\n",
       "      <th>CAGR VALOR CORA 3 ANOS</th>\n",
       "      <th>PATRIMONIO</th>\n",
       "      <th>N COTISTAS</th>\n",
       "      <th>GESTAO</th>\n",
       "      <th>N COTAS</th>\n",
       "    </tr>\n",
       "  </thead>\n",
       "  <tbody>\n",
       "    <tr>\n",
       "      <th>0</th>\n",
       "      <td>THRA11</td>\n",
       "      <td>138,50</td>\n",
       "      <td>0,130000</td>\n",
       "      <td>0,00</td>\n",
       "      <td>9,54</td>\n",
       "      <td>14,52</td>\n",
       "      <td>NaN</td>\n",
       "      <td>140,47</td>\n",
       "      <td>90,73</td>\n",
       "      <td>2,14</td>\n",
       "      <td>14.050.683,35</td>\n",
       "      <td>2.084,00</td>\n",
       "      <td>Passiva</td>\n",
       "      <td>1.472.728,00</td>\n",
       "    </tr>\n",
       "    <tr>\n",
       "      <th>1</th>\n",
       "      <td>CXCI11</td>\n",
       "      <td>75,32</td>\n",
       "      <td>0,830000</td>\n",
       "      <td>12,20</td>\n",
       "      <td>90,39</td>\n",
       "      <td>0,83</td>\n",
       "      <td>91.830,71</td>\n",
       "      <td>1,16</td>\n",
       "      <td>NaN</td>\n",
       "      <td>NaN</td>\n",
       "      <td>186.004.058,68</td>\n",
       "      <td>5.497,00</td>\n",
       "      <td>Ativa</td>\n",
       "      <td>2.057.726,00</td>\n",
       "    </tr>\n",
       "    <tr>\n",
       "      <th>2</th>\n",
       "      <td>MFAI11</td>\n",
       "      <td>56,02</td>\n",
       "      <td>0,570000</td>\n",
       "      <td>13,71</td>\n",
       "      <td>66,14</td>\n",
       "      <td>0,85</td>\n",
       "      <td>46.123,58</td>\n",
       "      <td>0,27</td>\n",
       "      <td>NaN</td>\n",
       "      <td>NaN</td>\n",
       "      <td>20.905.527,77</td>\n",
       "      <td>3.445,00</td>\n",
       "      <td>Ativa</td>\n",
       "      <td>316.074,00</td>\n",
       "    </tr>\n",
       "    <tr>\n",
       "      <th>3</th>\n",
       "      <td>RBCB11</td>\n",
       "      <td>19,00</td>\n",
       "      <td>0,300000</td>\n",
       "      <td>0,00</td>\n",
       "      <td>0,00</td>\n",
       "      <td>NaN</td>\n",
       "      <td>NaN</td>\n",
       "      <td>NaN</td>\n",
       "      <td>-15,04</td>\n",
       "      <td>NaN</td>\n",
       "      <td>0,00</td>\n",
       "      <td>462,00</td>\n",
       "      <td>Ativa</td>\n",
       "      <td>53.100,00</td>\n",
       "    </tr>\n",
       "    <tr>\n",
       "      <th>4</th>\n",
       "      <td>SFRO11</td>\n",
       "      <td>0,00</td>\n",
       "      <td>NaN</td>\n",
       "      <td>0,00</td>\n",
       "      <td>5,93</td>\n",
       "      <td>NaN</td>\n",
       "      <td>NaN</td>\n",
       "      <td>102,53</td>\n",
       "      <td>NaN</td>\n",
       "      <td>NaN</td>\n",
       "      <td>5.191.438,53</td>\n",
       "      <td>20,00</td>\n",
       "      <td>Passiva</td>\n",
       "      <td>875.758,00</td>\n",
       "    </tr>\n",
       "  </tbody>\n",
       "</table>\n",
       "</div>"
      ],
      "text/plain": [
       "   TICKER   PRECO ULTIMO DIVIDENDO     DY VALOR PATRIMONIAL COTA   P/VP  \\\n",
       "0  THRA11  138,50         0,130000   0,00                   9,54  14,52   \n",
       "1  CXCI11   75,32         0,830000  12,20                  90,39   0,83   \n",
       "2  MFAI11   56,02         0,570000  13,71                  66,14   0,85   \n",
       "3  RBCB11   19,00         0,300000   0,00                   0,00    NaN   \n",
       "4  SFRO11    0,00              NaN   0,00                   5,93    NaN   \n",
       "\n",
       "  LIQUIDEZ MEDIA DIARIA PERCENTUAL EM CAIXA CAGR DIVIDENDOS 3 ANOS  \\\n",
       "0                   NaN              140,47                  90,73   \n",
       "1             91.830,71                1,16                    NaN   \n",
       "2             46.123,58                0,27                    NaN   \n",
       "3                   NaN                 NaN                 -15,04   \n",
       "4                   NaN              102,53                    NaN   \n",
       "\n",
       "   CAGR VALOR CORA 3 ANOS      PATRIMONIO N COTISTAS   GESTAO       N COTAS  \n",
       "0                    2,14   14.050.683,35   2.084,00  Passiva  1.472.728,00  \n",
       "1                     NaN  186.004.058,68   5.497,00    Ativa  2.057.726,00  \n",
       "2                     NaN   20.905.527,77   3.445,00    Ativa    316.074,00  \n",
       "3                     NaN            0,00     462,00    Ativa     53.100,00  \n",
       "4                     NaN    5.191.438,53      20,00  Passiva    875.758,00  "
      ]
     },
     "execution_count": 3,
     "metadata": {},
     "output_type": "execute_result"
    }
   ],
   "source": [
    "fundos_df.head()"
   ]
  },
  {
   "attachments": {},
   "cell_type": "markdown",
   "metadata": {},
   "source": [
    "É possível verificar que o nome de algumas colunas tem um espaço em branco. Então é necessário fazer um tratamento para remover esses espacos."
   ]
  },
  {
   "cell_type": "code",
   "execution_count": 4,
   "metadata": {},
   "outputs": [
    {
     "name": "stdout",
     "output_type": "stream",
     "text": [
      "<class 'pandas.core.frame.DataFrame'>\n",
      "RangeIndex: 432 entries, 0 to 431\n",
      "Data columns (total 14 columns):\n",
      " #   Column                  Non-Null Count  Dtype \n",
      "---  ------                  --------------  ----- \n",
      " 0   TICKER                  432 non-null    object\n",
      " 1   PRECO                   432 non-null    object\n",
      " 2   ULTIMO DIVIDENDO        376 non-null    object\n",
      " 3   DY                      432 non-null    object\n",
      " 4   VALOR PATRIMONIAL COTA  432 non-null    object\n",
      " 5   P/VP                    363 non-null    object\n",
      " 6   LIQUIDEZ MEDIA DIARIA   329 non-null    object\n",
      " 7   PERCENTUAL EM CAIXA     425 non-null    object\n",
      " 8   CAGR DIVIDENDOS 3 ANOS  181 non-null    object\n",
      " 9   CAGR VALOR CORA 3 ANOS  185 non-null    object\n",
      " 10  PATRIMONIO              432 non-null    object\n",
      " 11  N COTISTAS              427 non-null    object\n",
      " 12  GESTAO                  432 non-null    object\n",
      " 13  N COTAS                 432 non-null    object\n",
      "dtypes: object(14)\n",
      "memory usage: 47.4+ KB\n"
     ]
    }
   ],
   "source": [
    "fundos_df.columns = fundos_df.columns.str.strip()\n",
    "\n",
    "fundos_df.info()"
   ]
  },
  {
   "attachments": {},
   "cell_type": "markdown",
   "metadata": {},
   "source": [
    "É possível verificar que os dados números foram importados como texto no formato brasileiro (separação de '.' para as centenas, milhares, etc e ',' para decimais). O primeiro passo transformar esses dados para números (float)"
   ]
  },
  {
   "cell_type": "code",
   "execution_count": 5,
   "metadata": {},
   "outputs": [
    {
     "name": "stdout",
     "output_type": "stream",
     "text": [
      "Tratando coluna PRECO\n",
      "Tratando coluna ULTIMO DIVIDENDO\n",
      "Tratando coluna DY\n",
      "Tratando coluna VALOR PATRIMONIAL COTA\n",
      "Tratando coluna P/VP\n",
      "Tratando coluna LIQUIDEZ MEDIA DIARIA\n",
      "Tratando coluna PERCENTUAL EM CAIXA\n",
      "Tratando coluna CAGR DIVIDENDOS 3 ANOS\n",
      "Tratando coluna CAGR VALOR CORA 3 ANOS\n",
      "Tratando coluna PATRIMONIO\n",
      "Tratando coluna N COTISTAS\n",
      "Tratando coluna N COTAS\n",
      "\n",
      "<class 'pandas.core.frame.DataFrame'>\n",
      "RangeIndex: 432 entries, 0 to 431\n",
      "Data columns (total 14 columns):\n",
      " #   Column                  Non-Null Count  Dtype  \n",
      "---  ------                  --------------  -----  \n",
      " 0   TICKER                  432 non-null    object \n",
      " 1   PRECO                   432 non-null    float64\n",
      " 2   ULTIMO DIVIDENDO        376 non-null    float64\n",
      " 3   DY                      432 non-null    float64\n",
      " 4   VALOR PATRIMONIAL COTA  432 non-null    float64\n",
      " 5   P/VP                    363 non-null    float64\n",
      " 6   LIQUIDEZ MEDIA DIARIA   329 non-null    float64\n",
      " 7   PERCENTUAL EM CAIXA     425 non-null    float64\n",
      " 8   CAGR DIVIDENDOS 3 ANOS  181 non-null    float64\n",
      " 9   CAGR VALOR CORA 3 ANOS  185 non-null    float64\n",
      " 10  PATRIMONIO              432 non-null    float64\n",
      " 11  N COTISTAS              427 non-null    float64\n",
      " 12  GESTAO                  432 non-null    object \n",
      " 13  N COTAS                 432 non-null    float64\n",
      "dtypes: float64(12), object(2)\n",
      "memory usage: 47.4+ KB\n"
     ]
    },
    {
     "name": "stderr",
     "output_type": "stream",
     "text": [
      "/tmp/ipykernel_32116/437130990.py:7: FutureWarning: The default value of regex will change from True to False in a future version. In addition, single character regular expressions will *not* be treated as literal strings when regex=True.\n",
      "  fundos_df[col]=fundos_df[col].str.replace('.','').str.replace(',','.')\n"
     ]
    }
   ],
   "source": [
    "colunas_numericas = fundos_df.columns.to_list()\n",
    "colunas_numericas.remove('TICKER')\n",
    "colunas_numericas.remove('GESTAO')\n",
    "\n",
    "for col in colunas_numericas:\n",
    "    print('Tratando coluna ' + col)\n",
    "    fundos_df[col]=fundos_df[col].str.replace('.','').str.replace(',','.')\n",
    "    fundos_df[col]=pd.to_numeric(fundos_df[col])\n",
    "\n",
    "print()\n",
    "fundos_df.info()"
   ]
  },
  {
   "cell_type": "code",
   "execution_count": 6,
   "metadata": {},
   "outputs": [
    {
     "data": {
      "text/html": [
       "<div>\n",
       "<style scoped>\n",
       "    .dataframe tbody tr th:only-of-type {\n",
       "        vertical-align: middle;\n",
       "    }\n",
       "\n",
       "    .dataframe tbody tr th {\n",
       "        vertical-align: top;\n",
       "    }\n",
       "\n",
       "    .dataframe thead th {\n",
       "        text-align: right;\n",
       "    }\n",
       "</style>\n",
       "<table border=\"1\" class=\"dataframe\">\n",
       "  <thead>\n",
       "    <tr style=\"text-align: right;\">\n",
       "      <th></th>\n",
       "      <th>TICKER</th>\n",
       "      <th>PRECO</th>\n",
       "      <th>ULTIMO DIVIDENDO</th>\n",
       "      <th>DY</th>\n",
       "      <th>VALOR PATRIMONIAL COTA</th>\n",
       "      <th>P/VP</th>\n",
       "      <th>LIQUIDEZ MEDIA DIARIA</th>\n",
       "      <th>PERCENTUAL EM CAIXA</th>\n",
       "      <th>CAGR DIVIDENDOS 3 ANOS</th>\n",
       "      <th>CAGR VALOR CORA 3 ANOS</th>\n",
       "      <th>PATRIMONIO</th>\n",
       "      <th>N COTISTAS</th>\n",
       "      <th>GESTAO</th>\n",
       "      <th>N COTAS</th>\n",
       "    </tr>\n",
       "  </thead>\n",
       "  <tbody>\n",
       "    <tr>\n",
       "      <th>0</th>\n",
       "      <td>THRA11</td>\n",
       "      <td>138.50</td>\n",
       "      <td>0.13</td>\n",
       "      <td>0.00</td>\n",
       "      <td>9.54</td>\n",
       "      <td>14.52</td>\n",
       "      <td>NaN</td>\n",
       "      <td>140.47</td>\n",
       "      <td>90.73</td>\n",
       "      <td>2.14</td>\n",
       "      <td>1.405068e+07</td>\n",
       "      <td>2084.0</td>\n",
       "      <td>Passiva</td>\n",
       "      <td>1472728.0</td>\n",
       "    </tr>\n",
       "    <tr>\n",
       "      <th>1</th>\n",
       "      <td>CXCI11</td>\n",
       "      <td>75.32</td>\n",
       "      <td>0.83</td>\n",
       "      <td>12.20</td>\n",
       "      <td>90.39</td>\n",
       "      <td>0.83</td>\n",
       "      <td>91830.71</td>\n",
       "      <td>1.16</td>\n",
       "      <td>NaN</td>\n",
       "      <td>NaN</td>\n",
       "      <td>1.860041e+08</td>\n",
       "      <td>5497.0</td>\n",
       "      <td>Ativa</td>\n",
       "      <td>2057726.0</td>\n",
       "    </tr>\n",
       "    <tr>\n",
       "      <th>2</th>\n",
       "      <td>MFAI11</td>\n",
       "      <td>56.02</td>\n",
       "      <td>0.57</td>\n",
       "      <td>13.71</td>\n",
       "      <td>66.14</td>\n",
       "      <td>0.85</td>\n",
       "      <td>46123.58</td>\n",
       "      <td>0.27</td>\n",
       "      <td>NaN</td>\n",
       "      <td>NaN</td>\n",
       "      <td>2.090553e+07</td>\n",
       "      <td>3445.0</td>\n",
       "      <td>Ativa</td>\n",
       "      <td>316074.0</td>\n",
       "    </tr>\n",
       "    <tr>\n",
       "      <th>3</th>\n",
       "      <td>RBCB11</td>\n",
       "      <td>19.00</td>\n",
       "      <td>0.30</td>\n",
       "      <td>0.00</td>\n",
       "      <td>0.00</td>\n",
       "      <td>NaN</td>\n",
       "      <td>NaN</td>\n",
       "      <td>NaN</td>\n",
       "      <td>-15.04</td>\n",
       "      <td>NaN</td>\n",
       "      <td>0.000000e+00</td>\n",
       "      <td>462.0</td>\n",
       "      <td>Ativa</td>\n",
       "      <td>53100.0</td>\n",
       "    </tr>\n",
       "    <tr>\n",
       "      <th>4</th>\n",
       "      <td>SFRO11</td>\n",
       "      <td>0.00</td>\n",
       "      <td>NaN</td>\n",
       "      <td>0.00</td>\n",
       "      <td>5.93</td>\n",
       "      <td>NaN</td>\n",
       "      <td>NaN</td>\n",
       "      <td>102.53</td>\n",
       "      <td>NaN</td>\n",
       "      <td>NaN</td>\n",
       "      <td>5.191439e+06</td>\n",
       "      <td>20.0</td>\n",
       "      <td>Passiva</td>\n",
       "      <td>875758.0</td>\n",
       "    </tr>\n",
       "  </tbody>\n",
       "</table>\n",
       "</div>"
      ],
      "text/plain": [
       "   TICKER   PRECO  ULTIMO DIVIDENDO     DY  VALOR PATRIMONIAL COTA   P/VP  \\\n",
       "0  THRA11  138.50              0.13   0.00                    9.54  14.52   \n",
       "1  CXCI11   75.32              0.83  12.20                   90.39   0.83   \n",
       "2  MFAI11   56.02              0.57  13.71                   66.14   0.85   \n",
       "3  RBCB11   19.00              0.30   0.00                    0.00    NaN   \n",
       "4  SFRO11    0.00               NaN   0.00                    5.93    NaN   \n",
       "\n",
       "   LIQUIDEZ MEDIA DIARIA  PERCENTUAL EM CAIXA  CAGR DIVIDENDOS 3 ANOS  \\\n",
       "0                    NaN               140.47                   90.73   \n",
       "1               91830.71                 1.16                     NaN   \n",
       "2               46123.58                 0.27                     NaN   \n",
       "3                    NaN                  NaN                  -15.04   \n",
       "4                    NaN               102.53                     NaN   \n",
       "\n",
       "   CAGR VALOR CORA 3 ANOS    PATRIMONIO  N COTISTAS   GESTAO    N COTAS  \n",
       "0                    2.14  1.405068e+07      2084.0  Passiva  1472728.0  \n",
       "1                     NaN  1.860041e+08      5497.0    Ativa  2057726.0  \n",
       "2                     NaN  2.090553e+07      3445.0    Ativa   316074.0  \n",
       "3                     NaN  0.000000e+00       462.0    Ativa    53100.0  \n",
       "4                     NaN  5.191439e+06        20.0  Passiva   875758.0  "
      ]
     },
     "execution_count": 6,
     "metadata": {},
     "output_type": "execute_result"
    }
   ],
   "source": [
    "fundos_df.head()"
   ]
  },
  {
   "attachments": {},
   "cell_type": "markdown",
   "metadata": {},
   "source": [
    "Agora vamos verificar dados faltantes."
   ]
  },
  {
   "cell_type": "code",
   "execution_count": 7,
   "metadata": {},
   "outputs": [
    {
     "data": {
      "text/plain": [
       "CAGR DIVIDENDOS 3 ANOS    251\n",
       "CAGR VALOR CORA 3 ANOS    247\n",
       "LIQUIDEZ MEDIA DIARIA     103\n",
       "P/VP                       69\n",
       "ULTIMO DIVIDENDO           56\n",
       "PERCENTUAL EM CAIXA         7\n",
       "N COTISTAS                  5\n",
       "dtype: int64"
      ]
     },
     "execution_count": 7,
     "metadata": {},
     "output_type": "execute_result"
    }
   ],
   "source": [
    "contagem_faltantes = fundos_df.isnull().sum()\n",
    "contagem_faltantes[contagem_faltantes > 0].sort_values(ascending=False)"
   ]
  },
  {
   "attachments": {},
   "cell_type": "markdown",
   "metadata": {},
   "source": [
    "Podemos verificar que os dados faltantes existem apenas em campos numéricos. O tratamento adotado será preencher com zeros."
   ]
  },
  {
   "cell_type": "code",
   "execution_count": 22,
   "metadata": {},
   "outputs": [],
   "source": [
    "colunas_com_valores_faltando = fundos_df.columns[fundos_df.isna().any()]\n",
    "\n",
    "fundos_df[colunas_com_valores_faltando] = fundos_df[colunas_com_valores_faltando].fillna(0)"
   ]
  },
  {
   "cell_type": "code",
   "execution_count": 23,
   "metadata": {},
   "outputs": [
    {
     "data": {
      "text/plain": [
       "Series([], dtype: int64)"
      ]
     },
     "execution_count": 23,
     "metadata": {},
     "output_type": "execute_result"
    }
   ],
   "source": [
    "contagem_faltantes = fundos_df.isnull().sum()\n",
    "contagem_faltantes[contagem_faltantes > 0].sort_values(ascending=False)"
   ]
  },
  {
   "attachments": {},
   "cell_type": "markdown",
   "metadata": {},
   "source": [
    "Salvando esses dados tratados no excel."
   ]
  },
  {
   "cell_type": "code",
   "execution_count": null,
   "metadata": {},
   "outputs": [],
   "source": [
    "fundos_df.to_excel('01-dados-limpos/fundos_imob.xlsx', index=False)"
   ]
  }
 ],
 "metadata": {
  "kernelspec": {
   "display_name": "Python 3 (ipykernel)",
   "language": "python",
   "name": "python3"
  },
  "language_info": {
   "codemirror_mode": {
    "name": "ipython",
    "version": 3
   },
   "file_extension": ".py",
   "mimetype": "text/x-python",
   "name": "python",
   "nbconvert_exporter": "python",
   "pygments_lexer": "ipython3",
   "version": "3.10.9"
  },
  "orig_nbformat": 4
 },
 "nbformat": 4,
 "nbformat_minor": 2
}
