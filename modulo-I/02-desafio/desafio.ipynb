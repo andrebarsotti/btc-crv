{
 "cells": [
  {
   "attachments": {},
   "cell_type": "markdown",
   "metadata": {},
   "source": [
    "# Desafio\n",
    "\n",
    "Neste desafio vamos trabalhar com duas bases de dados da classe de ativos Fundos Imobiliários (FIIs). Primeiro, obtenha os dados atualizados de FIIs no\n",
    "site <https://statusinvest.com.br> (FII > Busca Avançada > Buscar > Download). Depois, obtenha os preços diários do fundo imobiliário de shopping VISC11\n",
    "no período de 01/01/2022 até 12/03/2023 pelo site <https://br.investing.com/> (Histórico). Faça o tratamento de dados inicialmente pelo Excel (CSV para XLSX, conversão tipo geral para numérico etc.) nas duas bases. Salve os arquivos de dados Bruto (CSV) e os de dados Limpos (XLSX) em suas respectivas pastas conforme orientação em aulas passadas. Depois crie um programa em Python através do Google Colab, capaz de ler, manipular e construir gráficos dos dados conforme descritos nas atividades abaixo."
   ]
  }
 ],
 "metadata": {
  "kernelspec": {
   "display_name": "Python 3 (ipykernel)",
   "language": "python",
   "name": "python3"
  },
  "language_info": {
   "codemirror_mode": {
    "name": "ipython",
    "version": 3
   },
   "file_extension": ".py",
   "mimetype": "text/x-python",
   "name": "python",
   "nbconvert_exporter": "python",
   "pygments_lexer": "ipython3",
   "version": "3.10.9"
  },
  "orig_nbformat": 4
 },
 "nbformat": 4,
 "nbformat_minor": 2
}
