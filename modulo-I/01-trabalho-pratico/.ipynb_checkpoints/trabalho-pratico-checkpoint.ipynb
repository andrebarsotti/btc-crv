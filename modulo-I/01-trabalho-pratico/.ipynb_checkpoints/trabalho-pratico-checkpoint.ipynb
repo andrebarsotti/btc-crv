{
 "cells": [
  {
   "cell_type": "markdown",
   "id": "b734305f-4b1c-4202-82c8-cdb8536110f0",
   "metadata": {},
   "source": [
    "## Trabalho prático\n",
    "\n",
    "1. Baixar em formato CSV uma base de dados de ações sem filtro da fonte (Site Status Invest > Ações > Busca avançada);\n",
    "2. Criar em seu computador utilizado para a prática, uma estrutura de arquivos conforme recomendado em videoaula (No Google Drive). (Código, Dados Bruto, Limpos e Saída);\n",
    "3. Salvar o arquivo CSV baixado no local adequado (Bruto) da estrutura de arquivos indicada do item 2;\n",
    "4. Em Excel, fazer a leitura do arquivo CSV da maneira correta (Dados);\n",
    "5. Ainda em Excel, fazer o procedimento demonstrado em videoaula de transformar os dados em números e preencher os espaços vazios com 0;\n",
    "6. Ainda em Excel, eliminar linhas (filtrar e apagar) preços de ativos fora do padrão (Preço acima de R$ 1.000,00 e preço = R$ 0,00);\n",
    "7. Salvar o arquivo XLSX tratado no local adequado (Limpo) da estrutura de arquivos indicada do item 2;\n",
    "8. Criar um programa em Python utilizando o Google Colab para a manipulação de dados e exibição de resultados solicitados abaixo;\n",
    "9. Fazer uma primeira análise exploratória dos dados utilizando o recurso Head do Print;"
   ]
  },
  {
   "cell_type": "code",
   "execution_count": null,
   "id": "6cf7dedd-b75a-42b5-94aa-a635262b1c4f",
   "metadata": {},
   "outputs": [],
   "source": [
    "import pandas as pd\n",
    "\n",
    "df = pd.read_excel(\"01-dados-limpos/acoes.xlsx\")\n",
    "\n",
    "df.info()"
   ]
  },
  {
   "cell_type": "code",
   "execution_count": null,
   "id": "6074605c-e855-4809-8a6c-42bfabd7aa89",
   "metadata": {},
   "outputs": [],
   "source": [
    "df.shape"
   ]
  },
  {
   "cell_type": "code",
   "execution_count": null,
   "id": "c1848375-c4c6-4901-abe6-443a2c0604a1",
   "metadata": {},
   "outputs": [],
   "source": [
    "df.size"
   ]
  },
  {
   "cell_type": "markdown",
   "id": "8eb7fc70-2095-4f17-9c74-421a31c09b5e",
   "metadata": {},
   "source": [
    "df.describe()"
   ]
  },
  {
   "cell_type": "code",
   "execution_count": null,
   "id": "568a92ee-2c5f-4130-a59e-e050cb8d397e",
   "metadata": {},
   "outputs": [],
   "source": [
    "df.head()"
   ]
  },
  {
   "cell_type": "markdown",
   "id": "e3dba2a7-8a85-4c6c-9773-a799a20ab2cf",
   "metadata": {},
   "source": [
    "10. Encontrar o nome do ativo com maior preço;"
   ]
  },
  {
   "cell_type": "code",
   "execution_count": null,
   "id": "f6b3e84d-2d82-4139-acc8-19608fac6202",
   "metadata": {},
   "outputs": [],
   "source": [
    "maior_preco = df['PRECO'].max()\n",
    "\n",
    "df[df['PRECO'] == maior_preco]"
   ]
  },
  {
   "cell_type": "markdown",
   "id": "905164c4-cab9-4fe9-b10a-ee25d7986df2",
   "metadata": {},
   "source": [
    "11. Encontrar os 10 maiores e 10 menores preços de ativos;"
   ]
  },
  {
   "cell_type": "code",
   "execution_count": null,
   "id": "5a053c96-79f0-4e93-9402-f970606f5000",
   "metadata": {},
   "outputs": [],
   "source": [
    "df.nlargest(10,'PRECO')"
   ]
  },
  {
   "cell_type": "code",
   "execution_count": null,
   "id": "23f4f4c2-bd84-4fac-9a51-c843d0fbcdc5",
   "metadata": {},
   "outputs": [],
   "source": [
    "df.nsmallest(10,'PRECO')"
   ]
  },
  {
   "cell_type": "markdown",
   "id": "6eb1f7b7-9b43-47c4-9d5b-eeb575cbf734",
   "metadata": {},
   "source": [
    "12. Encontrar a soma e a média da Liquidez Média Diária;"
   ]
  },
  {
   "cell_type": "code",
   "execution_count": null,
   "id": "fab7804e-d4b2-487d-915b-b0529831d8f3",
   "metadata": {},
   "outputs": [],
   "source": [
    "df['LIQUIDEZ MEDIA DIARIA'].sum()"
   ]
  },
  {
   "cell_type": "code",
   "execution_count": null,
   "id": "beef9268-d35c-4463-80d2-dcb57be6d1b2",
   "metadata": {},
   "outputs": [],
   "source": [
    "df['LIQUIDEZ MEDIA DIARIA'].mean()"
   ]
  },
  {
   "cell_type": "markdown",
   "id": "cebfe464-d581-498d-aae7-c9e53440be7f",
   "metadata": {},
   "source": [
    "13. Encontrar os nomes dos ativos com P/L maior que 0;\n",
    "14. Encontrar os ativos com DY acima de 0;"
   ]
  },
  {
   "cell_type": "code",
   "execution_count": null,
   "id": "3ca9a051-7624-4380-82de-14ae668b91f9",
   "metadata": {},
   "outputs": [],
   "source": [
    "df[df['P/L'] > 0]['TICKER']"
   ]
  },
  {
   "cell_type": "code",
   "execution_count": null,
   "id": "34e1e197-0a7b-444f-bb4c-06541a6fe425",
   "metadata": {},
   "outputs": [],
   "source": [
    "df[df['DY'] > 0]['TICKER']"
   ]
  },
  {
   "cell_type": "markdown",
   "id": "e468f072-30c2-4058-858e-aeb0b949aa29",
   "metadata": {},
   "source": [
    "15. Listar as ações do tipo preferenciais PN (código 4) e jogar a saída em um arquivo TXT de nome (AcoesPN.txt);\n",
    "16. Baixar este arquivo TXT e salvar o mesmo no local adequado (Saída) da estrutura de arquivos indicada do item 2;"
   ]
  },
  {
   "cell_type": "code",
   "execution_count": null,
   "id": "7055b9fc-255f-4b19-859b-5fc9810e3d66",
   "metadata": {},
   "outputs": [],
   "source": [
    "acoes_pn = df[df['TICKER'].str[-1] == '4']\n",
    "\n",
    "acoes_pn"
   ]
  },
  {
   "cell_type": "code",
   "execution_count": null,
   "id": "3d94d2d2-af6a-45f8-82df-19d21c7d91e4",
   "metadata": {},
   "outputs": [],
   "source": [
    "acoes_pn.to_csv('02-output/AcoesPN.txt', sep=';', index=False)"
   ]
  },
  {
   "cell_type": "markdown",
   "id": "cd27e8c3-2f5d-497f-94a9-9212a562b7d7",
   "metadata": {},
   "source": [
    "17. Listar as 10 ações com maior Liquidez Média Diária e mostrar o resultado em um gráfico de colunas, sendo o eixo X os nomes dos ativos e o eixo Y o valor da Liquidez Média Diária;\n",
    "18. Tirar um print deste gráfico e salvar o mesmo no local adequado (Saída) da estrutura de arquivos indicada do item 2."
   ]
  },
  {
   "cell_type": "code",
   "execution_count": null,
   "id": "c48355d9-e829-40be-a8e3-a97466efcf19",
   "metadata": {},
   "outputs": [],
   "source": [
    "top10_liquidez_diaria = df.nlargest(10,'LIQUIDEZ MEDIA DIARIA')[['TICKER','LIQUIDEZ MEDIA DIARIA']]"
   ]
  },
  {
   "cell_type": "code",
   "execution_count": null,
   "id": "847ba48f-fe27-4c73-8ee5-aaafd8b5d2b9",
   "metadata": {},
   "outputs": [],
   "source": [
    "%matplotlib inline\n",
    "\n",
    "import matplotlib.pyplot as plt\n",
    "\n",
    "# Plot a column graph of the 'Score' column\n",
    "plt.bar(top10_liquidez_diaria['TICKER'], top10_liquidez_diaria['LIQUIDEZ MEDIA DIARIA'])\n",
    "\n",
    "# Set the axis labels and title\n",
    "plt.xlabel('Ação')\n",
    "plt.ylabel('Liq. Média Diária')\n",
    "plt.title('Top 10 Liq. Média Diária')\n",
    "\n",
    "#Save image\n",
    "plt.savefig('02-output/top10_liquidez.png')\n",
    "\n",
    "# Show the graph\n",
    "plt.show()"
   ]
  }
 ],
 "metadata": {
  "kernelspec": {
   "display_name": "Python 3 (ipykernel)",
   "language": "python",
   "name": "python3"
  },
  "language_info": {
   "codemirror_mode": {
    "name": "ipython",
    "version": 3
   },
   "file_extension": ".py",
   "mimetype": "text/x-python",
   "name": "python",
   "nbconvert_exporter": "python",
   "pygments_lexer": "ipython3",
   "version": "3.10.9"
  }
 },
 "nbformat": 4,
 "nbformat_minor": 5
}
