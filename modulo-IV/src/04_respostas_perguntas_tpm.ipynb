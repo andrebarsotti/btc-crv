{
 "cells": [
  {
   "attachments": {},
   "cell_type": "markdown",
   "metadata": {},
   "source": [
    "# Analises para responder o questionario do TPM"
   ]
  },
  {
   "cell_type": "code",
   "execution_count": 1,
   "metadata": {
    "vscode": {
     "languageId": "python"
    }
   },
   "outputs": [],
   "source": [
    "import pandas as pd\n",
    "import numpy as np\n",
    "\n",
    "import config as cfg\n",
    "import helpers as hlp"
   ]
  },
  {
   "cell_type": "code",
   "execution_count": 2,
   "metadata": {
    "vscode": {
     "languageId": "python"
    }
   },
   "outputs": [],
   "source": [
    "df_resultado_portfolio = pd.read_parquet(cfg.PATH_TABELA_INDICADORES_PORTFOLIO)\n",
    "df_concentracao_portfolio = pd.read_parquet(cfg.PATH_TABELA_CONCENTRACAO_PORTFOLIO)"
   ]
  },
  {
   "attachments": {},
   "cell_type": "markdown",
   "metadata": {},
   "source": [
    "## 1. Qual dos fundos abaixo apresentou maior retorno no período?\n",
    "\n",
    "- [ ] Mid Caps.\n",
    "- [ ] Small Caps.\n",
    "- [ ] Large Caps.\n",
    "- [x] Micro Caps."
   ]
  },
  {
   "cell_type": "code",
   "execution_count": 3,
   "metadata": {
    "vscode": {
     "languageId": "python"
    }
   },
   "outputs": [
    {
     "data": {
      "text/html": [
       "<div>\n",
       "<style scoped>\n",
       "    .dataframe tbody tr th:only-of-type {\n",
       "        vertical-align: middle;\n",
       "    }\n",
       "\n",
       "    .dataframe tbody tr th {\n",
       "        vertical-align: top;\n",
       "    }\n",
       "\n",
       "    .dataframe thead th {\n",
       "        text-align: right;\n",
       "    }\n",
       "</style>\n",
       "<table border=\"1\" class=\"dataframe\">\n",
       "  <thead>\n",
       "    <tr style=\"text-align: right;\">\n",
       "      <th></th>\n",
       "      <th>Portfolio</th>\n",
       "      <th>Retorno</th>\n",
       "      <th>Volatilidade</th>\n",
       "      <th>Retorno Experado</th>\n",
       "      <th>Alfa</th>\n",
       "      <th>Beta</th>\n",
       "      <th>Sharpe</th>\n",
       "      <th>Sortino</th>\n",
       "      <th>Data Ref.</th>\n",
       "    </tr>\n",
       "  </thead>\n",
       "  <tbody>\n",
       "    <tr>\n",
       "      <th>3</th>\n",
       "      <td>Mid Caps</td>\n",
       "      <td>9.815934</td>\n",
       "      <td>1.779725</td>\n",
       "      <td>-7.571962</td>\n",
       "      <td>17.387896</td>\n",
       "      <td>0.852557</td>\n",
       "      <td>-6.796971</td>\n",
       "      <td>-8.767161</td>\n",
       "      <td>2023-03-31</td>\n",
       "    </tr>\n",
       "    <tr>\n",
       "      <th>4</th>\n",
       "      <td>Small Caps</td>\n",
       "      <td>22.678039</td>\n",
       "      <td>1.568505</td>\n",
       "      <td>-1.898374</td>\n",
       "      <td>24.576414</td>\n",
       "      <td>0.688504</td>\n",
       "      <td>0.487961</td>\n",
       "      <td>0.614335</td>\n",
       "      <td>2023-03-31</td>\n",
       "    </tr>\n",
       "    <tr>\n",
       "      <th>5</th>\n",
       "      <td>Micro Caps</td>\n",
       "      <td>28.456239</td>\n",
       "      <td>2.345774</td>\n",
       "      <td>-5.724852</td>\n",
       "      <td>34.181090</td>\n",
       "      <td>0.799148</td>\n",
       "      <td>2.789514</td>\n",
       "      <td>3.601899</td>\n",
       "      <td>2023-03-31</td>\n",
       "    </tr>\n",
       "  </tbody>\n",
       "</table>\n",
       "</div>"
      ],
      "text/plain": [
       "    Portfolio    Retorno  Volatilidade  Retorno Experado       Alfa      Beta   \n",
       "3    Mid Caps   9.815934      1.779725         -7.571962  17.387896  0.852557  \\\n",
       "4  Small Caps  22.678039      1.568505         -1.898374  24.576414  0.688504   \n",
       "5  Micro Caps  28.456239      2.345774         -5.724852  34.181090  0.799148   \n",
       "\n",
       "     Sharpe   Sortino  Data Ref.  \n",
       "3 -6.796971 -8.767161 2023-03-31  \n",
       "4  0.487961  0.614335 2023-03-31  \n",
       "5  2.789514  3.601899 2023-03-31  "
      ]
     },
     "execution_count": 3,
     "metadata": {},
     "output_type": "execute_result"
    }
   ],
   "source": [
    "fundos_list = ['Mid Caps','Small Caps','Large Caps','Micro Caps']\n",
    "\n",
    "df_resultado_portfolio[df_resultado_portfolio['Portfolio'].isin(fundos_list)]"
   ]
  },
  {
   "attachments": {},
   "cell_type": "markdown",
   "metadata": {},
   "source": [
    "## 2. Qual fundo dos fundos abaixo apresentou menor volatilidade?\n",
    "\n",
    "\n",
    "- [] High Debt.\n",
    "- [x] Low Debt.\n",
    "- [] High P/E.\n",
    "- [] High P/B."
   ]
  },
  {
   "cell_type": "code",
   "execution_count": 4,
   "metadata": {
    "vscode": {
     "languageId": "python"
    }
   },
   "outputs": [
    {
     "data": {
      "text/html": [
       "<div>\n",
       "<style scoped>\n",
       "    .dataframe tbody tr th:only-of-type {\n",
       "        vertical-align: middle;\n",
       "    }\n",
       "\n",
       "    .dataframe tbody tr th {\n",
       "        vertical-align: top;\n",
       "    }\n",
       "\n",
       "    .dataframe thead th {\n",
       "        text-align: right;\n",
       "    }\n",
       "</style>\n",
       "<table border=\"1\" class=\"dataframe\">\n",
       "  <thead>\n",
       "    <tr style=\"text-align: right;\">\n",
       "      <th></th>\n",
       "      <th>Portfolio</th>\n",
       "      <th>Retorno</th>\n",
       "      <th>Volatilidade</th>\n",
       "      <th>Retorno Experado</th>\n",
       "      <th>Alfa</th>\n",
       "      <th>Beta</th>\n",
       "      <th>Sharpe</th>\n",
       "      <th>Sortino</th>\n",
       "      <th>Data Ref.</th>\n",
       "    </tr>\n",
       "  </thead>\n",
       "  <tbody>\n",
       "    <tr>\n",
       "      <th>19</th>\n",
       "      <td>High P/E</td>\n",
       "      <td>-18.193097</td>\n",
       "      <td>1.979712</td>\n",
       "      <td>-8.030371</td>\n",
       "      <td>-10.162726</td>\n",
       "      <td>0.865812</td>\n",
       "      <td>-20.258379</td>\n",
       "      <td>-26.220530</td>\n",
       "      <td>2023-03-31</td>\n",
       "    </tr>\n",
       "    <tr>\n",
       "      <th>21</th>\n",
       "      <td>High P/B</td>\n",
       "      <td>28.554811</td>\n",
       "      <td>2.308659</td>\n",
       "      <td>-10.447018</td>\n",
       "      <td>39.001829</td>\n",
       "      <td>0.935690</td>\n",
       "      <td>2.877057</td>\n",
       "      <td>3.648945</td>\n",
       "      <td>2023-03-31</td>\n",
       "    </tr>\n",
       "    <tr>\n",
       "      <th>23</th>\n",
       "      <td>High Debt</td>\n",
       "      <td>28.215650</td>\n",
       "      <td>2.259846</td>\n",
       "      <td>-8.410644</td>\n",
       "      <td>36.626294</td>\n",
       "      <td>0.876808</td>\n",
       "      <td>2.789120</td>\n",
       "      <td>3.520341</td>\n",
       "      <td>2023-03-31</td>\n",
       "    </tr>\n",
       "    <tr>\n",
       "      <th>24</th>\n",
       "      <td>Low Debt</td>\n",
       "      <td>35.238765</td>\n",
       "      <td>1.482590</td>\n",
       "      <td>1.142553</td>\n",
       "      <td>34.096212</td>\n",
       "      <td>0.600574</td>\n",
       "      <td>8.988389</td>\n",
       "      <td>11.693073</td>\n",
       "      <td>2023-03-31</td>\n",
       "    </tr>\n",
       "  </tbody>\n",
       "</table>\n",
       "</div>"
      ],
      "text/plain": [
       "    Portfolio    Retorno  Volatilidade  Retorno Experado       Alfa      Beta   \n",
       "19   High P/E -18.193097      1.979712         -8.030371 -10.162726  0.865812  \\\n",
       "21   High P/B  28.554811      2.308659        -10.447018  39.001829  0.935690   \n",
       "23  High Debt  28.215650      2.259846         -8.410644  36.626294  0.876808   \n",
       "24   Low Debt  35.238765      1.482590          1.142553  34.096212  0.600574   \n",
       "\n",
       "       Sharpe    Sortino  Data Ref.  \n",
       "19 -20.258379 -26.220530 2023-03-31  \n",
       "21   2.877057   3.648945 2023-03-31  \n",
       "23   2.789120   3.520341 2023-03-31  \n",
       "24   8.988389  11.693073 2023-03-31  "
      ]
     },
     "execution_count": 4,
     "metadata": {},
     "output_type": "execute_result"
    }
   ],
   "source": [
    "fundos_list = ['High Debt','Low Debt','High P/E','High P/B']\n",
    "\n",
    "df_resultado_portfolio[df_resultado_portfolio['Portfolio'].isin(fundos_list)]"
   ]
  },
  {
   "attachments": {},
   "cell_type": "markdown",
   "metadata": {},
   "source": [
    "## 3. Qual dos fundos abaixo apresentou volatilidade menor que a do Ibovespa?\n",
    "\n",
    "- [x] Banks.\n",
    "- [] Low Sharpe.\n",
    "- [] High Beta.\n",
    "- [] High Alfa."
   ]
  },
  {
   "cell_type": "code",
   "execution_count": 5,
   "metadata": {
    "vscode": {
     "languageId": "python"
    }
   },
   "outputs": [
    {
     "data": {
      "text/html": [
       "<div>\n",
       "<style scoped>\n",
       "    .dataframe tbody tr th:only-of-type {\n",
       "        vertical-align: middle;\n",
       "    }\n",
       "\n",
       "    .dataframe tbody tr th {\n",
       "        vertical-align: top;\n",
       "    }\n",
       "\n",
       "    .dataframe thead th {\n",
       "        text-align: right;\n",
       "    }\n",
       "</style>\n",
       "<table border=\"1\" class=\"dataframe\">\n",
       "  <thead>\n",
       "    <tr style=\"text-align: right;\">\n",
       "      <th></th>\n",
       "      <th>Portfolio</th>\n",
       "      <th>Retorno</th>\n",
       "      <th>Volatilidade</th>\n",
       "      <th>Retorno Experado</th>\n",
       "      <th>Alfa</th>\n",
       "      <th>Beta</th>\n",
       "      <th>Sharpe</th>\n",
       "      <th>Sortino</th>\n",
       "      <th>Data Ref.</th>\n",
       "    </tr>\n",
       "  </thead>\n",
       "  <tbody>\n",
       "    <tr>\n",
       "      <th>0</th>\n",
       "      <td>.BVSP</td>\n",
       "      <td>-12.671085</td>\n",
       "      <td>1.925751</td>\n",
       "      <td>NaN</td>\n",
       "      <td>NaN</td>\n",
       "      <td>NaN</td>\n",
       "      <td>NaN</td>\n",
       "      <td>NaN</td>\n",
       "      <td>2023-03-31</td>\n",
       "    </tr>\n",
       "    <tr>\n",
       "      <th>12</th>\n",
       "      <td>High Beta</td>\n",
       "      <td>9.169475</td>\n",
       "      <td>2.935844</td>\n",
       "      <td>-23.147420</td>\n",
       "      <td>32.316895</td>\n",
       "      <td>1.302926</td>\n",
       "      <td>-4.340556</td>\n",
       "      <td>-5.614801</td>\n",
       "      <td>2023-03-31</td>\n",
       "    </tr>\n",
       "    <tr>\n",
       "      <th>18</th>\n",
       "      <td>Low Sharpe</td>\n",
       "      <td>-91.872882</td>\n",
       "      <td>2.204592</td>\n",
       "      <td>-13.064473</td>\n",
       "      <td>-78.808409</td>\n",
       "      <td>1.011375</td>\n",
       "      <td>-51.612965</td>\n",
       "      <td>-67.468526</td>\n",
       "      <td>2023-03-31</td>\n",
       "    </tr>\n",
       "    <tr>\n",
       "      <th>25</th>\n",
       "      <td>Banks</td>\n",
       "      <td>18.645763</td>\n",
       "      <td>1.569144</td>\n",
       "      <td>-2.313581</td>\n",
       "      <td>20.959344</td>\n",
       "      <td>0.700510</td>\n",
       "      <td>-2.081967</td>\n",
       "      <td>-2.744953</td>\n",
       "      <td>2023-03-31</td>\n",
       "    </tr>\n",
       "  </tbody>\n",
       "</table>\n",
       "</div>"
      ],
      "text/plain": [
       "     Portfolio    Retorno  Volatilidade  Retorno Experado       Alfa   \n",
       "0        .BVSP -12.671085      1.925751               NaN        NaN  \\\n",
       "12   High Beta   9.169475      2.935844        -23.147420  32.316895   \n",
       "18  Low Sharpe -91.872882      2.204592        -13.064473 -78.808409   \n",
       "25       Banks  18.645763      1.569144         -2.313581  20.959344   \n",
       "\n",
       "        Beta     Sharpe    Sortino  Data Ref.  \n",
       "0        NaN        NaN        NaN 2023-03-31  \n",
       "12  1.302926  -4.340556  -5.614801 2023-03-31  \n",
       "18  1.011375 -51.612965 -67.468526 2023-03-31  \n",
       "25  0.700510  -2.081967  -2.744953 2023-03-31  "
      ]
     },
     "execution_count": 5,
     "metadata": {},
     "output_type": "execute_result"
    }
   ],
   "source": [
    "fundos_list = ['Banks','Low Sharpe','High Beta','High Alfa','.BVSP']\n",
    "\n",
    "df_resultado_portfolio[df_resultado_portfolio['Portfolio'].isin(fundos_list)]"
   ]
  },
  {
   "attachments": {},
   "cell_type": "markdown",
   "metadata": {},
   "source": [
    "## 4. Qual dos fundos abaixo rendeu mais do que o DI?\n",
    "\n",
    "- [] Low P/B.\n",
    "- [] Low Sharpe.\n",
    "- [x] Low Debt.\n",
    "- [] High Volatility."
   ]
  },
  {
   "cell_type": "code",
   "execution_count": 6,
   "metadata": {
    "vscode": {
     "languageId": "python"
    }
   },
   "outputs": [
    {
     "data": {
      "text/html": [
       "<div>\n",
       "<style scoped>\n",
       "    .dataframe tbody tr th:only-of-type {\n",
       "        vertical-align: middle;\n",
       "    }\n",
       "\n",
       "    .dataframe tbody tr th {\n",
       "        vertical-align: top;\n",
       "    }\n",
       "\n",
       "    .dataframe thead th {\n",
       "        text-align: right;\n",
       "    }\n",
       "</style>\n",
       "<table border=\"1\" class=\"dataframe\">\n",
       "  <thead>\n",
       "    <tr style=\"text-align: right;\">\n",
       "      <th></th>\n",
       "      <th>Portfolio</th>\n",
       "      <th>Retorno</th>\n",
       "      <th>Volatilidade</th>\n",
       "      <th>Retorno Experado</th>\n",
       "      <th>Alfa</th>\n",
       "      <th>Beta</th>\n",
       "      <th>Sharpe</th>\n",
       "      <th>Sortino</th>\n",
       "      <th>Data Ref.</th>\n",
       "    </tr>\n",
       "  </thead>\n",
       "  <tbody>\n",
       "    <tr>\n",
       "      <th>1</th>\n",
       "      <td>DI_INDEX</td>\n",
       "      <td>21.912670</td>\n",
       "      <td>NaN</td>\n",
       "      <td>NaN</td>\n",
       "      <td>NaN</td>\n",
       "      <td>NaN</td>\n",
       "      <td>NaN</td>\n",
       "      <td>NaN</td>\n",
       "      <td>2023-03-31</td>\n",
       "    </tr>\n",
       "    <tr>\n",
       "      <th>8</th>\n",
       "      <td>High Volatility</td>\n",
       "      <td>-44.172386</td>\n",
       "      <td>2.559457</td>\n",
       "      <td>-12.662862</td>\n",
       "      <td>-31.509523</td>\n",
       "      <td>0.999762</td>\n",
       "      <td>-25.819953</td>\n",
       "      <td>-34.114669</td>\n",
       "      <td>2023-03-31</td>\n",
       "    </tr>\n",
       "    <tr>\n",
       "      <th>18</th>\n",
       "      <td>Low Sharpe</td>\n",
       "      <td>-91.872882</td>\n",
       "      <td>2.204592</td>\n",
       "      <td>-13.064473</td>\n",
       "      <td>-78.808409</td>\n",
       "      <td>1.011375</td>\n",
       "      <td>-51.612965</td>\n",
       "      <td>-67.468526</td>\n",
       "      <td>2023-03-31</td>\n",
       "    </tr>\n",
       "    <tr>\n",
       "      <th>22</th>\n",
       "      <td>Low P/B</td>\n",
       "      <td>6.195400</td>\n",
       "      <td>2.051268</td>\n",
       "      <td>-2.587458</td>\n",
       "      <td>8.782857</td>\n",
       "      <td>0.708429</td>\n",
       "      <td>-7.662221</td>\n",
       "      <td>-10.643382</td>\n",
       "      <td>2023-03-31</td>\n",
       "    </tr>\n",
       "    <tr>\n",
       "      <th>24</th>\n",
       "      <td>Low Debt</td>\n",
       "      <td>35.238765</td>\n",
       "      <td>1.482590</td>\n",
       "      <td>1.142553</td>\n",
       "      <td>34.096212</td>\n",
       "      <td>0.600574</td>\n",
       "      <td>8.988389</td>\n",
       "      <td>11.693073</td>\n",
       "      <td>2023-03-31</td>\n",
       "    </tr>\n",
       "  </tbody>\n",
       "</table>\n",
       "</div>"
      ],
      "text/plain": [
       "          Portfolio    Retorno  Volatilidade  Retorno Experado       Alfa   \n",
       "1          DI_INDEX  21.912670           NaN               NaN        NaN  \\\n",
       "8   High Volatility -44.172386      2.559457        -12.662862 -31.509523   \n",
       "18       Low Sharpe -91.872882      2.204592        -13.064473 -78.808409   \n",
       "22          Low P/B   6.195400      2.051268         -2.587458   8.782857   \n",
       "24         Low Debt  35.238765      1.482590          1.142553  34.096212   \n",
       "\n",
       "        Beta     Sharpe    Sortino  Data Ref.  \n",
       "1        NaN        NaN        NaN 2023-03-31  \n",
       "8   0.999762 -25.819953 -34.114669 2023-03-31  \n",
       "18  1.011375 -51.612965 -67.468526 2023-03-31  \n",
       "22  0.708429  -7.662221 -10.643382 2023-03-31  \n",
       "24  0.600574   8.988389  11.693073 2023-03-31  "
      ]
     },
     "execution_count": 6,
     "metadata": {},
     "output_type": "execute_result"
    }
   ],
   "source": [
    "fundos_list = ['Low P/B','Low Sharpe','Low Debt','High Volatility','DI_INDEX']\n",
    "\n",
    "df_resultado_portfolio[df_resultado_portfolio['Portfolio'].isin(fundos_list)]"
   ]
  },
  {
   "attachments": {},
   "cell_type": "markdown",
   "metadata": {},
   "source": [
    "## 5. Qual dos fundos abaixo possui o Beta mais próximo do Ibovespa?\n",
    "\n",
    "- [] Micro Caps.\n",
    "- [] Mid Caps.\n",
    "- [] Small Caps.\n",
    "- [X] Blue Chips."
   ]
  },
  {
   "cell_type": "code",
   "execution_count": 7,
   "metadata": {
    "vscode": {
     "languageId": "python"
    }
   },
   "outputs": [
    {
     "data": {
      "text/html": [
       "<div>\n",
       "<style scoped>\n",
       "    .dataframe tbody tr th:only-of-type {\n",
       "        vertical-align: middle;\n",
       "    }\n",
       "\n",
       "    .dataframe tbody tr th {\n",
       "        vertical-align: top;\n",
       "    }\n",
       "\n",
       "    .dataframe thead th {\n",
       "        text-align: right;\n",
       "    }\n",
       "</style>\n",
       "<table border=\"1\" class=\"dataframe\">\n",
       "  <thead>\n",
       "    <tr style=\"text-align: right;\">\n",
       "      <th></th>\n",
       "      <th>Portfolio</th>\n",
       "      <th>Retorno</th>\n",
       "      <th>Volatilidade</th>\n",
       "      <th>Retorno Experado</th>\n",
       "      <th>Alfa</th>\n",
       "      <th>Beta</th>\n",
       "      <th>Sharpe</th>\n",
       "      <th>Sortino</th>\n",
       "      <th>Data Ref.</th>\n",
       "    </tr>\n",
       "  </thead>\n",
       "  <tbody>\n",
       "    <tr>\n",
       "      <th>2</th>\n",
       "      <td>Blue Chips</td>\n",
       "      <td>14.187966</td>\n",
       "      <td>1.825001</td>\n",
       "      <td>-10.122515</td>\n",
       "      <td>24.310481</td>\n",
       "      <td>0.926307</td>\n",
       "      <td>-4.232712</td>\n",
       "      <td>-5.538933</td>\n",
       "      <td>2023-03-31</td>\n",
       "    </tr>\n",
       "    <tr>\n",
       "      <th>3</th>\n",
       "      <td>Mid Caps</td>\n",
       "      <td>9.815934</td>\n",
       "      <td>1.779725</td>\n",
       "      <td>-7.571962</td>\n",
       "      <td>17.387896</td>\n",
       "      <td>0.852557</td>\n",
       "      <td>-6.796971</td>\n",
       "      <td>-8.767161</td>\n",
       "      <td>2023-03-31</td>\n",
       "    </tr>\n",
       "    <tr>\n",
       "      <th>4</th>\n",
       "      <td>Small Caps</td>\n",
       "      <td>22.678039</td>\n",
       "      <td>1.568505</td>\n",
       "      <td>-1.898374</td>\n",
       "      <td>24.576414</td>\n",
       "      <td>0.688504</td>\n",
       "      <td>0.487961</td>\n",
       "      <td>0.614335</td>\n",
       "      <td>2023-03-31</td>\n",
       "    </tr>\n",
       "    <tr>\n",
       "      <th>5</th>\n",
       "      <td>Micro Caps</td>\n",
       "      <td>28.456239</td>\n",
       "      <td>2.345774</td>\n",
       "      <td>-5.724852</td>\n",
       "      <td>34.181090</td>\n",
       "      <td>0.799148</td>\n",
       "      <td>2.789514</td>\n",
       "      <td>3.601899</td>\n",
       "      <td>2023-03-31</td>\n",
       "    </tr>\n",
       "  </tbody>\n",
       "</table>\n",
       "</div>"
      ],
      "text/plain": [
       "    Portfolio    Retorno  Volatilidade  Retorno Experado       Alfa      Beta   \n",
       "2  Blue Chips  14.187966      1.825001        -10.122515  24.310481  0.926307  \\\n",
       "3    Mid Caps   9.815934      1.779725         -7.571962  17.387896  0.852557   \n",
       "4  Small Caps  22.678039      1.568505         -1.898374  24.576414  0.688504   \n",
       "5  Micro Caps  28.456239      2.345774         -5.724852  34.181090  0.799148   \n",
       "\n",
       "     Sharpe   Sortino  Data Ref.  \n",
       "2 -4.232712 -5.538933 2023-03-31  \n",
       "3 -6.796971 -8.767161 2023-03-31  \n",
       "4  0.487961  0.614335 2023-03-31  \n",
       "5  2.789514  3.601899 2023-03-31  "
      ]
     },
     "execution_count": 7,
     "metadata": {},
     "output_type": "execute_result"
    }
   ],
   "source": [
    "fundos_list = ['Micro Caps','Mid Caps','Small Caps','Blue Chips']\n",
    "\n",
    "df_resultado_portfolio[df_resultado_portfolio['Portfolio'].isin(fundos_list)]"
   ]
  },
  {
   "attachments": {},
   "cell_type": "markdown",
   "metadata": {},
   "source": [
    "## 6. No Fundo Mid Caps, qual ação apresenta o maior risco de liquidez?\n",
    "\n",
    "- [] BRMK5.\n",
    "- [] MGLU3.\n",
    "- [x] ENMT4.\n",
    "- [] TOTS3."
   ]
  },
  {
   "cell_type": "code",
   "execution_count": 8,
   "metadata": {
    "vscode": {
     "languageId": "python"
    }
   },
   "outputs": [
    {
     "data": {
      "text/html": [
       "<div>\n",
       "<style scoped>\n",
       "    .dataframe tbody tr th:only-of-type {\n",
       "        vertical-align: middle;\n",
       "    }\n",
       "\n",
       "    .dataframe tbody tr th {\n",
       "        vertical-align: top;\n",
       "    }\n",
       "\n",
       "    .dataframe thead th {\n",
       "        text-align: right;\n",
       "    }\n",
       "</style>\n",
       "<table border=\"1\" class=\"dataframe\">\n",
       "  <thead>\n",
       "    <tr style=\"text-align: right;\">\n",
       "      <th></th>\n",
       "      <th>Portfolio</th>\n",
       "      <th>Ativo</th>\n",
       "      <th>Qtd</th>\n",
       "      <th>Preco</th>\n",
       "      <th>Valor da posição</th>\n",
       "      <th>Concentração da posição (%)</th>\n",
       "      <th>ADTV 30D</th>\n",
       "      <th>(%) do ADTV 30D</th>\n",
       "    </tr>\n",
       "  </thead>\n",
       "  <tbody>\n",
       "    <tr>\n",
       "      <th>10</th>\n",
       "      <td>Mid Caps</td>\n",
       "      <td>MGLU3.SA</td>\n",
       "      <td>56109</td>\n",
       "      <td>3.31</td>\n",
       "      <td>185721.65</td>\n",
       "      <td>1.683575</td>\n",
       "      <td>4.136712e+08</td>\n",
       "      <td>0.044896</td>\n",
       "    </tr>\n",
       "    <tr>\n",
       "      <th>14</th>\n",
       "      <td>Mid Caps</td>\n",
       "      <td>TOTS3.SA</td>\n",
       "      <td>31915</td>\n",
       "      <td>28.16</td>\n",
       "      <td>898737.98</td>\n",
       "      <td>8.147100</td>\n",
       "      <td>1.472376e+08</td>\n",
       "      <td>0.610400</td>\n",
       "    </tr>\n",
       "    <tr>\n",
       "      <th>7</th>\n",
       "      <td>Mid Caps</td>\n",
       "      <td>BRKM5.SA</td>\n",
       "      <td>26253</td>\n",
       "      <td>19.36</td>\n",
       "      <td>508271.03</td>\n",
       "      <td>4.607499</td>\n",
       "      <td>6.871815e+07</td>\n",
       "      <td>0.739646</td>\n",
       "    </tr>\n",
       "    <tr>\n",
       "      <th>12</th>\n",
       "      <td>Mid Caps</td>\n",
       "      <td>ENMT4.SA</td>\n",
       "      <td>24156</td>\n",
       "      <td>78.50</td>\n",
       "      <td>1896257.01</td>\n",
       "      <td>17.189654</td>\n",
       "      <td>6.977728e+02</td>\n",
       "      <td>271758.504249</td>\n",
       "    </tr>\n",
       "  </tbody>\n",
       "</table>\n",
       "</div>"
      ],
      "text/plain": [
       "   Portfolio     Ativo    Qtd  Preco  Valor da posição   \n",
       "10  Mid Caps  MGLU3.SA  56109   3.31         185721.65  \\\n",
       "14  Mid Caps  TOTS3.SA  31915  28.16         898737.98   \n",
       "7   Mid Caps  BRKM5.SA  26253  19.36         508271.03   \n",
       "12  Mid Caps  ENMT4.SA  24156  78.50        1896257.01   \n",
       "\n",
       "    Concentração da posição (%)     ADTV 30D   (%) do ADTV 30D  \n",
       "10                     1.683575  4.136712e+08         0.044896  \n",
       "14                     8.147100  1.472376e+08         0.610400  \n",
       "7                      4.607499  6.871815e+07         0.739646  \n",
       "12                    17.189654  6.977728e+02    271758.504249  "
      ]
     },
     "execution_count": 8,
     "metadata": {},
     "output_type": "execute_result"
    }
   ],
   "source": [
    "ativos = ['BRKM5.SA','MGLU3.SA', 'ENMT4.SA', 'TOTS3.SA']\n",
    "\n",
    "df_concentracao_portfolio[(df_concentracao_portfolio['Portfolio'] == 'Mid Caps') & (df_concentracao_portfolio['Ativo'].isin(ativos))].sort_values(by='(%) do ADTV 30D', ascending=True)"
   ]
  },
  {
   "attachments": {},
   "cell_type": "markdown",
   "metadata": {},
   "source": [
    "## 7. Qual é a posição mais líquida da carteira High Volatility?\n",
    "\n",
    "- [X] ETER3.\n",
    "- [] BRIV3.\n",
    "- [] MGLU3. (correto)\n",
    "- [] GUAR3."
   ]
  },
  {
   "cell_type": "code",
   "execution_count": 9,
   "metadata": {
    "vscode": {
     "languageId": "python"
    }
   },
   "outputs": [
    {
     "data": {
      "text/html": [
       "<div>\n",
       "<style scoped>\n",
       "    .dataframe tbody tr th:only-of-type {\n",
       "        vertical-align: middle;\n",
       "    }\n",
       "\n",
       "    .dataframe tbody tr th {\n",
       "        vertical-align: top;\n",
       "    }\n",
       "\n",
       "    .dataframe thead th {\n",
       "        text-align: right;\n",
       "    }\n",
       "</style>\n",
       "<table border=\"1\" class=\"dataframe\">\n",
       "  <thead>\n",
       "    <tr style=\"text-align: right;\">\n",
       "      <th></th>\n",
       "      <th>Portfolio</th>\n",
       "      <th>Ativo</th>\n",
       "      <th>Qtd</th>\n",
       "      <th>Preco</th>\n",
       "      <th>Valor da posição</th>\n",
       "      <th>Concentração da posição (%)</th>\n",
       "      <th>ADTV 30D</th>\n",
       "      <th>(%) do ADTV 30D</th>\n",
       "    </tr>\n",
       "  </thead>\n",
       "  <tbody>\n",
       "    <tr>\n",
       "      <th>1</th>\n",
       "      <td>High Volatility</td>\n",
       "      <td>BRIV3.SA</td>\n",
       "      <td>78050</td>\n",
       "      <td>9.46</td>\n",
       "      <td>738357.34</td>\n",
       "      <td>11.484308</td>\n",
       "      <td>1.956672e+03</td>\n",
       "      <td>37735.357024</td>\n",
       "    </tr>\n",
       "    <tr>\n",
       "      <th>7</th>\n",
       "      <td>High Volatility</td>\n",
       "      <td>ETER3.SA</td>\n",
       "      <td>195301</td>\n",
       "      <td>9.36</td>\n",
       "      <td>1828018.07</td>\n",
       "      <td>28.432740</td>\n",
       "      <td>5.501551e+06</td>\n",
       "      <td>33.227323</td>\n",
       "    </tr>\n",
       "    <tr>\n",
       "      <th>2</th>\n",
       "      <td>High Volatility</td>\n",
       "      <td>GUAR3.SA</td>\n",
       "      <td>30565</td>\n",
       "      <td>4.30</td>\n",
       "      <td>131432.99</td>\n",
       "      <td>2.044291</td>\n",
       "      <td>1.035377e+07</td>\n",
       "      <td>1.269422</td>\n",
       "    </tr>\n",
       "    <tr>\n",
       "      <th>0</th>\n",
       "      <td>High Volatility</td>\n",
       "      <td>MGLU3.SA</td>\n",
       "      <td>56109</td>\n",
       "      <td>3.31</td>\n",
       "      <td>185721.65</td>\n",
       "      <td>2.888689</td>\n",
       "      <td>4.136712e+08</td>\n",
       "      <td>0.044896</td>\n",
       "    </tr>\n",
       "  </tbody>\n",
       "</table>\n",
       "</div>"
      ],
      "text/plain": [
       "         Portfolio     Ativo     Qtd  Preco  Valor da posição   \n",
       "1  High Volatility  BRIV3.SA   78050   9.46         738357.34  \\\n",
       "7  High Volatility  ETER3.SA  195301   9.36        1828018.07   \n",
       "2  High Volatility  GUAR3.SA   30565   4.30         131432.99   \n",
       "0  High Volatility  MGLU3.SA   56109   3.31         185721.65   \n",
       "\n",
       "   Concentração da posição (%)     ADTV 30D   (%) do ADTV 30D  \n",
       "1                    11.484308  1.956672e+03     37735.357024  \n",
       "7                    28.432740  5.501551e+06        33.227323  \n",
       "2                     2.044291  1.035377e+07         1.269422  \n",
       "0                     2.888689  4.136712e+08         0.044896  "
      ]
     },
     "execution_count": 9,
     "metadata": {},
     "output_type": "execute_result"
    }
   ],
   "source": [
    "ativos = ['ETER3.SA','BRIV3.SA', 'MGLU3.SA', 'GUAR3.SA']\n",
    "\n",
    "df_concentracao_portfolio[(df_concentracao_portfolio['Portfolio'] == 'High Volatility') & (df_concentracao_portfolio['Ativo'].isin(ativos))].sort_values(by='(%) do ADTV 30D', ascending=False)"
   ]
  },
  {
   "attachments": {},
   "cell_type": "markdown",
   "metadata": {},
   "source": [
    "## 8. Qual é a posição menos líquida da carteira Blue Chips?\n",
    "\n",
    "- [] SUZB3.\n",
    "- [] WEGE3.\n",
    "- [] JBSS3.\n",
    "- [X] SANB4."
   ]
  },
  {
   "cell_type": "code",
   "execution_count": 10,
   "metadata": {
    "vscode": {
     "languageId": "python"
    }
   },
   "outputs": [
    {
     "data": {
      "text/html": [
       "<div>\n",
       "<style scoped>\n",
       "    .dataframe tbody tr th:only-of-type {\n",
       "        vertical-align: middle;\n",
       "    }\n",
       "\n",
       "    .dataframe tbody tr th {\n",
       "        vertical-align: top;\n",
       "    }\n",
       "\n",
       "    .dataframe thead th {\n",
       "        text-align: right;\n",
       "    }\n",
       "</style>\n",
       "<table border=\"1\" class=\"dataframe\">\n",
       "  <thead>\n",
       "    <tr style=\"text-align: right;\">\n",
       "      <th></th>\n",
       "      <th>Portfolio</th>\n",
       "      <th>Ativo</th>\n",
       "      <th>Qtd</th>\n",
       "      <th>Preco</th>\n",
       "      <th>Valor da posição</th>\n",
       "      <th>Concentração da posição (%)</th>\n",
       "      <th>ADTV 30D</th>\n",
       "      <th>(%) do ADTV 30D</th>\n",
       "    </tr>\n",
       "  </thead>\n",
       "  <tbody>\n",
       "    <tr>\n",
       "      <th>14</th>\n",
       "      <td>Blue Chips</td>\n",
       "      <td>JBSS3.SA</td>\n",
       "      <td>30996</td>\n",
       "      <td>17.85</td>\n",
       "      <td>553293.51</td>\n",
       "      <td>4.801070</td>\n",
       "      <td>2.095791e+08</td>\n",
       "      <td>0.264002</td>\n",
       "    </tr>\n",
       "    <tr>\n",
       "      <th>11</th>\n",
       "      <td>Blue Chips</td>\n",
       "      <td>SUZB3.SA</td>\n",
       "      <td>17819</td>\n",
       "      <td>41.60</td>\n",
       "      <td>741297.62</td>\n",
       "      <td>6.432430</td>\n",
       "      <td>2.268605e+08</td>\n",
       "      <td>0.326764</td>\n",
       "    </tr>\n",
       "    <tr>\n",
       "      <th>3</th>\n",
       "      <td>Blue Chips</td>\n",
       "      <td>WEGE3.SA</td>\n",
       "      <td>40206</td>\n",
       "      <td>40.55</td>\n",
       "      <td>1630386.35</td>\n",
       "      <td>14.147281</td>\n",
       "      <td>2.558190e+08</td>\n",
       "      <td>0.637320</td>\n",
       "    </tr>\n",
       "    <tr>\n",
       "      <th>6</th>\n",
       "      <td>Blue Chips</td>\n",
       "      <td>SANB4.SA</td>\n",
       "      <td>37362</td>\n",
       "      <td>14.33</td>\n",
       "      <td>535406.75</td>\n",
       "      <td>4.645862</td>\n",
       "      <td>3.194497e+06</td>\n",
       "      <td>16.760284</td>\n",
       "    </tr>\n",
       "  </tbody>\n",
       "</table>\n",
       "</div>"
      ],
      "text/plain": [
       "     Portfolio     Ativo    Qtd  Preco  Valor da posição   \n",
       "14  Blue Chips  JBSS3.SA  30996  17.85         553293.51  \\\n",
       "11  Blue Chips  SUZB3.SA  17819  41.60         741297.62   \n",
       "3   Blue Chips  WEGE3.SA  40206  40.55        1630386.35   \n",
       "6   Blue Chips  SANB4.SA  37362  14.33         535406.75   \n",
       "\n",
       "    Concentração da posição (%)     ADTV 30D   (%) do ADTV 30D  \n",
       "14                     4.801070  2.095791e+08         0.264002  \n",
       "11                     6.432430  2.268605e+08         0.326764  \n",
       "3                     14.147281  2.558190e+08         0.637320  \n",
       "6                      4.645862  3.194497e+06        16.760284  "
      ]
     },
     "execution_count": 10,
     "metadata": {},
     "output_type": "execute_result"
    }
   ],
   "source": [
    "ativos = ['SUZB3.SA','WEGE3.SA', 'JBSS3.SA', 'SANB4.SA']\n",
    "\n",
    "df_concentracao_portfolio[(df_concentracao_portfolio['Portfolio'] == 'Blue Chips') & (df_concentracao_portfolio['Ativo'].isin(ativos))].sort_values(by='(%) do ADTV 30D', ascending=True)"
   ]
  },
  {
   "attachments": {},
   "cell_type": "markdown",
   "metadata": {},
   "source": [
    "## 9. Qual o ativo com maior concentração na Carteira Blue Chips?\n",
    "\n",
    "- [] SUZB3.\n",
    "- [] SANB4.\n",
    "- [X] WEGE3.\n",
    "- [] JBSS3."
   ]
  },
  {
   "cell_type": "code",
   "execution_count": 11,
   "metadata": {
    "vscode": {
     "languageId": "python"
    }
   },
   "outputs": [
    {
     "data": {
      "text/html": [
       "<div>\n",
       "<style scoped>\n",
       "    .dataframe tbody tr th:only-of-type {\n",
       "        vertical-align: middle;\n",
       "    }\n",
       "\n",
       "    .dataframe tbody tr th {\n",
       "        vertical-align: top;\n",
       "    }\n",
       "\n",
       "    .dataframe thead th {\n",
       "        text-align: right;\n",
       "    }\n",
       "</style>\n",
       "<table border=\"1\" class=\"dataframe\">\n",
       "  <thead>\n",
       "    <tr style=\"text-align: right;\">\n",
       "      <th></th>\n",
       "      <th>Portfolio</th>\n",
       "      <th>Ativo</th>\n",
       "      <th>Qtd</th>\n",
       "      <th>Preco</th>\n",
       "      <th>Valor da posição</th>\n",
       "      <th>Concentração da posição (%)</th>\n",
       "      <th>ADTV 30D</th>\n",
       "      <th>(%) do ADTV 30D</th>\n",
       "    </tr>\n",
       "  </thead>\n",
       "  <tbody>\n",
       "    <tr>\n",
       "      <th>3</th>\n",
       "      <td>Blue Chips</td>\n",
       "      <td>WEGE3.SA</td>\n",
       "      <td>40206</td>\n",
       "      <td>40.55</td>\n",
       "      <td>1630386.35</td>\n",
       "      <td>14.147281</td>\n",
       "      <td>2.558190e+08</td>\n",
       "      <td>0.637320</td>\n",
       "    </tr>\n",
       "    <tr>\n",
       "      <th>11</th>\n",
       "      <td>Blue Chips</td>\n",
       "      <td>SUZB3.SA</td>\n",
       "      <td>17819</td>\n",
       "      <td>41.60</td>\n",
       "      <td>741297.62</td>\n",
       "      <td>6.432430</td>\n",
       "      <td>2.268605e+08</td>\n",
       "      <td>0.326764</td>\n",
       "    </tr>\n",
       "    <tr>\n",
       "      <th>14</th>\n",
       "      <td>Blue Chips</td>\n",
       "      <td>JBSS3.SA</td>\n",
       "      <td>30996</td>\n",
       "      <td>17.85</td>\n",
       "      <td>553293.51</td>\n",
       "      <td>4.801070</td>\n",
       "      <td>2.095791e+08</td>\n",
       "      <td>0.264002</td>\n",
       "    </tr>\n",
       "    <tr>\n",
       "      <th>6</th>\n",
       "      <td>Blue Chips</td>\n",
       "      <td>SANB4.SA</td>\n",
       "      <td>37362</td>\n",
       "      <td>14.33</td>\n",
       "      <td>535406.75</td>\n",
       "      <td>4.645862</td>\n",
       "      <td>3.194497e+06</td>\n",
       "      <td>16.760284</td>\n",
       "    </tr>\n",
       "  </tbody>\n",
       "</table>\n",
       "</div>"
      ],
      "text/plain": [
       "     Portfolio     Ativo    Qtd  Preco  Valor da posição   \n",
       "3   Blue Chips  WEGE3.SA  40206  40.55        1630386.35  \\\n",
       "11  Blue Chips  SUZB3.SA  17819  41.60         741297.62   \n",
       "14  Blue Chips  JBSS3.SA  30996  17.85         553293.51   \n",
       "6   Blue Chips  SANB4.SA  37362  14.33         535406.75   \n",
       "\n",
       "    Concentração da posição (%)     ADTV 30D   (%) do ADTV 30D  \n",
       "3                     14.147281  2.558190e+08         0.637320  \n",
       "11                     6.432430  2.268605e+08         0.326764  \n",
       "14                     4.801070  2.095791e+08         0.264002  \n",
       "6                      4.645862  3.194497e+06        16.760284  "
      ]
     },
     "execution_count": 11,
     "metadata": {},
     "output_type": "execute_result"
    }
   ],
   "source": [
    "ativos = ['SUZB3.SA','SANB4.SA', 'WEGE3.SA', 'JBSS3.SA']\n",
    "\n",
    "df_concentracao_portfolio[(df_concentracao_portfolio['Portfolio'] == 'Blue Chips') & (df_concentracao_portfolio['Ativo'].isin(ativos))].sort_values(by='Concentração da posição (%)', ascending=False)"
   ]
  },
  {
   "attachments": {},
   "cell_type": "markdown",
   "metadata": {},
   "source": [
    "## 10. Qual fundo teve a maior perda máxima durante a pandemia?\n",
    "\n",
    "- [] Low P/E.\n",
    "- [] High P/E.\n",
    "- [] High Beta.\n",
    "- [] Low Beta."
   ]
  },
  {
   "attachments": {},
   "cell_type": "markdown",
   "metadata": {},
   "source": [
    "## 11. Quantas posições do fundo High Debt possuem concentração superior a 10% da carteira?\n",
    "\n",
    "- [] Nenhuma.\n",
    "- [] 1.\n",
    "- [] 3.\n",
    "- [x] 2."
   ]
  },
  {
   "cell_type": "code",
   "execution_count": 12,
   "metadata": {
    "vscode": {
     "languageId": "python"
    }
   },
   "outputs": [
    {
     "data": {
      "text/plain": [
       "2"
      ]
     },
     "execution_count": 12,
     "metadata": {},
     "output_type": "execute_result"
    }
   ],
   "source": [
    "df_concentracao_portfolio[(df_concentracao_portfolio['Portfolio'] == 'Blue Chips') & (df_concentracao_portfolio['Concentração da posição (%)'] > 10)]['Portfolio'].count()"
   ]
  },
  {
   "attachments": {},
   "cell_type": "markdown",
   "metadata": {},
   "source": [
    "## 12. Quantos ativos do fundo Low Sharpe precisariam de mais de 5% do ADTV (30 dias) para serem totalmente liquidados da carteira?\n",
    "\n",
    "- [] 2. (correto)\n",
    "- [] 1.\n",
    "- [] 3.\n",
    "- [X] 6."
   ]
  },
  {
   "cell_type": "code",
   "execution_count": 14,
   "metadata": {
    "vscode": {
     "languageId": "python"
    }
   },
   "outputs": [
    {
     "data": {
      "text/plain": [
       "2"
      ]
     },
     "execution_count": 14,
     "metadata": {},
     "output_type": "execute_result"
    }
   ],
   "source": [
    "df_concentracao_portfolio[(df_concentracao_portfolio['Portfolio'] == 'Low Sharpe') & (df_concentracao_portfolio['(%) do ADTV 30D'] > 5)]['Portfolio'].count()"
   ]
  },
  {
   "attachments": {},
   "cell_type": "markdown",
   "metadata": {},
   "source": [
    "## 13. Qual dos portfólios abaixo apresentou o pior Alfa?\n",
    "\n",
    "- [] High P/E.\n",
    "- [] Low P/E\n",
    "- [X] Low Sharpe.\n",
    "- [] Banks."
   ]
  },
  {
   "cell_type": "code",
   "execution_count": null,
   "metadata": {
    "vscode": {
     "languageId": "python"
    }
   },
   "outputs": [],
   "source": [
    "fundos_list = ['High P/E','Low P/E','Low Sharpe','Banks']\n",
    "\n",
    "df_resultado_portfolio[df_resultado_portfolio['Portfolio'].isin(fundos_list)].sort_values(by='Alfa', ascending=False)"
   ]
  },
  {
   "attachments": {},
   "cell_type": "markdown",
   "metadata": {},
   "source": [
    "## 14. Qual dos fundos abaixo, em seu pior momento, apresentou o pior resultado?\n",
    "\n",
    "- [] Low Alpha.\n",
    "- [] High Debt.\n",
    "- [] High Volatility.\n",
    "- [] Low Liquidity."
   ]
  },
  {
   "attachments": {},
   "cell_type": "markdown",
   "metadata": {},
   "source": [
    "## 15. Qual dos fundos abaixo apresentou o melhor retorno ajustado ao risco total?\n",
    "\n",
    "- [] High Return.\n",
    "- [] High Alpha.\n",
    "- [] High Volatility.\n",
    "- [] Low Volatility."
   ]
  },
  {
   "cell_type": "code",
   "execution_count": null,
   "metadata": {
    "vscode": {
     "languageId": "python"
    }
   },
   "outputs": [],
   "source": [
    "fundos_list = ['High Return','High Alpha','High Volatility','Low Volatility']\n",
    "\n",
    "df_resultado_portfolio[df_resultado_portfolio['Portfolio'].isin(fundos_list)]"
   ]
  },
  {
   "cell_type": "code",
   "execution_count": null,
   "metadata": {
    "vscode": {
     "languageId": "python"
    }
   },
   "outputs": [],
   "source": []
  }
 ],
 "metadata": {
  "kernelspec": {
   "display_name": "Python 3 (ipykernel)",
   "language": "python",
   "name": "python3"
  },
  "orig_nbformat": 4
 },
 "nbformat": 4,
 "nbformat_minor": 2
}
