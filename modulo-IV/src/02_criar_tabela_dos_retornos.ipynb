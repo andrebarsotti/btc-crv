{
 "cells": [
  {
   "attachments": {},
   "cell_type": "markdown",
   "metadata": {},
   "source": [
    "# Atividade II\n",
    "\n",
    "Crie uma tabela com os dados de Retorno, Volatilidade, Alfa, Beta, Sharpe e Sortino para cada um dos portfólios."
   ]
  },
  {
   "cell_type": "code",
   "execution_count": 45,
   "metadata": {},
   "outputs": [],
   "source": [
    "import pandas as pd\n",
    "import numpy as np\n",
    "\n",
    "import config as cfg\n",
    "import helpers as hlp"
   ]
  },
  {
   "cell_type": "code",
   "execution_count": 46,
   "metadata": {},
   "outputs": [
    {
     "data": {
      "text/html": [
       "<div>\n",
       "<style scoped>\n",
       "    .dataframe tbody tr th:only-of-type {\n",
       "        vertical-align: middle;\n",
       "    }\n",
       "\n",
       "    .dataframe tbody tr th {\n",
       "        vertical-align: top;\n",
       "    }\n",
       "\n",
       "    .dataframe thead th {\n",
       "        text-align: right;\n",
       "    }\n",
       "</style>\n",
       "<table border=\"1\" class=\"dataframe\">\n",
       "  <thead>\n",
       "    <tr style=\"text-align: right;\">\n",
       "      <th></th>\n",
       "      <th>Portfolio</th>\n",
       "      <th>File Name</th>\n",
       "    </tr>\n",
       "  </thead>\n",
       "  <tbody>\n",
       "    <tr>\n",
       "      <th>0</th>\n",
       "      <td>Blue Chips</td>\n",
       "      <td>blue_chips.parquet</td>\n",
       "    </tr>\n",
       "    <tr>\n",
       "      <th>1</th>\n",
       "      <td>Mid Caps</td>\n",
       "      <td>mid_caps.parquet</td>\n",
       "    </tr>\n",
       "    <tr>\n",
       "      <th>2</th>\n",
       "      <td>Small Caps</td>\n",
       "      <td>small_caps.parquet</td>\n",
       "    </tr>\n",
       "    <tr>\n",
       "      <th>3</th>\n",
       "      <td>Micro Caps</td>\n",
       "      <td>micro_caps.parquet</td>\n",
       "    </tr>\n",
       "    <tr>\n",
       "      <th>4</th>\n",
       "      <td>High Return</td>\n",
       "      <td>high_return.parquet</td>\n",
       "    </tr>\n",
       "  </tbody>\n",
       "</table>\n",
       "</div>"
      ],
      "text/plain": [
       "     Portfolio            File Name\n",
       "0   Blue Chips   blue_chips.parquet\n",
       "1     Mid Caps     mid_caps.parquet\n",
       "2   Small Caps   small_caps.parquet\n",
       "3   Micro Caps   micro_caps.parquet\n",
       "4  High Return  high_return.parquet"
      ]
     },
     "execution_count": 46,
     "metadata": {},
     "output_type": "execute_result"
    }
   ],
   "source": [
    "# Lendo a lisrta de portfólios\n",
    "df_portfolio_list = pd.read_csv(f'{cfg.PATH_RESULTADOS}/portfolio_files.csv')\n",
    "\n",
    "df_portfolio_list.head()"
   ]
  },
  {
   "attachments": {},
   "cell_type": "markdown",
   "metadata": {},
   "source": [
    "## 1. Calculando as variáveis para o portfólio Blue Chips"
   ]
  },
  {
   "cell_type": "code",
   "execution_count": 47,
   "metadata": {},
   "outputs": [
    {
     "data": {
      "text/html": [
       "<div>\n",
       "<style scoped>\n",
       "    .dataframe tbody tr th:only-of-type {\n",
       "        vertical-align: middle;\n",
       "    }\n",
       "\n",
       "    .dataframe tbody tr th {\n",
       "        vertical-align: top;\n",
       "    }\n",
       "\n",
       "    .dataframe thead th {\n",
       "        text-align: right;\n",
       "    }\n",
       "</style>\n",
       "<table border=\"1\" class=\"dataframe\">\n",
       "  <thead>\n",
       "    <tr style=\"text-align: right;\">\n",
       "      <th></th>\n",
       "      <th>Blue Chips</th>\n",
       "    </tr>\n",
       "    <tr>\n",
       "      <th>Data</th>\n",
       "      <th></th>\n",
       "    </tr>\n",
       "  </thead>\n",
       "  <tbody>\n",
       "    <tr>\n",
       "      <th>2019-12-30</th>\n",
       "      <td>10000000.05</td>\n",
       "    </tr>\n",
       "    <tr>\n",
       "      <th>2020-01-02</th>\n",
       "      <td>10268933.99</td>\n",
       "    </tr>\n",
       "    <tr>\n",
       "      <th>2020-01-03</th>\n",
       "      <td>10229799.50</td>\n",
       "    </tr>\n",
       "    <tr>\n",
       "      <th>2020-01-06</th>\n",
       "      <td>10116688.58</td>\n",
       "    </tr>\n",
       "    <tr>\n",
       "      <th>2020-01-07</th>\n",
       "      <td>10155429.40</td>\n",
       "    </tr>\n",
       "  </tbody>\n",
       "</table>\n",
       "</div>"
      ],
      "text/plain": [
       "             Blue Chips\n",
       "Data                   \n",
       "2019-12-30  10000000.05\n",
       "2020-01-02  10268933.99\n",
       "2020-01-03  10229799.50\n",
       "2020-01-06  10116688.58\n",
       "2020-01-07  10155429.40"
      ]
     },
     "execution_count": 47,
     "metadata": {},
     "output_type": "execute_result"
    }
   ],
   "source": [
    "# Recuperando o arquivo\n",
    "portfolio_name = df_portfolio_list['Portfolio'].iloc[0]\n",
    "file_name = df_portfolio_list['File Name'].iloc[0]\n",
    "\n",
    "df_blue_chips = pd.read_parquet(f\"{cfg.PATH_CALCULATED_PORTFOLIO_DIR}/{file_name}\", columns=['TOTAL AMOUNT']).rename(columns={'TOTAL AMOUNT': portfolio_name})\n",
    "\n",
    "df_blue_chips.head()"
   ]
  },
  {
   "cell_type": "code",
   "execution_count": 48,
   "metadata": {},
   "outputs": [],
   "source": [
    "def log_return(df, column):\n",
    "    return np.log(df[column]/df[column].shift(1))"
   ]
  },
  {
   "cell_type": "code",
   "execution_count": 49,
   "metadata": {},
   "outputs": [],
   "source": [
    "LOG_COLUMN_NAME = \"Log Return\"\n",
    "\n",
    "df_blue_chips[LOG_COLUMN_NAME]=log_return(df_blue_chips, portfolio_name)\n",
    "\n",
    "df_blue_chips[LOG_COLUMN_NAME].fillna(0, inplace=True)"
   ]
  },
  {
   "cell_type": "code",
   "execution_count": 50,
   "metadata": {},
   "outputs": [],
   "source": [
    "df_blue_chips[f'{LOG_COLUMN_NAME} from 5D'] = df_blue_chips[LOG_COLUMN_NAME].rolling(5).sum()\n",
    "df_blue_chips[f'{LOG_COLUMN_NAME} from 21D'] = df_blue_chips[LOG_COLUMN_NAME].rolling(21).sum()\n",
    "df_blue_chips[f'{LOG_COLUMN_NAME} from 252D'] = df_blue_chips[LOG_COLUMN_NAME].rolling(252).sum()\n",
    "\n",
    "df_blue_chips[f'Acum. {LOG_COLUMN_NAME}'] = df_blue_chips[LOG_COLUMN_NAME].cumsum()\n",
    "\n",
    "# A volatilidade anualizada\n",
    "df_blue_chips[\"Vol\"] = df_blue_chips[LOG_COLUMN_NAME].rolling(21).std()*np.sqrt(252)"
   ]
  },
  {
   "cell_type": "code",
   "execution_count": 51,
   "metadata": {},
   "outputs": [
    {
     "data": {
      "text/html": [
       "<div>\n",
       "<style scoped>\n",
       "    .dataframe tbody tr th:only-of-type {\n",
       "        vertical-align: middle;\n",
       "    }\n",
       "\n",
       "    .dataframe tbody tr th {\n",
       "        vertical-align: top;\n",
       "    }\n",
       "\n",
       "    .dataframe thead th {\n",
       "        text-align: right;\n",
       "    }\n",
       "</style>\n",
       "<table border=\"1\" class=\"dataframe\">\n",
       "  <thead>\n",
       "    <tr style=\"text-align: right;\">\n",
       "      <th></th>\n",
       "      <th>Blue Chips</th>\n",
       "      <th>Log Return</th>\n",
       "      <th>Log Return from 5D</th>\n",
       "      <th>Log Return from 21D</th>\n",
       "      <th>Log Return from 252D</th>\n",
       "      <th>Acum. Log Return</th>\n",
       "      <th>Vol</th>\n",
       "    </tr>\n",
       "    <tr>\n",
       "      <th>Data</th>\n",
       "      <th></th>\n",
       "      <th></th>\n",
       "      <th></th>\n",
       "      <th></th>\n",
       "      <th></th>\n",
       "      <th></th>\n",
       "      <th></th>\n",
       "    </tr>\n",
       "  </thead>\n",
       "  <tbody>\n",
       "    <tr>\n",
       "      <th>2023-03-27</th>\n",
       "      <td>11369455.34</td>\n",
       "      <td>0.009320</td>\n",
       "      <td>-0.007184</td>\n",
       "      <td>-0.041779</td>\n",
       "      <td>-0.125607</td>\n",
       "      <td>0.128345</td>\n",
       "      <td>0.162762</td>\n",
       "    </tr>\n",
       "    <tr>\n",
       "      <th>2023-03-28</th>\n",
       "      <td>11486797.21</td>\n",
       "      <td>0.010268</td>\n",
       "      <td>0.002770</td>\n",
       "      <td>-0.029285</td>\n",
       "      <td>-0.110500</td>\n",
       "      <td>0.138613</td>\n",
       "      <td>0.168197</td>\n",
       "    </tr>\n",
       "    <tr>\n",
       "      <th>2023-03-29</th>\n",
       "      <td>11558324.82</td>\n",
       "      <td>0.006208</td>\n",
       "      <td>0.016817</td>\n",
       "      <td>-0.024672</td>\n",
       "      <td>-0.106580</td>\n",
       "      <td>0.144821</td>\n",
       "      <td>0.169980</td>\n",
       "    </tr>\n",
       "    <tr>\n",
       "      <th>2023-03-30</th>\n",
       "      <td>11738135.77</td>\n",
       "      <td>0.015437</td>\n",
       "      <td>0.050427</td>\n",
       "      <td>-0.003506</td>\n",
       "      <td>-0.098746</td>\n",
       "      <td>0.160258</td>\n",
       "      <td>0.178438</td>\n",
       "    </tr>\n",
       "    <tr>\n",
       "      <th>2023-03-31</th>\n",
       "      <td>11524379.66</td>\n",
       "      <td>-0.018378</td>\n",
       "      <td>0.022855</td>\n",
       "      <td>-0.010750</td>\n",
       "      <td>-0.120383</td>\n",
       "      <td>0.141880</td>\n",
       "      <td>0.185666</td>\n",
       "    </tr>\n",
       "  </tbody>\n",
       "</table>\n",
       "</div>"
      ],
      "text/plain": [
       "             Blue Chips  Log Return  Log Return from 5D  Log Return from 21D  \\\n",
       "Data                                                                           \n",
       "2023-03-27  11369455.34    0.009320           -0.007184            -0.041779   \n",
       "2023-03-28  11486797.21    0.010268            0.002770            -0.029285   \n",
       "2023-03-29  11558324.82    0.006208            0.016817            -0.024672   \n",
       "2023-03-30  11738135.77    0.015437            0.050427            -0.003506   \n",
       "2023-03-31  11524379.66   -0.018378            0.022855            -0.010750   \n",
       "\n",
       "            Log Return from 252D  Acum. Log Return       Vol  \n",
       "Data                                                          \n",
       "2023-03-27             -0.125607          0.128345  0.162762  \n",
       "2023-03-28             -0.110500          0.138613  0.168197  \n",
       "2023-03-29             -0.106580          0.144821  0.169980  \n",
       "2023-03-30             -0.098746          0.160258  0.178438  \n",
       "2023-03-31             -0.120383          0.141880  0.185666  "
      ]
     },
     "execution_count": 51,
     "metadata": {},
     "output_type": "execute_result"
    }
   ],
   "source": [
    "df_blue_chips.tail()"
   ]
  },
  {
   "cell_type": "code",
   "execution_count": 52,
   "metadata": {},
   "outputs": [],
   "source": [
    "df_prelast = pd.read_parquet(cfg.PATH_PRELAST_PARQUET, columns=['.BVSP', 'DI_INDEX'])"
   ]
  },
  {
   "cell_type": "code",
   "execution_count": 53,
   "metadata": {},
   "outputs": [
    {
     "data": {
      "text/html": [
       "<div>\n",
       "<style scoped>\n",
       "    .dataframe tbody tr th:only-of-type {\n",
       "        vertical-align: middle;\n",
       "    }\n",
       "\n",
       "    .dataframe tbody tr th {\n",
       "        vertical-align: top;\n",
       "    }\n",
       "\n",
       "    .dataframe thead th {\n",
       "        text-align: right;\n",
       "    }\n",
       "</style>\n",
       "<table border=\"1\" class=\"dataframe\">\n",
       "  <thead>\n",
       "    <tr style=\"text-align: right;\">\n",
       "      <th></th>\n",
       "      <th>.BVSP</th>\n",
       "      <th>DI_INDEX</th>\n",
       "    </tr>\n",
       "  </thead>\n",
       "  <tbody>\n",
       "    <tr>\n",
       "      <th>0</th>\n",
       "      <td>115645.34</td>\n",
       "      <td>688179.09</td>\n",
       "    </tr>\n",
       "    <tr>\n",
       "      <th>1</th>\n",
       "      <td>118573.10</td>\n",
       "      <td>688414.31</td>\n",
       "    </tr>\n",
       "    <tr>\n",
       "      <th>2</th>\n",
       "      <td>117706.66</td>\n",
       "      <td>688531.95</td>\n",
       "    </tr>\n",
       "    <tr>\n",
       "      <th>3</th>\n",
       "      <td>116877.92</td>\n",
       "      <td>688649.61</td>\n",
       "    </tr>\n",
       "    <tr>\n",
       "      <th>4</th>\n",
       "      <td>116661.94</td>\n",
       "      <td>688767.29</td>\n",
       "    </tr>\n",
       "  </tbody>\n",
       "</table>\n",
       "</div>"
      ],
      "text/plain": [
       "       .BVSP   DI_INDEX\n",
       "0  115645.34  688179.09\n",
       "1  118573.10  688414.31\n",
       "2  117706.66  688531.95\n",
       "3  116877.92  688649.61\n",
       "4  116661.94  688767.29"
      ]
     },
     "execution_count": 53,
     "metadata": {},
     "output_type": "execute_result"
    }
   ],
   "source": [
    "df_prelast.head()"
   ]
  },
  {
   "cell_type": "code",
   "execution_count": null,
   "metadata": {},
   "outputs": [],
   "source": []
  }
 ],
 "metadata": {
  "kernelspec": {
   "display_name": "Python 3 (ipykernel)",
   "language": "python",
   "name": "python3"
  },
  "language_info": {
   "codemirror_mode": {
    "name": "ipython",
    "version": 3
   },
   "file_extension": ".py",
   "mimetype": "text/x-python",
   "name": "python",
   "nbconvert_exporter": "python",
   "pygments_lexer": "ipython3",
   "version": "3.10.10"
  },
  "orig_nbformat": 4
 },
 "nbformat": 4,
 "nbformat_minor": 2
}
