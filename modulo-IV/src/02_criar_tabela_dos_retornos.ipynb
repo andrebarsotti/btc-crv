{
 "cells": [
  {
   "attachments": {},
   "cell_type": "markdown",
   "metadata": {},
   "source": [
    "# Atividade II\n",
    "\n",
    "Crie uma tabela com os dados de Retorno, Volatilidade, Alfa, Beta, Sharpe e Sortino para cada um dos portfólios."
   ]
  },
  {
   "cell_type": "code",
   "execution_count": null,
   "metadata": {},
   "outputs": [],
   "source": [
    "import pandas as pd\n",
    "import numpy as np\n",
    "\n",
    "import config as cfg\n",
    "import helpers as hlp"
   ]
  },
  {
   "cell_type": "code",
   "execution_count": null,
   "metadata": {},
   "outputs": [],
   "source": [
    "# Lendo a lisrta de portfólios\n",
    "df_portfolio_list = pd.read_csv(f'{cfg.PATH_RESULTADOS}/portfolio_files.csv')\n",
    "\n",
    "df_portfolio_list.head()"
   ]
  },
  {
   "attachments": {},
   "cell_type": "markdown",
   "metadata": {},
   "source": [
    "## 1. Calculando as variáveis para o portfólio Blue Chips"
   ]
  },
  {
   "cell_type": "code",
   "execution_count": null,
   "metadata": {},
   "outputs": [],
   "source": [
    "# Recuperando o arquivo\n",
    "portfolio_name = df_portfolio_list['Portfolio'].iloc[0]\n",
    "file_name = df_portfolio_list['File Name'].iloc[0]\n",
    "\n",
    "df_blue_chips = pd.read_parquet(f\"{cfg.PATH_CALCULATED_PORTFOLIO_DIR}/{file_name}\", columns=['TOTAL AMOUNT']).rename(columns={'TOTAL AMOUNT': portfolio_name})\n",
    "\n",
    "df_blue_chips.head()"
   ]
  },
  {
   "cell_type": "code",
   "execution_count": null,
   "metadata": {},
   "outputs": [],
   "source": [
    "def log_return(df, column):\n",
    "    return np.log(df[column]/df[column].shift(1))"
   ]
  },
  {
   "cell_type": "code",
   "execution_count": null,
   "metadata": {},
   "outputs": [],
   "source": [
    "LOG_COLUMN_NAME = \"Log Return\"\n",
    "\n",
    "df_blue_chips[LOG_COLUMN_NAME] = log_return(df_blue_chips, portfolio_name)"
   ]
  },
  {
   "cell_type": "code",
   "execution_count": null,
   "metadata": {},
   "outputs": [],
   "source": [
    "# Retorno acumulado do fundo\n",
    "blue_chips_return = df_blue_chips[LOG_COLUMN_NAME].sum()\n",
    "\n",
    "# A volatilidade \n",
    "blue_chips_vol = df_blue_chips[LOG_COLUMN_NAME].std()"
   ]
  },
  {
   "cell_type": "code",
   "execution_count": null,
   "metadata": {},
   "outputs": [],
   "source": [
    "print(f'Log Return Acum => {blue_chips_return * 100}')\n",
    "print(f'Volatility => {blue_chips_vol * 100}')"
   ]
  },
  {
   "cell_type": "code",
   "execution_count": null,
   "metadata": {},
   "outputs": [],
   "source": [
    "# Buscando os dados da IBOV e do DI do período\n",
    "IBOV = '.BVSP'\n",
    "DI_INDEX = 'DI_INDEX'\n",
    "\n",
    "df_prelast = pd.read_parquet(cfg.PATH_PRELAST_PARQUET, columns=['Data', IBOV, DI_INDEX])\n",
    "df_prelast.set_index('Data', inplace=True)"
   ]
  },
  {
   "cell_type": "code",
   "execution_count": null,
   "metadata": {},
   "outputs": [],
   "source": [
    "# Calulando os retornos\n",
    "IBOV_RETURN = f'{IBOV} Log Return'\n",
    "DI_INDEX_RETURN = f'{DI_INDEX} Log Return'\n",
    "\n",
    "df_prelast[IBOV_RETURN] = log_return(df_prelast, IBOV)\n",
    "df_prelast[DI_INDEX_RETURN] = log_return(df_prelast, DI_INDEX)\n",
    "\n",
    "bvsp_return = df_prelast[IBOV_RETURN].sum()\n",
    "di_return = df_prelast[DI_INDEX_RETURN].sum()\n",
    "\n",
    "print(f'BVSP Log Return Acum => {bvsp_return * 100}')\n",
    "print(f'DI_INDEX Log Return Acum => {di_return * 100}')"
   ]
  },
  {
   "cell_type": "code",
   "execution_count": null,
   "metadata": {},
   "outputs": [],
   "source": [
    "# Gerando data frame para cálculo do beta\n",
    "base_ativos = pd.merge(df_prelast[IBOV_RETURN], df_blue_chips[LOG_COLUMN_NAME], left_index=True, right_index=True)\n",
    "base_ativos.columns = [IBOV, portfolio_name]\n",
    "base_ativos.dropna(inplace=True)\n",
    "\n",
    "base_ativos.head()"
   ]
  },
  {
   "cell_type": "code",
   "execution_count": null,
   "metadata": {},
   "outputs": [],
   "source": [
    "# Calcule a matriz de covariância para o mercado e o ativo\n",
    "#cov_matrix = np.cov(base_ativos.iloc[:,0], base_ativos.iloc[:,1])\n",
    "cov_matrix = np.cov(base_ativos[IBOV], base_ativos[portfolio_name])\n",
    "\n",
    "# Extraia a covariância entre o mercado e o ativo\n",
    "market_asset_cov = cov_matrix[0,1]\n",
    "\n",
    "# Calcule o beta do ativo (ou seja, a sensibilidade dos retornos do ativo aos retornos do mercado)\n",
    "beta = market_asset_cov / np.var(base_ativos[IBOV])"
   ]
  },
  {
   "cell_type": "code",
   "execution_count": null,
   "metadata": {},
   "outputs": [],
   "source": [
    "expected_return = di_return + beta * (bvsp_return - di_return)\n",
    "\n",
    "alfa = blue_chips_return - expected_return"
   ]
  },
  {
   "cell_type": "code",
   "execution_count": null,
   "metadata": {},
   "outputs": [],
   "source": [
    "# Calculando indice sharp\n",
    "sharpe_index = (blue_chips_return - di_return)/blue_chips_vol\n",
    "\n",
    "# Sortino\n",
    "avg_return = df_blue_chips[LOG_COLUMN_NAME].mean()\n",
    "downside_deviation = np.sqrt(np.mean(np.square(np.minimum(df_blue_chips[LOG_COLUMN_NAME] - avg_return, 0))))\n",
    "sortino_index = (blue_chips_return - di_return)/downside_deviation"
   ]
  },
  {
   "cell_type": "code",
   "execution_count": null,
   "metadata": {},
   "outputs": [],
   "source": [
    "print(f'Log Return Acum => {blue_chips_return * 100}')\n",
    "print(f'Volatility => {blue_chips_vol * 100}')\n",
    "print(f'expected return => {expected_return * 100}')\n",
    "print(f'alfa => {alfa * 100}')\n",
    "print(f'beta => {beta}')\n",
    "print(f'sharpe index => {sharpe_index}')\n",
    "print(f'sortino index => {sortino_index}')"
   ]
  },
  {
   "attachments": {},
   "cell_type": "markdown",
   "metadata": {},
   "source": [
    "## 2. Calculando para todos os fundos e gerando a tabela sumarizada"
   ]
  },
  {
   "cell_type": "code",
   "execution_count": null,
   "metadata": {},
   "outputs": [],
   "source": [
    "def calculate_log_return(df, column):\n",
    "    return np.log(df[column]/df[column].shift(1))\n",
    "\n",
    "def calculate_beta(df, market_name, asset_name):\n",
    "    # Calcule a matriz de covariância para o mercado e o ativo\n",
    "    cov_matrix = np.cov(df[market_name], df[asset_name])\n",
    "\n",
    "    # Extraia a covariância entre o mercado e o ativo\n",
    "    market_asset_cov = cov_matrix[0,1]\n",
    "\n",
    "    # Calcule o beta do ativo (ou seja, a sensibilidade dos retornos do ativo aos retornos do mercado)\n",
    "    return market_asset_cov / np.var(df[market_name])\n",
    "\n",
    "def calculate_expected_return(free_risk_return, beta, benchmark_return):\n",
    "    return free_risk_return + beta * (benchmark_return - free_risk_return)\n",
    "\n",
    "def calculate_alfa(asset_return, expected_return):\n",
    "    return asset_return - expected_return\n",
    "\n",
    "def calculate_downside_deviation(df, asset_name):\n",
    "    avg_return = df[asset_name].mean()\n",
    "    return np.sqrt(np.mean(np.square(np.minimum(df[asset_name] - avg_return, 0))))\n",
    "\n",
    "# As formulas dos índices Sharp e Sortino são iguais só mudando o desvio (um usa a vol o outro desvio negativo)\n",
    "def caculate_sharpe_sortino_index(asset_return, free_risk_return, deviation):\n",
    "    return (asset_return - free_risk_return) / deviation\n"
   ]
  },
  {
   "cell_type": "code",
   "execution_count": null,
   "metadata": {},
   "outputs": [],
   "source": [
    "# ------------------------------------------------------------------------------------------------\n",
    "# Gerando inicializando um data fram dos retornos com os retornos do IBOV e do DI\n",
    "# ------------------------------------------------------------------------------------------------\n",
    "IBOV = '.BVSP'\n",
    "DI_INDEX = 'DI_INDEX'\n",
    "\n",
    "# Buscando os dados dos dois índices\n",
    "df_prelast = pd.read_parquet(cfg.PATH_PRELAST_PARQUET, columns=['Data', IBOV, DI_INDEX])\n",
    "df_prelast.set_index('Data', inplace=True)\n",
    "\n",
    "df_returns = pd.DataFrame()\n",
    "df_returns[IBOV] = calculate_log_return(df_prelast, IBOV)\n",
    "df_returns[DI_INDEX] = calculate_log_return(df_prelast, DI_INDEX)\n",
    "\n",
    "df_returns.head()"
   ]
  },
  {
   "cell_type": "code",
   "execution_count": null,
   "metadata": {},
   "outputs": [],
   "source": [
    "#Acrescentando o retorno dos portfólios\n",
    "for index, row in df_portfolio_list.iterrows():\n",
    "    portfolio_name = row['Portfolio']\n",
    "    file_name = row['File Name']\n",
    "\n",
    "    df = pd.read_parquet(f\"{cfg.PATH_CALCULATED_PORTFOLIO_DIR}/{file_name}\", columns=['TOTAL AMOUNT']).rename(columns={'TOTAL AMOUNT': portfolio_name})\n",
    "    \n",
    "    df_returns[portfolio_name] = calculate_log_return(df, portfolio_name)\n",
    "\n",
    "df_returns.head()"
   ]
  },
  {
   "cell_type": "code",
   "execution_count": null,
   "metadata": {},
   "outputs": [],
   "source": [
    "# Eliminando o N/A\n",
    "df_returns.dropna(inplace = True)"
   ]
  },
  {
   "cell_type": "code",
   "execution_count": null,
   "metadata": {},
   "outputs": [],
   "source": [
    "bvsp_return = df_returns[IBOV].sum()\n",
    "di_return = df_returns[DI_INDEX].sum()\n",
    "\n",
    "portfolio_indexes_list = [{\n",
    "            'Portfolio' : IBOV, \n",
    "            'Retorno' : bvsp_return * 100\n",
    "            },\n",
    "            {\n",
    "            'Portfolio' : DI_INDEX, \n",
    "            'Retorno' : di_return * 100\n",
    "            }\n",
    "            ]\n",
    "\n",
    "for index, row in df_portfolio_list.iterrows():\n",
    "    portfolio_name = row['Portfolio']\n",
    "\n",
    "    # Calculando indicadores do Portfolio\n",
    "    acum_return = df_returns[portfolio_name].sum()\n",
    "    vol_portfolio = df_returns[portfolio_name].std()\n",
    "    downside_deviation = calculate_downside_deviation(df_returns, portfolio_name)\n",
    "    beta = calculate_beta(df_returns, IBOV, portfolio_name)\n",
    "    expected_return = calculate_expected_return(di_return, beta, bvsp_return)\n",
    "    alfa = calculate_alfa(acum_return,expected_return)\n",
    "    sharpe_index = caculate_sharpe_sortino_index(acum_return, di_return, vol_portfolio)\n",
    "    sortino_index = caculate_sharpe_sortino_index(acum_return, di_return, downside_deviation)\n",
    "\n",
    "    row = {\n",
    "            'Portfolio' : portfolio_name, \n",
    "            'Retorno' : acum_return * 100,\n",
    "            'Volatilidade' : vol_portfolio * 100, \n",
    "            'Retorno Experado' : expected_return * 100,\n",
    "            'Alfa' : alfa * 100,\n",
    "            'Beta' : beta,\n",
    "            'Sharpe' : sharpe_index,\n",
    "            'Sortino' : sortino_index\n",
    "        }\n",
    "\n",
    "    portfolio_indexes_list.append(row)\n",
    "\n",
    "df_portfolio_index = pd.DataFrame(portfolio_indexes_list)\n",
    "df_portfolio_index.head()"
   ]
  },
  {
   "cell_type": "code",
   "execution_count": null,
   "metadata": {},
   "outputs": [],
   "source": [
    "# Salvando os dados\n",
    "hlp.save_to_parquet(df_returns, cfg.PATH_TABELA_RETORNOS)\n",
    "hlp.save_to_parquet(df_portfolio_index, cfg.PATH_TABELA_INDICADORES_PORTFOLIO)"
   ]
  }
 ],
 "metadata": {
  "kernelspec": {
   "display_name": "Python 3 (ipykernel)",
   "language": "python",
   "name": "python3"
  },
  "language_info": {
   "codemirror_mode": {
    "name": "ipython",
    "version": 3
   },
   "file_extension": ".py",
   "mimetype": "text/x-python",
   "name": "python",
   "nbconvert_exporter": "python",
   "pygments_lexer": "ipython3",
   "version": "3.10.10"
  },
  "orig_nbformat": 4
 },
 "nbformat": 4,
 "nbformat_minor": 2
}
