{
 "cells": [
  {
   "cell_type": "code",
   "execution_count": null,
   "metadata": {},
   "outputs": [],
   "source": [
    "import pandas as pd\n",
    "import plotly.express as px\n",
    "import plotly.graph_objects as go\n",
    "import numpy as np\n",
    "\n",
    "import config as cfg\n",
    "\n",
    "pd.plotting.register_matplotlib_converters()"
   ]
  },
  {
   "cell_type": "code",
   "execution_count": null,
   "metadata": {},
   "outputs": [],
   "source": [
    "# Salvando os dados\n",
    "df_returns = pd.read_parquet(cfg.PATH_TABELA_RETORNOS)\n",
    "df_portfolio_index = pd.read_parquet(cfg.PATH_TABELA_INDICADORES_PORTFOLIO)"
   ]
  },
  {
   "cell_type": "code",
   "execution_count": null,
   "metadata": {},
   "outputs": [],
   "source": [
    "df = pd.DataFrame()\n",
    "\n",
    "for column in df_returns.columns.to_list():\n",
    "    df[column] = df_returns[column].cumsum() * 100\n",
    "# df['.BVSP'] = df_returns['.BVSP'].cumsum() * 100\n",
    "# df['DI_INDEX'] = df_returns['DI_INDEX'].cumsum() * 100\n",
    "# df['Blue Chips'] = df_returns['Blue Chips'].cumsum() * 100"
   ]
  },
  {
   "cell_type": "code",
   "execution_count": null,
   "metadata": {},
   "outputs": [],
   "source": [
    "fig = px.line(df)\n",
    "fig.show()"
   ]
  },
  {
   "cell_type": "code",
   "execution_count": null,
   "metadata": {},
   "outputs": [],
   "source": [
    "df_portfolio_index.info()"
   ]
  },
  {
   "cell_type": "code",
   "execution_count": null,
   "metadata": {},
   "outputs": [],
   "source": [
    "df_portfolio_index.head()"
   ]
  },
  {
   "cell_type": "code",
   "execution_count": null,
   "metadata": {},
   "outputs": [],
   "source": [
    "fig = go.Figure(data=[go.Table(\n",
    "    header=dict(values=list(df_portfolio_index.columns),\n",
    "                fill_color='paleturquoise',\n",
    "                align='left'),\n",
    "    cells=dict(values=[df_portfolio_index['Portfolio'],\n",
    "                       np.round(df_portfolio_index['Retorno'],2),\n",
    "                       np.round(df_portfolio_index['Volatilidade'],2),\n",
    "                       np.round(df_portfolio_index['Retorno Experado'],2),\n",
    "                       np.round(df_portfolio_index['Alfa'], 2),\n",
    "                       np.round(df_portfolio_index['Beta'], 5),\n",
    "                       np.round(df_portfolio_index['Sharpe'], 5),\n",
    "                       np.round(df_portfolio_index['Sortino'], 5),\n",
    "                       df_portfolio_index['Data Ref.']\n",
    "                       ],\n",
    "               fill_color='lavender',\n",
    "               align='left'))\n",
    "])\n",
    "\n",
    "fig.show()"
   ]
  },
  {
   "cell_type": "code",
   "execution_count": null,
   "metadata": {},
   "outputs": [],
   "source": [
    "df_concentration =  pd.read_parquet(cfg.PATH_TABELA_CONCENTRACAO_PORTFOLIO)\n",
    "\n",
    "df_concentration.head()"
   ]
  },
  {
   "cell_type": "code",
   "execution_count": null,
   "metadata": {},
   "outputs": [],
   "source": [
    "fig = go.Figure(data=[go.Table(\n",
    "    header=dict(values=list(df_concentration.columns),\n",
    "                fill_color='paleturquoise',\n",
    "                align='left'),\n",
    "    cells=dict(values=[\n",
    "                       df_concentration['Portfolio'],\n",
    "                       df_concentration['Ativo'],\n",
    "                       df_concentration['Qtd'],\n",
    "                       df_concentration['Preco'],\n",
    "                       df_concentration['Valor da posição'], \n",
    "                       df_concentration['Concentração da posição (%)'], \n",
    "                       df_concentration['ADTV 30D'], \n",
    "                       df_concentration['(%) do ADTV 30D']\n",
    "                       ],\n",
    "               fill_color='lavender',\n",
    "               align='left'))\n",
    "])\n",
    "\n",
    "fig.show()"
   ]
  },
  {
   "cell_type": "code",
   "execution_count": null,
   "metadata": {},
   "outputs": [],
   "source": []
  }
 ],
 "metadata": {
  "kernelspec": {
   "display_name": "Python 3 (ipykernel)",
   "language": "python",
   "name": "python3"
  },
  "language_info": {
   "codemirror_mode": {
    "name": "ipython",
    "version": 3
   },
   "file_extension": ".py",
   "mimetype": "text/x-python",
   "name": "python",
   "nbconvert_exporter": "python",
   "pygments_lexer": "ipython3",
   "version": "3.10.10"
  },
  "orig_nbformat": 4
 },
 "nbformat": 4,
 "nbformat_minor": 2
}
