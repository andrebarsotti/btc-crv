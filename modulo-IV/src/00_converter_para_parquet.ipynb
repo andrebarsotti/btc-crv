{
 "cells": [
  {
   "attachments": {},
   "cell_type": "markdown",
   "metadata": {},
   "source": [
    "# Trantamento inicial da planilha\n",
    "\n",
    "Primeiramente vamos ler a planilha e salvá-la no formato parquet."
   ]
  },
  {
   "cell_type": "code",
   "execution_count": 1,
   "metadata": {},
   "outputs": [],
   "source": [
    "import pandas as pd\n",
    "import pyarrow as pa\n",
    "import pyarrow.parquet as pq\n",
    "\n",
    "import config as cfg\n",
    "import helpers as hlp"
   ]
  },
  {
   "cell_type": "code",
   "execution_count": 2,
   "metadata": {},
   "outputs": [
    {
     "data": {
      "text/plain": [
       "['Screener', 'Portfolios', 'PreLast', 'Volume']"
      ]
     },
     "execution_count": 2,
     "metadata": {},
     "output_type": "execute_result"
    }
   ],
   "source": [
    "excel_file = pd.ExcelFile(cfg.PATH_EXCEL_DATABASE)\n",
    "\n",
    "excel_file.sheet_names"
   ]
  },
  {
   "cell_type": "code",
   "execution_count": 3,
   "metadata": {},
   "outputs": [],
   "source": [
    "def save_to_parquet(df, path):\n",
    "    hlp.ensure_folder_exists(path)\n",
    "    table = pa.Table.from_pandas(df)\n",
    "    pq.write_table(table, path)"
   ]
  },
  {
   "cell_type": "code",
   "execution_count": 4,
   "metadata": {},
   "outputs": [
    {
     "name": "stdout",
     "output_type": "stream",
     "text": [
      "<class 'pandas.core.frame.DataFrame'>\n",
      "RangeIndex: 148 entries, 0 to 147\n",
      "Data columns (total 23 columns):\n",
      " #   Column                                                          Non-Null Count  Dtype  \n",
      "---  ------                                                          --------------  -----  \n",
      " 0   Identifier (RIC)                                                148 non-null    object \n",
      " 1   Company Name                                                    148 non-null    object \n",
      " 2   Country of Exchange                                             148 non-null    object \n",
      " 3   TRBC Industry Name                                              146 non-null    object \n",
      " 4   Market Capitalization(FY0, BRL)                                 146 non-null    float64\n",
      " 5   Average Daily Value Traded - 52 Weeks(BRL)                      146 non-null    float64\n",
      " 6   Price to EPS Diluted excl Exord, Common - Total, 5 Yr Avg(FY0)  146 non-null    float64\n",
      " 7   Price to Book Value per Share, 5 Yr Avg(FY0)                    146 non-null    float64\n",
      " 8   Average Daily Volume - 10 Days                                  146 non-null    float64\n",
      " 9   Total Debt to Common Equity, 5 Yr Avg(FY0)                      146 non-null    float64\n",
      " 10  Beta 5 Year                                                     146 non-null    float64\n",
      " 11  Monthly Alpha - 5 Year                                          146 non-null    float64\n",
      " 12  Monthly Sharpe Ratio - 5 Year                                   146 non-null    float64\n",
      " 13  52 Week Total Return                                            146 non-null    float64\n",
      " 14  Trailing 5 Year Price Net Change(BRL)                           145 non-null    float64\n",
      " 15  Weekly Alpha - 2 Year                                           144 non-null    float64\n",
      " 16  Weekly Beta - 2 Year                                            144 non-null    float64\n",
      " 17  Weekly Sharpe Ratio - 2 Year                                    144 non-null    float64\n",
      " 18  Volatility - 10 days                                            146 non-null    float64\n",
      " 19  Volatility - 30 days                                            146 non-null    float64\n",
      " 20  Volatility - 60 days                                            146 non-null    float64\n",
      " 21  Volatility - 90 days                                            146 non-null    float64\n",
      " 22  Volatility - 200 days                                           146 non-null    float64\n",
      "dtypes: float64(19), object(4)\n",
      "memory usage: 26.7+ KB\n"
     ]
    }
   ],
   "source": [
    "df_screener = excel_file.parse(excel_file.sheet_names[0])\n",
    "\n",
    "df_screener.columns = df_screener.columns.str.replace('\\n', '')\n",
    "\n",
    "save_to_parquet(df_screener, cfg.PATH_SCREENER_PARQUET)\n",
    "\n",
    "df_screener.info()"
   ]
  },
  {
   "cell_type": "code",
   "execution_count": 5,
   "metadata": {},
   "outputs": [
    {
     "name": "stdout",
     "output_type": "stream",
     "text": [
      "<class 'pandas.core.frame.DataFrame'>\n",
      "RangeIndex: 15 entries, 0 to 14\n",
      "Data columns (total 24 columns):\n",
      " #   Column           Non-Null Count  Dtype \n",
      "---  ------           --------------  ----- \n",
      " 0   Blue Chips       15 non-null     object\n",
      " 1   Mid Caps         15 non-null     object\n",
      " 2   Small Caps       15 non-null     object\n",
      " 3   Micro Caps       15 non-null     object\n",
      " 4   High Return      15 non-null     object\n",
      " 5   Low Return       15 non-null     object\n",
      " 6   High Volatility  15 non-null     object\n",
      " 7   Low Volatility   15 non-null     object\n",
      " 8   High Liquidity   15 non-null     object\n",
      " 9   Low Liquidity    15 non-null     object\n",
      " 10  High Beta        15 non-null     object\n",
      " 11  Market Beta      15 non-null     object\n",
      " 12  Low Beta         15 non-null     object\n",
      " 13  High Alpha       15 non-null     object\n",
      " 14  Low Alpha        15 non-null     object\n",
      " 15  High Sharpe      15 non-null     object\n",
      " 16  Low Sharpe       15 non-null     object\n",
      " 17  High P/E         15 non-null     object\n",
      " 18  Low P/E          15 non-null     object\n",
      " 19  High P/B         15 non-null     object\n",
      " 20  Low P/B          15 non-null     object\n",
      " 21  High Debt        15 non-null     object\n",
      " 22  Low Debt         15 non-null     object\n",
      " 23  Banks            15 non-null     object\n",
      "dtypes: object(24)\n",
      "memory usage: 2.9+ KB\n"
     ]
    }
   ],
   "source": [
    "df_portfolios = excel_file.parse(excel_file.sheet_names[1])\n",
    "\n",
    "df_portfolios.columns = df_portfolios.columns.str.replace('\\n', '')\n",
    "\n",
    "save_to_parquet(df_portfolios, cfg.PATH_PORTFOLIO_PARQUET)\n",
    "\n",
    "df_portfolios.info()"
   ]
  },
  {
   "cell_type": "code",
   "execution_count": 6,
   "metadata": {},
   "outputs": [
    {
     "name": "stdout",
     "output_type": "stream",
     "text": [
      "<class 'pandas.core.frame.DataFrame'>\n",
      "RangeIndex: 810 entries, 0 to 809\n",
      "Columns: 149 entries, Data to DI_INDEX\n",
      "dtypes: datetime64[ns](1), float64(148)\n",
      "memory usage: 943.0 KB\n"
     ]
    }
   ],
   "source": [
    "df_prelast = excel_file.parse(excel_file.sheet_names[2])\n",
    "\n",
    "df_prelast.columns = df_prelast.columns.str.replace('\\n', '')\n",
    "\n",
    "save_to_parquet(df_prelast, cfg.PATH_PRELAST_PARQUET)\n",
    "\n",
    "df_prelast.info()"
   ]
  },
  {
   "cell_type": "code",
   "execution_count": 7,
   "metadata": {},
   "outputs": [
    {
     "name": "stdout",
     "output_type": "stream",
     "text": [
      "<class 'pandas.core.frame.DataFrame'>\n",
      "RangeIndex: 809 entries, 0 to 808\n",
      "Columns: 148 entries, Data to .BVSP\n",
      "dtypes: datetime64[ns](1), float64(144), int64(3)\n",
      "memory usage: 935.5 KB\n"
     ]
    }
   ],
   "source": [
    "df_volume = excel_file.parse(excel_file.sheet_names[3])\n",
    "\n",
    "df_volume.columns = df_volume.columns.str.replace('\\n', '')\n",
    "\n",
    "save_to_parquet(df_volume, cfg.PATH_VOLUME_PARQUET)\n",
    "\n",
    "df_volume.info()"
   ]
  }
 ],
 "metadata": {
  "kernelspec": {
   "display_name": "Python 3 (ipykernel)",
   "language": "python",
   "name": "python3"
  },
  "language_info": {
   "codemirror_mode": {
    "name": "ipython",
    "version": 3
   },
   "file_extension": ".py",
   "mimetype": "text/x-python",
   "name": "python",
   "nbconvert_exporter": "python",
   "pygments_lexer": "ipython3",
   "version": "3.10.10"
  },
  "orig_nbformat": 4
 },
 "nbformat": 4,
 "nbformat_minor": 2
}
