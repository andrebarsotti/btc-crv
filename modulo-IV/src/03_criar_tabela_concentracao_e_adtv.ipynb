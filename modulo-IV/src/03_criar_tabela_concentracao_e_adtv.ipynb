{
 "cells": [
  {
   "attachments": {},
   "cell_type": "markdown",
   "metadata": {},
   "source": [
    "# TPM - Atividade III\n",
    "\n",
    "Crie uma tabela com os valores das posições de cada um dos portfólios desenvolvidos, e dê os dados da posição de cada um dos fundos na data de 30/03/2023, calcule o percentual de concentração de cada um dos portfólios e a porcentagem do ADTV dos últimos 30 dias que cada posição possui."
   ]
  },
  {
   "cell_type": "code",
   "execution_count": 1,
   "metadata": {},
   "outputs": [],
   "source": [
    "import pandas as pd\n",
    "import numpy as np\n",
    "from tqdm.notebook import tqdm\n",
    "\n",
    "import config as cfg\n",
    "import helpers as hlp"
   ]
  },
  {
   "cell_type": "code",
   "execution_count": 2,
   "metadata": {},
   "outputs": [
    {
     "data": {
      "text/html": [
       "<div>\n",
       "<style scoped>\n",
       "    .dataframe tbody tr th:only-of-type {\n",
       "        vertical-align: middle;\n",
       "    }\n",
       "\n",
       "    .dataframe tbody tr th {\n",
       "        vertical-align: top;\n",
       "    }\n",
       "\n",
       "    .dataframe thead th {\n",
       "        text-align: right;\n",
       "    }\n",
       "</style>\n",
       "<table border=\"1\" class=\"dataframe\">\n",
       "  <thead>\n",
       "    <tr style=\"text-align: right;\">\n",
       "      <th></th>\n",
       "      <th>Portfolio</th>\n",
       "      <th>File Name</th>\n",
       "    </tr>\n",
       "  </thead>\n",
       "  <tbody>\n",
       "    <tr>\n",
       "      <th>0</th>\n",
       "      <td>Blue Chips</td>\n",
       "      <td>blue_chips.parquet</td>\n",
       "    </tr>\n",
       "    <tr>\n",
       "      <th>1</th>\n",
       "      <td>Mid Caps</td>\n",
       "      <td>mid_caps.parquet</td>\n",
       "    </tr>\n",
       "    <tr>\n",
       "      <th>2</th>\n",
       "      <td>Small Caps</td>\n",
       "      <td>small_caps.parquet</td>\n",
       "    </tr>\n",
       "    <tr>\n",
       "      <th>3</th>\n",
       "      <td>Micro Caps</td>\n",
       "      <td>micro_caps.parquet</td>\n",
       "    </tr>\n",
       "    <tr>\n",
       "      <th>4</th>\n",
       "      <td>High Return</td>\n",
       "      <td>high_return.parquet</td>\n",
       "    </tr>\n",
       "  </tbody>\n",
       "</table>\n",
       "</div>"
      ],
      "text/plain": [
       "     Portfolio            File Name\n",
       "0   Blue Chips   blue_chips.parquet\n",
       "1     Mid Caps     mid_caps.parquet\n",
       "2   Small Caps   small_caps.parquet\n",
       "3   Micro Caps   micro_caps.parquet\n",
       "4  High Return  high_return.parquet"
      ]
     },
     "execution_count": 2,
     "metadata": {},
     "output_type": "execute_result"
    }
   ],
   "source": [
    "# Lendo a lista de portfólios\n",
    "df_portfolio_list = pd.read_csv(f'{cfg.PATH_RESULTADOS}/portfolio_files.csv')\n",
    "\n",
    "df_portfolio_list.head()"
   ]
  },
  {
   "cell_type": "code",
   "execution_count": 3,
   "metadata": {},
   "outputs": [],
   "source": [
    "# Lendo a composição dos portfolios\n",
    "df_portfolios_asset = pd.read_parquet(cfg.PATH_PORTFOLIO_PARQUET)"
   ]
  },
  {
   "cell_type": "code",
   "execution_count": 4,
   "metadata": {},
   "outputs": [
    {
     "name": "stdout",
     "output_type": "stream",
     "text": [
      "start_date => 2023-03-01 00:00:00\n",
      "end_date => 2023-03-31 00:00:00\n"
     ]
    }
   ],
   "source": [
    "# Lendo o histórico do volume de negociações\n",
    "df_volume = pd.read_parquet(cfg.PATH_VOLUME_PARQUET)\n",
    "df_volume.set_index('Data', inplace=True)\n",
    "\n",
    "end_date = pd.to_datetime('2023-03-31')\n",
    "start_date = pd.to_datetime(end_date) - pd.DateOffset(days=30)\n",
    "\n",
    "print(f'start_date => {start_date}')\n",
    "print(f'end_date => {end_date}')\n",
    "\n",
    "mask = (df_volume.index >= start_date) & (df_volume.index <= end_date)\n",
    "df_volume = df_volume.loc[mask]\n"
   ]
  },
  {
   "cell_type": "code",
   "execution_count": 5,
   "metadata": {},
   "outputs": [],
   "source": [
    "# Recuperando a quantidade de ações dispóníveis para negociação\n",
    "df_share_outstanding = pd.read_parquet(cfg.PATH_SHARESOUTSTANDING_PARQUET)"
   ]
  },
  {
   "attachments": {},
   "cell_type": "markdown",
   "metadata": {},
   "source": [
    "## 1. Calculando para o portfólio de Blue Ships"
   ]
  },
  {
   "cell_type": "code",
   "execution_count": 6,
   "metadata": {},
   "outputs": [],
   "source": [
    "# Recuperando o arquivo\n",
    "portfolio_name = df_portfolio_list['Portfolio'].iloc[0]\n",
    "file_name = df_portfolio_list['File Name'].iloc[0]\n",
    "\n",
    "df_blue_chips = pd.read_parquet(f\"{cfg.PATH_CALCULATED_PORTFOLIO_DIR}/{file_name}\")"
   ]
  },
  {
   "cell_type": "code",
   "execution_count": 7,
   "metadata": {},
   "outputs": [],
   "source": [
    "# Recuperando a posição em 30/03/2023\n",
    "posicao_data_base = df_blue_chips.loc['2023-03-31']\n",
    "\n",
    "# Recuperando a lista dos ativos do portfloio\n",
    "stock_list = df_portfolios_asset[portfolio_name].to_list()"
   ]
  },
  {
   "cell_type": "code",
   "execution_count": 8,
   "metadata": {},
   "outputs": [
    {
     "data": {
      "application/vnd.jupyter.widget-view+json": {
       "model_id": "d59d183a0a9b4686a3a0c68cff462b81",
       "version_major": 2,
       "version_minor": 0
      },
      "text/plain": [
       "  0%|          | 0/15 [00:00<?, ?it/s]"
      ]
     },
     "metadata": {},
     "output_type": "display_data"
    },
    {
     "data": {
      "text/html": [
       "<div>\n",
       "<style scoped>\n",
       "    .dataframe tbody tr th:only-of-type {\n",
       "        vertical-align: middle;\n",
       "    }\n",
       "\n",
       "    .dataframe tbody tr th {\n",
       "        vertical-align: top;\n",
       "    }\n",
       "\n",
       "    .dataframe thead th {\n",
       "        text-align: right;\n",
       "    }\n",
       "</style>\n",
       "<table border=\"1\" class=\"dataframe\">\n",
       "  <thead>\n",
       "    <tr style=\"text-align: right;\">\n",
       "      <th></th>\n",
       "      <th>Ativo</th>\n",
       "      <th>Qtd</th>\n",
       "      <th>Preco</th>\n",
       "      <th>Valor da posição</th>\n",
       "      <th>Concentração da posição (%)</th>\n",
       "      <th>ADTV 30D (%)</th>\n",
       "    </tr>\n",
       "  </thead>\n",
       "  <tbody>\n",
       "    <tr>\n",
       "      <th>0</th>\n",
       "      <td>VALE3.SA</td>\n",
       "      <td>17169</td>\n",
       "      <td>80.29</td>\n",
       "      <td>1378517.92</td>\n",
       "      <td>11.961754</td>\n",
       "      <td>41.507868</td>\n",
       "    </tr>\n",
       "    <tr>\n",
       "      <th>1</th>\n",
       "      <td>PETR4.SA</td>\n",
       "      <td>44683</td>\n",
       "      <td>23.45</td>\n",
       "      <td>1047819.60</td>\n",
       "      <td>9.092200</td>\n",
       "      <td>27.899135</td>\n",
       "    </tr>\n",
       "    <tr>\n",
       "      <th>2</th>\n",
       "      <td>ITUB4.SA</td>\n",
       "      <td>24519</td>\n",
       "      <td>24.74</td>\n",
       "      <td>606617.92</td>\n",
       "      <td>5.263779</td>\n",
       "      <td>18.940726</td>\n",
       "    </tr>\n",
       "    <tr>\n",
       "      <th>3</th>\n",
       "      <td>WEGE3.SA</td>\n",
       "      <td>40206</td>\n",
       "      <td>40.55</td>\n",
       "      <td>1630386.35</td>\n",
       "      <td>14.147281</td>\n",
       "      <td>6.096431</td>\n",
       "    </tr>\n",
       "    <tr>\n",
       "      <th>4</th>\n",
       "      <td>BBDC4.SA</td>\n",
       "      <td>28122</td>\n",
       "      <td>13.17</td>\n",
       "      <td>370367.51</td>\n",
       "      <td>3.213774</td>\n",
       "      <td>12.535386</td>\n",
       "    </tr>\n",
       "  </tbody>\n",
       "</table>\n",
       "</div>"
      ],
      "text/plain": [
       "      Ativo    Qtd  Preco  Valor da posição  Concentração da posição (%)   \n",
       "0  VALE3.SA  17169  80.29        1378517.92                    11.961754  \\\n",
       "1  PETR4.SA  44683  23.45        1047819.60                     9.092200   \n",
       "2  ITUB4.SA  24519  24.74         606617.92                     5.263779   \n",
       "3  WEGE3.SA  40206  40.55        1630386.35                    14.147281   \n",
       "4  BBDC4.SA  28122  13.17         370367.51                     3.213774   \n",
       "\n",
       "   ADTV 30D (%)  \n",
       "0     41.507868  \n",
       "1     27.899135  \n",
       "2     18.940726  \n",
       "3      6.096431  \n",
       "4     12.535386  "
      ]
     },
     "execution_count": 8,
     "metadata": {},
     "output_type": "execute_result"
    }
   ],
   "source": [
    "# Calculando a concentração do portfolio\n",
    "concentration_list = []\n",
    "\n",
    "for stock in tqdm(stock_list):\n",
    "    mean_volume = df_volume[stock].mean()\n",
    "    shares_outstanding = df_share_outstanding[df_share_outstanding['Stock'] == stock]['SharesOutstanding'].values[0]\n",
    "\n",
    "    position = {\n",
    "        'Ativo': stock,\n",
    "        'Qtd': int(posicao_data_base[f'{stock}_qtd']),\n",
    "        'Preco': posicao_data_base[f'{stock}_price'],\n",
    "        'Valor da posição': posicao_data_base[stock],\n",
    "        'Concentração da posição (%)': posicao_data_base[stock]/posicao_data_base['TOTAL AMOUNT'] * 100,\n",
    "        'ADTV 30D (%)': mean_volume / shares_outstanding * 100\n",
    "    }\n",
    "    concentration_list.append(position)\n",
    "\n",
    "df_concentration = pd.DataFrame(concentration_list)\n",
    "\n",
    "df_concentration.head()"
   ]
  },
  {
   "attachments": {},
   "cell_type": "markdown",
   "metadata": {},
   "source": [
    "## 2. Calculando para todos os portfolios."
   ]
  },
  {
   "cell_type": "code",
   "execution_count": 9,
   "metadata": {},
   "outputs": [],
   "source": [
    "def calculate_portfolio_concentration(df, portfolio_name, base_date):\n",
    "    # Recuperando a lista dos ativos do portfloio\n",
    "    stock_list = df_portfolios_asset[portfolio_name].to_list()  \n",
    "\n",
    "    base_position = df.loc[base_date]\n",
    "    \n",
    "    # Calculando a concentração do portfolio\n",
    "    concentration_list = []\n",
    "\n",
    "    for stock in stock_list:\n",
    "        mean_volume = df_volume[stock].mean()\n",
    "\n",
    "        position = {\n",
    "            'Portfolio': portfolio_name,\n",
    "            'Ativo': stock,\n",
    "            'Qtd': int(base_position[f'{stock}_qtd']),\n",
    "            'Preco': base_position[f'{stock}_price'],\n",
    "            'Valor da posição': base_position[stock],\n",
    "            'Concentração da posição (%)': base_position[stock]/base_position['TOTAL AMOUNT'] * 100,\n",
    "            'ADTV 30D': mean_volume,\n",
    "            '(%) do ADTV 30D': base_position[stock] / mean_volume * 100\n",
    "        }\n",
    "        concentration_list.append(position)\n",
    "\n",
    "    df_concentration = pd.DataFrame(concentration_list)\n",
    "\n",
    "    return df_concentration\n"
   ]
  },
  {
   "cell_type": "code",
   "execution_count": 10,
   "metadata": {},
   "outputs": [
    {
     "data": {
      "application/vnd.jupyter.widget-view+json": {
       "model_id": "001e323ac30b4128b37ce719a007fe71",
       "version_major": 2,
       "version_minor": 0
      },
      "text/plain": [
       "  0%|          | 0/24 [00:00<?, ?it/s]"
      ]
     },
     "metadata": {},
     "output_type": "display_data"
    },
    {
     "data": {
      "text/html": [
       "<div>\n",
       "<style scoped>\n",
       "    .dataframe tbody tr th:only-of-type {\n",
       "        vertical-align: middle;\n",
       "    }\n",
       "\n",
       "    .dataframe tbody tr th {\n",
       "        vertical-align: top;\n",
       "    }\n",
       "\n",
       "    .dataframe thead th {\n",
       "        text-align: right;\n",
       "    }\n",
       "</style>\n",
       "<table border=\"1\" class=\"dataframe\">\n",
       "  <thead>\n",
       "    <tr style=\"text-align: right;\">\n",
       "      <th></th>\n",
       "      <th>Portfolio</th>\n",
       "      <th>Ativo</th>\n",
       "      <th>Qtd</th>\n",
       "      <th>Preco</th>\n",
       "      <th>Valor da posição</th>\n",
       "      <th>Concentração da posição (%)</th>\n",
       "      <th>ADTV 30D</th>\n",
       "      <th>(%) do ADTV 30D</th>\n",
       "    </tr>\n",
       "  </thead>\n",
       "  <tbody>\n",
       "    <tr>\n",
       "      <th>0</th>\n",
       "      <td>Blue Chips</td>\n",
       "      <td>VALE3.SA</td>\n",
       "      <td>17169</td>\n",
       "      <td>80.29</td>\n",
       "      <td>1378517.92</td>\n",
       "      <td>11.961754</td>\n",
       "      <td>1.846490e+09</td>\n",
       "      <td>0.074656</td>\n",
       "    </tr>\n",
       "    <tr>\n",
       "      <th>1</th>\n",
       "      <td>Blue Chips</td>\n",
       "      <td>PETR4.SA</td>\n",
       "      <td>44683</td>\n",
       "      <td>23.45</td>\n",
       "      <td>1047819.60</td>\n",
       "      <td>9.092200</td>\n",
       "      <td>1.562901e+09</td>\n",
       "      <td>0.067043</td>\n",
       "    </tr>\n",
       "    <tr>\n",
       "      <th>2</th>\n",
       "      <td>Blue Chips</td>\n",
       "      <td>ITUB4.SA</td>\n",
       "      <td>24519</td>\n",
       "      <td>24.74</td>\n",
       "      <td>606617.92</td>\n",
       "      <td>5.263779</td>\n",
       "      <td>9.169755e+08</td>\n",
       "      <td>0.066154</td>\n",
       "    </tr>\n",
       "    <tr>\n",
       "      <th>3</th>\n",
       "      <td>Blue Chips</td>\n",
       "      <td>WEGE3.SA</td>\n",
       "      <td>40206</td>\n",
       "      <td>40.55</td>\n",
       "      <td>1630386.35</td>\n",
       "      <td>14.147281</td>\n",
       "      <td>2.558190e+08</td>\n",
       "      <td>0.637320</td>\n",
       "    </tr>\n",
       "    <tr>\n",
       "      <th>4</th>\n",
       "      <td>Blue Chips</td>\n",
       "      <td>BBDC4.SA</td>\n",
       "      <td>28122</td>\n",
       "      <td>13.17</td>\n",
       "      <td>370367.51</td>\n",
       "      <td>3.213774</td>\n",
       "      <td>6.648318e+08</td>\n",
       "      <td>0.055708</td>\n",
       "    </tr>\n",
       "  </tbody>\n",
       "</table>\n",
       "</div>"
      ],
      "text/plain": [
       "    Portfolio     Ativo    Qtd  Preco  Valor da posição   \n",
       "0  Blue Chips  VALE3.SA  17169  80.29        1378517.92  \\\n",
       "1  Blue Chips  PETR4.SA  44683  23.45        1047819.60   \n",
       "2  Blue Chips  ITUB4.SA  24519  24.74         606617.92   \n",
       "3  Blue Chips  WEGE3.SA  40206  40.55        1630386.35   \n",
       "4  Blue Chips  BBDC4.SA  28122  13.17         370367.51   \n",
       "\n",
       "   Concentração da posição (%)      ADTV 30D  (%) do ADTV 30D  \n",
       "0                    11.961754  1.846490e+09         0.074656  \n",
       "1                     9.092200  1.562901e+09         0.067043  \n",
       "2                     5.263779  9.169755e+08         0.066154  \n",
       "3                    14.147281  2.558190e+08         0.637320  \n",
       "4                     3.213774  6.648318e+08         0.055708  "
      ]
     },
     "execution_count": 10,
     "metadata": {},
     "output_type": "execute_result"
    }
   ],
   "source": [
    "base_date = '2023-03-31'\n",
    "\n",
    "df_concentration_list = []\n",
    "\n",
    "#Acrescentando o retorno dos portfólios\n",
    "for index, row in tqdm(df_portfolio_list.iterrows(), total=len(df_portfolio_list)):\n",
    "    portfolio_name = row['Portfolio']\n",
    "    file_name = row['File Name']\n",
    "\n",
    "    df_portfolio = pd.read_parquet(f\"{cfg.PATH_CALCULATED_PORTFOLIO_DIR}/{file_name}\")\n",
    "\n",
    "    df_concentration_portfolio = calculate_portfolio_concentration(df_portfolio, portfolio_name, base_date)\n",
    "\n",
    "    df_concentration_list.append(df_concentration_portfolio)\n",
    "    \n",
    "\n",
    "df_concentration = pd.concat(df_concentration_list, axis=0)\n",
    "df_concentration.head()"
   ]
  },
  {
   "cell_type": "code",
   "execution_count": 11,
   "metadata": {},
   "outputs": [],
   "source": [
    "hlp.save_to_parquet(df_concentration, cfg.PATH_TABELA_CONCENTRACAO_PORTFOLIO)"
   ]
  }
 ],
 "metadata": {
  "kernelspec": {
   "display_name": "Python 3 (ipykernel)",
   "language": "python",
   "name": "python3"
  },
  "language_info": {
   "codemirror_mode": {
    "name": "ipython",
    "version": 3
   },
   "file_extension": ".py",
   "mimetype": "text/x-python",
   "name": "python",
   "nbconvert_exporter": "python",
   "pygments_lexer": "ipython3",
   "version": "3.10.10"
  },
  "orig_nbformat": 4
 },
 "nbformat": 4,
 "nbformat_minor": 2
}
