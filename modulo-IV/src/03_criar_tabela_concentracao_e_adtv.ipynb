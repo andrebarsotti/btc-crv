{
 "cells": [
  {
   "attachments": {},
   "cell_type": "markdown",
   "metadata": {},
   "source": [
    "# TPM - Atividade III\n",
    "\n",
    "Crie uma tabela com os valores das posições de cada um dos portfólios desenvolvidos, e dê os dados da posição de cada um dos fundos na data de 30/03/2023, calcule o percentual de concentração de cada um dos portfólios e a porcentagem do ADTV dos últimos 30 dias que cada posição possui."
   ]
  },
  {
   "cell_type": "code",
   "execution_count": 1,
   "metadata": {},
   "outputs": [],
   "source": [
    "import pandas as pd\n",
    "import numpy as np\n",
    "from tqdm.notebook import tqdm\n",
    "\n",
    "import config as cfg\n",
    "import helpers as hlp"
   ]
  },
  {
   "cell_type": "code",
   "execution_count": 2,
   "metadata": {},
   "outputs": [
    {
     "data": {
      "text/html": [
       "<div>\n",
       "<style scoped>\n",
       "    .dataframe tbody tr th:only-of-type {\n",
       "        vertical-align: middle;\n",
       "    }\n",
       "\n",
       "    .dataframe tbody tr th {\n",
       "        vertical-align: top;\n",
       "    }\n",
       "\n",
       "    .dataframe thead th {\n",
       "        text-align: right;\n",
       "    }\n",
       "</style>\n",
       "<table border=\"1\" class=\"dataframe\">\n",
       "  <thead>\n",
       "    <tr style=\"text-align: right;\">\n",
       "      <th></th>\n",
       "      <th>Portfolio</th>\n",
       "      <th>File Name</th>\n",
       "    </tr>\n",
       "  </thead>\n",
       "  <tbody>\n",
       "    <tr>\n",
       "      <th>0</th>\n",
       "      <td>Blue Chips</td>\n",
       "      <td>blue_chips.parquet</td>\n",
       "    </tr>\n",
       "    <tr>\n",
       "      <th>1</th>\n",
       "      <td>Mid Caps</td>\n",
       "      <td>mid_caps.parquet</td>\n",
       "    </tr>\n",
       "    <tr>\n",
       "      <th>2</th>\n",
       "      <td>Small Caps</td>\n",
       "      <td>small_caps.parquet</td>\n",
       "    </tr>\n",
       "    <tr>\n",
       "      <th>3</th>\n",
       "      <td>Micro Caps</td>\n",
       "      <td>micro_caps.parquet</td>\n",
       "    </tr>\n",
       "    <tr>\n",
       "      <th>4</th>\n",
       "      <td>High Return</td>\n",
       "      <td>high_return.parquet</td>\n",
       "    </tr>\n",
       "  </tbody>\n",
       "</table>\n",
       "</div>"
      ],
      "text/plain": [
       "     Portfolio            File Name\n",
       "0   Blue Chips   blue_chips.parquet\n",
       "1     Mid Caps     mid_caps.parquet\n",
       "2   Small Caps   small_caps.parquet\n",
       "3   Micro Caps   micro_caps.parquet\n",
       "4  High Return  high_return.parquet"
      ]
     },
     "execution_count": 2,
     "metadata": {},
     "output_type": "execute_result"
    }
   ],
   "source": [
    "# Lendo a lista de portfólios\n",
    "df_portfolio_list = pd.read_csv(f'{cfg.PATH_RESULTADOS}/portfolio_files.csv')\n",
    "\n",
    "df_portfolio_list.head()"
   ]
  },
  {
   "cell_type": "code",
   "execution_count": 3,
   "metadata": {},
   "outputs": [],
   "source": [
    "# Lendo a composição dos portfolios\n",
    "df_portfolios_asset = pd.read_parquet(cfg.PATH_PORTFOLIO_PARQUET)"
   ]
  },
  {
   "cell_type": "code",
   "execution_count": 4,
   "metadata": {},
   "outputs": [
    {
     "name": "stdout",
     "output_type": "stream",
     "text": [
      "start_date => 2023-02-28 00:00:00\n",
      "end_date => 2023-03-30 00:00:00\n"
     ]
    }
   ],
   "source": [
    "# Lendo o histórico do volume de negociações\n",
    "df_volume = pd.read_parquet(cfg.PATH_VOLUME_PARQUET)\n",
    "df_volume.set_index('Data', inplace=True)\n",
    "\n",
    "end_date = pd.to_datetime('2023-03-30')\n",
    "start_date = pd.to_datetime(end_date) - pd.DateOffset(days=30)\n",
    "\n",
    "print(f'start_date => {start_date}')\n",
    "print(f'end_date => {end_date}')\n",
    "\n",
    "mask = (df_volume.index >= start_date) & (df_volume.index <= end_date)\n",
    "df_volume = df_volume.loc[mask]\n"
   ]
  },
  {
   "cell_type": "code",
   "execution_count": 5,
   "metadata": {},
   "outputs": [],
   "source": [
    "# Recuperando a quantidade de ações dispóníveis para negociação\n",
    "df_share_outstanding = pd.read_parquet(cfg.PATH_SHARESOUTSTANDING_PARQUET)"
   ]
  },
  {
   "attachments": {},
   "cell_type": "markdown",
   "metadata": {},
   "source": [
    "## 1. Calculando para o portfólio de Blue Ships"
   ]
  },
  {
   "cell_type": "code",
   "execution_count": 6,
   "metadata": {},
   "outputs": [],
   "source": [
    "# Recuperando o arquivo\n",
    "portfolio_name = df_portfolio_list['Portfolio'].iloc[0]\n",
    "file_name = df_portfolio_list['File Name'].iloc[0]\n",
    "\n",
    "df_blue_chips = pd.read_parquet(f\"{cfg.PATH_CALCULATED_PORTFOLIO_DIR}/{file_name}\")"
   ]
  },
  {
   "cell_type": "code",
   "execution_count": 7,
   "metadata": {},
   "outputs": [],
   "source": [
    "# Recuperando a posição em 30/03/2023\n",
    "posicao_data_base = df_blue_chips.loc['2023-03-30']\n",
    "\n",
    "# Recuperando a lista dos ativos do portfloio\n",
    "stock_list = df_portfolios_asset[portfolio_name].to_list()"
   ]
  },
  {
   "cell_type": "code",
   "execution_count": 8,
   "metadata": {},
   "outputs": [
    {
     "data": {
      "application/vnd.jupyter.widget-view+json": {
       "model_id": "8383acdd971a460e868f04d8b2d2de26",
       "version_major": 2,
       "version_minor": 0
      },
      "text/plain": [
       "  0%|          | 0/15 [00:00<?, ?it/s]"
      ]
     },
     "metadata": {},
     "output_type": "display_data"
    },
    {
     "data": {
      "text/html": [
       "<div>\n",
       "<style scoped>\n",
       "    .dataframe tbody tr th:only-of-type {\n",
       "        vertical-align: middle;\n",
       "    }\n",
       "\n",
       "    .dataframe tbody tr th {\n",
       "        vertical-align: top;\n",
       "    }\n",
       "\n",
       "    .dataframe thead th {\n",
       "        text-align: right;\n",
       "    }\n",
       "</style>\n",
       "<table border=\"1\" class=\"dataframe\">\n",
       "  <thead>\n",
       "    <tr style=\"text-align: right;\">\n",
       "      <th></th>\n",
       "      <th>Ativo</th>\n",
       "      <th>Qtd</th>\n",
       "      <th>Preco</th>\n",
       "      <th>Valor da posição</th>\n",
       "      <th>Concentração da posição (%)</th>\n",
       "      <th>ADTV 30D (%)</th>\n",
       "    </tr>\n",
       "  </thead>\n",
       "  <tbody>\n",
       "    <tr>\n",
       "      <th>0</th>\n",
       "      <td>VALE3.SA</td>\n",
       "      <td>17169</td>\n",
       "      <td>81.82</td>\n",
       "      <td>1404767.58</td>\n",
       "      <td>11.967548</td>\n",
       "      <td>41.473876</td>\n",
       "    </tr>\n",
       "    <tr>\n",
       "      <th>1</th>\n",
       "      <td>PETR4.SA</td>\n",
       "      <td>44683</td>\n",
       "      <td>23.97</td>\n",
       "      <td>1071051.51</td>\n",
       "      <td>9.124542</td>\n",
       "      <td>29.369777</td>\n",
       "    </tr>\n",
       "    <tr>\n",
       "      <th>2</th>\n",
       "      <td>ITUB4.SA</td>\n",
       "      <td>24520</td>\n",
       "      <td>24.62</td>\n",
       "      <td>603682.40</td>\n",
       "      <td>5.142914</td>\n",
       "      <td>18.244404</td>\n",
       "    </tr>\n",
       "    <tr>\n",
       "      <th>3</th>\n",
       "      <td>WEGE3.SA</td>\n",
       "      <td>40207</td>\n",
       "      <td>41.86</td>\n",
       "      <td>1683065.02</td>\n",
       "      <td>14.338430</td>\n",
       "      <td>5.940912</td>\n",
       "    </tr>\n",
       "    <tr>\n",
       "      <th>4</th>\n",
       "      <td>BBDC4.SA</td>\n",
       "      <td>28122</td>\n",
       "      <td>13.38</td>\n",
       "      <td>376272.36</td>\n",
       "      <td>3.205553</td>\n",
       "      <td>12.286943</td>\n",
       "    </tr>\n",
       "  </tbody>\n",
       "</table>\n",
       "</div>"
      ],
      "text/plain": [
       "      Ativo    Qtd  Preco  Valor da posição  Concentração da posição (%)  \\\n",
       "0  VALE3.SA  17169  81.82        1404767.58                    11.967548   \n",
       "1  PETR4.SA  44683  23.97        1071051.51                     9.124542   \n",
       "2  ITUB4.SA  24520  24.62         603682.40                     5.142914   \n",
       "3  WEGE3.SA  40207  41.86        1683065.02                    14.338430   \n",
       "4  BBDC4.SA  28122  13.38         376272.36                     3.205553   \n",
       "\n",
       "   ADTV 30D (%)  \n",
       "0     41.473876  \n",
       "1     29.369777  \n",
       "2     18.244404  \n",
       "3      5.940912  \n",
       "4     12.286943  "
      ]
     },
     "execution_count": 8,
     "metadata": {},
     "output_type": "execute_result"
    }
   ],
   "source": [
    "# Calculando a concentração do portfolio\n",
    "concentration_list = []\n",
    "\n",
    "for stock in tqdm(stock_list):\n",
    "    mean_volume = df_volume[stock].mean()\n",
    "    shares_outstanding = df_share_outstanding[df_share_outstanding['Stock'] == stock]['SharesOutstanding'].values[0]\n",
    "\n",
    "    position = {\n",
    "        'Ativo': stock,\n",
    "        'Qtd': int(posicao_data_base[f'{stock}_qtd']),\n",
    "        'Preco': posicao_data_base[f'{stock}_price'],\n",
    "        'Valor da posição': posicao_data_base[stock],\n",
    "        'Concentração da posição (%)': posicao_data_base[stock]/posicao_data_base['TOTAL AMOUNT'] * 100,\n",
    "        'ADTV 30D (%)': mean_volume / shares_outstanding * 100\n",
    "    }\n",
    "    concentration_list.append(position)\n",
    "\n",
    "df_concentration = pd.DataFrame(concentration_list)\n",
    "\n",
    "df_concentration.head()"
   ]
  },
  {
   "attachments": {},
   "cell_type": "markdown",
   "metadata": {},
   "source": [
    "## 2. Calculando para todos os portfolios."
   ]
  },
  {
   "cell_type": "code",
   "execution_count": 9,
   "metadata": {},
   "outputs": [],
   "source": [
    "def calculate_portfolio_concentration(df, portfolio_name, base_date):\n",
    "    # Recuperando a lista dos ativos do portfloio\n",
    "    stock_list = df_portfolios_asset[portfolio_name].to_list()  \n",
    "\n",
    "    base_position = df.loc[base_date]\n",
    "    \n",
    "    # Calculando a concentração do portfolio\n",
    "    concentration_list = []\n",
    "\n",
    "    for stock in stock_list:\n",
    "        mean_volume = df_volume[stock].mean()\n",
    "        shares_outstanding = df_share_outstanding[df_share_outstanding['Stock'] == stock]['SharesOutstanding'].values[0]\n",
    "\n",
    "        position = {\n",
    "            'Porfolio': portfolio_name,\n",
    "            'Ativo': stock,\n",
    "            'Qtd': int(base_position[f'{stock}_qtd']),\n",
    "            'Preco': base_position[f'{stock}_price'],\n",
    "            'Valor da posição': base_position[stock],\n",
    "            'Concentração da posição (%)': base_position[stock]/base_position['TOTAL AMOUNT'] * 100,\n",
    "            'ADTV 30D (%)': mean_volume / shares_outstanding * 100\n",
    "        }\n",
    "        concentration_list.append(position)\n",
    "\n",
    "    df_concentration = pd.DataFrame(concentration_list)\n",
    "\n",
    "    return df_concentration\n"
   ]
  },
  {
   "cell_type": "code",
   "execution_count": 10,
   "metadata": {},
   "outputs": [
    {
     "data": {
      "application/vnd.jupyter.widget-view+json": {
       "model_id": "b3534f50652649768323fec16780248c",
       "version_major": 2,
       "version_minor": 0
      },
      "text/plain": [
       "  0%|          | 0/24 [00:00<?, ?it/s]"
      ]
     },
     "metadata": {},
     "output_type": "display_data"
    },
    {
     "data": {
      "text/html": [
       "<div>\n",
       "<style scoped>\n",
       "    .dataframe tbody tr th:only-of-type {\n",
       "        vertical-align: middle;\n",
       "    }\n",
       "\n",
       "    .dataframe tbody tr th {\n",
       "        vertical-align: top;\n",
       "    }\n",
       "\n",
       "    .dataframe thead th {\n",
       "        text-align: right;\n",
       "    }\n",
       "</style>\n",
       "<table border=\"1\" class=\"dataframe\">\n",
       "  <thead>\n",
       "    <tr style=\"text-align: right;\">\n",
       "      <th></th>\n",
       "      <th>Porfolio</th>\n",
       "      <th>Ativo</th>\n",
       "      <th>Qtd</th>\n",
       "      <th>Preco</th>\n",
       "      <th>Valor da posição</th>\n",
       "      <th>Concentração da posição (%)</th>\n",
       "      <th>ADTV 30D (%)</th>\n",
       "    </tr>\n",
       "  </thead>\n",
       "  <tbody>\n",
       "    <tr>\n",
       "      <th>0</th>\n",
       "      <td>Blue Chips</td>\n",
       "      <td>VALE3.SA</td>\n",
       "      <td>17169</td>\n",
       "      <td>81.82</td>\n",
       "      <td>1404767.58</td>\n",
       "      <td>11.967548</td>\n",
       "      <td>41.473876</td>\n",
       "    </tr>\n",
       "    <tr>\n",
       "      <th>1</th>\n",
       "      <td>Blue Chips</td>\n",
       "      <td>PETR4.SA</td>\n",
       "      <td>44683</td>\n",
       "      <td>23.97</td>\n",
       "      <td>1071051.51</td>\n",
       "      <td>9.124542</td>\n",
       "      <td>29.369777</td>\n",
       "    </tr>\n",
       "    <tr>\n",
       "      <th>2</th>\n",
       "      <td>Blue Chips</td>\n",
       "      <td>ITUB4.SA</td>\n",
       "      <td>24520</td>\n",
       "      <td>24.62</td>\n",
       "      <td>603682.40</td>\n",
       "      <td>5.142914</td>\n",
       "      <td>18.244404</td>\n",
       "    </tr>\n",
       "    <tr>\n",
       "      <th>3</th>\n",
       "      <td>Blue Chips</td>\n",
       "      <td>WEGE3.SA</td>\n",
       "      <td>40207</td>\n",
       "      <td>41.86</td>\n",
       "      <td>1683065.02</td>\n",
       "      <td>14.338430</td>\n",
       "      <td>5.940912</td>\n",
       "    </tr>\n",
       "    <tr>\n",
       "      <th>4</th>\n",
       "      <td>Blue Chips</td>\n",
       "      <td>BBDC4.SA</td>\n",
       "      <td>28122</td>\n",
       "      <td>13.38</td>\n",
       "      <td>376272.36</td>\n",
       "      <td>3.205553</td>\n",
       "      <td>12.286943</td>\n",
       "    </tr>\n",
       "  </tbody>\n",
       "</table>\n",
       "</div>"
      ],
      "text/plain": [
       "     Porfolio     Ativo    Qtd  Preco  Valor da posição  \\\n",
       "0  Blue Chips  VALE3.SA  17169  81.82        1404767.58   \n",
       "1  Blue Chips  PETR4.SA  44683  23.97        1071051.51   \n",
       "2  Blue Chips  ITUB4.SA  24520  24.62         603682.40   \n",
       "3  Blue Chips  WEGE3.SA  40207  41.86        1683065.02   \n",
       "4  Blue Chips  BBDC4.SA  28122  13.38         376272.36   \n",
       "\n",
       "   Concentração da posição (%)  ADTV 30D (%)  \n",
       "0                    11.967548     41.473876  \n",
       "1                     9.124542     29.369777  \n",
       "2                     5.142914     18.244404  \n",
       "3                    14.338430      5.940912  \n",
       "4                     3.205553     12.286943  "
      ]
     },
     "execution_count": 10,
     "metadata": {},
     "output_type": "execute_result"
    }
   ],
   "source": [
    "base_date = '2023-03-30'\n",
    "\n",
    "df_concentration_list = []\n",
    "\n",
    "#Acrescentando o retorno dos portfólios\n",
    "for index, row in tqdm(df_portfolio_list.iterrows(), total=len(df_portfolio_list)):\n",
    "    portfolio_name = row['Portfolio']\n",
    "    file_name = row['File Name']\n",
    "\n",
    "    df_portfolio = pd.read_parquet(f\"{cfg.PATH_CALCULATED_PORTFOLIO_DIR}/{file_name}\")\n",
    "\n",
    "    df_concentration_portfolio = calculate_portfolio_concentration(df_portfolio, portfolio_name, base_date)\n",
    "\n",
    "    df_concentration_list.append(df_concentration_portfolio)\n",
    "    \n",
    "\n",
    "df_concentration = pd.concat(df_concentration_list, axis=0)\n",
    "df_concentration.head()"
   ]
  },
  {
   "cell_type": "code",
   "execution_count": 11,
   "metadata": {},
   "outputs": [],
   "source": [
    "hlp.save_to_parquet(df_concentration, cfg.PATH_TABELA_CONCENTRACAO_PORTFOLIO)"
   ]
  }
 ],
 "metadata": {
  "kernelspec": {
   "display_name": "Python 3 (ipykernel)",
   "language": "python",
   "name": "python3"
  },
  "language_info": {
   "codemirror_mode": {
    "name": "ipython",
    "version": 3
   },
   "file_extension": ".py",
   "mimetype": "text/x-python",
   "name": "python",
   "nbconvert_exporter": "python",
   "pygments_lexer": "ipython3",
   "version": "3.10.10"
  },
  "orig_nbformat": 4
 },
 "nbformat": 4,
 "nbformat_minor": 2
}
